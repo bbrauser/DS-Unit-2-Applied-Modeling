{
 "cells": [
  {
   "cell_type": "markdown",
   "metadata": {
    "colab_type": "text",
    "id": "nCc3XZEyG3XV"
   },
   "source": [
    "Lambda School Data Science\n",
    "\n",
    "*Unit 2, Sprint 3, Module 1*\n",
    "\n",
    "---\n",
    "\n",
    "\n",
    "# Define ML problems\n",
    "\n",
    "You will use your portfolio project dataset for all assignments this sprint.\n",
    "\n",
    "## Assignment\n",
    "\n",
    "Complete these tasks for your project, and document your decisions.\n",
    "\n",
    "- [ ] Choose your target. Which column in your tabular dataset will you predict?\n",
    "- [ ] Is your problem regression or classification?\n",
    "- [ ] How is your target distributed?\n",
    "    - Classification: How many classes? Are the classes imbalanced?\n",
    "    - Regression: Is the target right-skewed? If so, you may want to log transform the target.\n",
    "- [ ] Choose your evaluation metric(s).\n",
    "    - Classification: Is your majority class frequency >= 50% and < 70% ? If so, you can just use accuracy if you want. Outside that range, accuracy could be misleading. What evaluation metric will you choose, in addition to or instead of accuracy?\n",
    "    - Regression: Will you use mean absolute error, root mean squared error, R^2, or other regression metrics?\n",
    "- [ ] Choose which observations you will use to train, validate, and test your model.\n",
    "    - Are some observations outliers? Will you exclude them?\n",
    "    - Will you do a random split or a time-based split?\n",
    "- [ ] Begin to clean and explore your data.\n",
    "- [ ] Begin to choose which features, if any, to exclude. Would some features \"leak\" future information?\n",
    "\n",
    "If you haven't found a dataset yet, do that today. [Review requirements for your portfolio project](https://lambdaschool.github.io/ds/unit2) and choose your dataset.\n",
    "\n",
    "Some students worry, ***what if my model isn't “good”?*** Then, [produce a detailed tribute to your wrongness. That is science!](https://twitter.com/nathanwpyle/status/1176860147223867393)"
   ]
  },
  {
   "cell_type": "markdown",
   "metadata": {},
   "source": [
    "# Wrangle ML datasets (From 231 assignment)\n",
    "[ ] Continue to clean and explore your data.\n",
    "\n",
    "[ ] For the evaluation metric you chose, what score would you get just by guessing?\n",
    "\n",
    "[ ] Can you make a fast, first model that beats guessing?"
   ]
  },
  {
   "cell_type": "markdown",
   "metadata": {},
   "source": [
    "Lambda School Data Science\n",
    "\n",
    "*Unit 2, Sprint 3, Module 3*\n",
    "\n",
    "---\n",
    "\n",
    "\n",
    "# Permutation & Boosting\n",
    "\n",
    "You will use your portfolio project dataset for all assignments this sprint.\n",
    "\n",
    "## Assignment\n",
    "\n",
    "Complete these tasks for your project, and document your work.\n",
    "\n",
    "- [ ] If you haven't completed assignment #1, please do so first.\n",
    "- [ ] Continue to clean and explore your data. Make exploratory visualizations.\n",
    "- [ ] Fit a model. Does it beat your baseline? \n",
    "- [ ] Try xgboost.\n",
    "- [ ] Get your model's permutation importances.\n",
    "\n",
    "You should try to complete an initial model today, because the rest of the week, we're making model interpretation visualizations.\n",
    "\n",
    "But, if you aren't ready to try xgboost and permutation importances with your dataset today, that's okay. You can practice with another dataset instead. You may choose any dataset you've worked with previously.\n",
    "\n",
    "The data subdirectory includes the Titanic dataset for classification and the NYC apartments dataset for regression. You may want to choose one of these datasets, because example solutions will be available for each.\n",
    "\n",
    "\n",
    "## Reading\n",
    "\n",
    "Top recommendations in _**bold italic:**_\n",
    "\n",
    "#### Permutation Importances\n",
    "- _**[Kaggle / Dan Becker: Machine Learning Explainability](https://www.kaggle.com/dansbecker/permutation-importance)**_\n",
    "- [Christoph Molnar: Interpretable Machine Learning](https://christophm.github.io/interpretable-ml-book/feature-importance.html)\n",
    "\n",
    "#### (Default) Feature Importances\n",
    "  - [Ando Saabas: Selecting good features, Part 3, Random Forests](https://blog.datadive.net/selecting-good-features-part-iii-random-forests/)\n",
    "  - [Terence Parr, et al: Beware Default Random Forest Importances](https://explained.ai/rf-importance/index.html)\n",
    "\n",
    "#### Gradient Boosting\n",
    "  - [A Gentle Introduction to the Gradient Boosting Algorithm for Machine Learning](https://machinelearningmastery.com/gentle-introduction-gradient-boosting-algorithm-machine-learning/)\n",
    "  - [An Introduction to Statistical Learning](http://www-bcf.usc.edu/~gareth/ISL/ISLR%20Seventh%20Printing.pdf), Chapter 8\n",
    "  - _**[Gradient Boosting Explained](https://www.gormanalysis.com/blog/gradient-boosting-explained/)**_ — Ben Gorman\n",
    "  - [Gradient Boosting Explained](http://arogozhnikov.github.io/2016/06/24/gradient_boosting_explained.html) — Alex Rogozhnikov\n",
    "  - [How to explain gradient boosting](https://explained.ai/gradient-boosting/) — Terence Parr & Jeremy Howard"
   ]
  },
  {
   "cell_type": "markdown",
   "metadata": {},
   "source": [
    "# Uploading Data Set"
   ]
  },
  {
   "cell_type": "code",
   "execution_count": 213,
   "metadata": {},
   "outputs": [],
   "source": [
    "import sys\n",
    "\n",
    "# If you're on Colab:\n",
    "if 'google.colab' in sys.modules:\n",
    "    DATA_PATH = 'https://raw.githubusercontent.com/LambdaSchool/DS-Unit-2-Applied-Modeling/master/data/'\n",
    "\n",
    "# If you're working locally:\n",
    "else:\n",
    "    DATA_PATH = '../data/'\n",
    "    \n",
    "# Ignore this Numpy warning when using Plotly Express:\n",
    "# FutureWarning: Method .ptp is deprecated and will be removed in a future version. Use numpy.ptp instead.\n",
    "import warnings\n",
    "warnings.filterwarnings(action='ignore', category=FutureWarning, module='numpy')"
   ]
  },
  {
   "cell_type": "code",
   "execution_count": 214,
   "metadata": {},
   "outputs": [],
   "source": [
    "import pandas as pd\n",
    "import numpy as np\n",
    "from sklearn.model_selection import train_test_split\n",
    "\n",
    "df = pd.read_csv('/Users/bradbrauser/Desktop/Data Science/MoviesOnStreamingPlatforms_updated.csv')"
   ]
  },
  {
   "cell_type": "code",
   "execution_count": 239,
   "metadata": {},
   "outputs": [
    {
     "data": {
      "text/plain": [
       "(16744, 17)"
      ]
     },
     "execution_count": 239,
     "metadata": {},
     "output_type": "execute_result"
    }
   ],
   "source": [
    "df.shape"
   ]
  },
  {
   "cell_type": "markdown",
   "metadata": {},
   "source": [
    "# Which column in your tabular dataset will you predict, and how is your target distributed?\n",
    "\n",
    "The dataset has two rating features - IMDb and Rotten Tomatoes.\n",
    "\n",
    "IMDb is great for seeing what general audiences think of a movie. If you don’t care what the critics say and want to see what people like yourself think of a movie, then you should use IMDb. Just be aware that fans often skew the vote with 10-star ratings, which may inflate scores somewhat.\n",
    "\n",
    "Rotten Tomatoes offers the best overall picture of whether a movie is worth seeing at a glance. If you only trust the opinions of top critics and just want to know if a movie is at least decent, you should use Rotten Tomatoes. While the Fresh/Rotten binary can oversimplify the often complex opinions of critics, it should still help you weed out lousy films.\n",
    "\n",
    "My goal with this project is more in line with IMDb, as even though scores may be skewed a bit by fans of the movies, I still want to know what the public thinks, because it seems that more often than not critics do not always line up with the public opinion."
   ]
  },
  {
   "cell_type": "code",
   "execution_count": 240,
   "metadata": {},
   "outputs": [
    {
     "name": "stdout",
     "output_type": "stream",
     "text": [
      "571\n",
      "11586\n"
     ]
    }
   ],
   "source": [
    "print(df['IMDb'].isnull().sum())\n",
    "print(df['Rotten Tomatoes'].isnull().sum())"
   ]
  },
  {
   "cell_type": "markdown",
   "metadata": {},
   "source": [
    "Since the Rotten Tomatoes features has over 11,000 missing ratings, I'm going to just drop t"
   ]
  },
  {
   "cell_type": "code",
   "execution_count": 230,
   "metadata": {},
   "outputs": [
    {
     "ename": "TypeError",
     "evalue": "unsupported operand type(s) for +: 'float' and 'str'",
     "output_type": "error",
     "traceback": [
      "\u001b[0;31m---------------------------------------------------------------------------\u001b[0m",
      "\u001b[0;31mTypeError\u001b[0m                                 Traceback (most recent call last)",
      "\u001b[0;32m~/opt/anaconda3/envs/unit2/lib/python3.7/site-packages/pandas/core/ops/array_ops.py\u001b[0m in \u001b[0;36mna_arithmetic_op\u001b[0;34m(left, right, op, str_rep)\u001b[0m\n\u001b[1;32m    148\u001b[0m     \u001b[0;32mtry\u001b[0m\u001b[0;34m:\u001b[0m\u001b[0;34m\u001b[0m\u001b[0;34m\u001b[0m\u001b[0m\n\u001b[0;32m--> 149\u001b[0;31m         \u001b[0mresult\u001b[0m \u001b[0;34m=\u001b[0m \u001b[0mexpressions\u001b[0m\u001b[0;34m.\u001b[0m\u001b[0mevaluate\u001b[0m\u001b[0;34m(\u001b[0m\u001b[0mop\u001b[0m\u001b[0;34m,\u001b[0m \u001b[0mstr_rep\u001b[0m\u001b[0;34m,\u001b[0m \u001b[0mleft\u001b[0m\u001b[0;34m,\u001b[0m \u001b[0mright\u001b[0m\u001b[0;34m)\u001b[0m\u001b[0;34m\u001b[0m\u001b[0;34m\u001b[0m\u001b[0m\n\u001b[0m\u001b[1;32m    150\u001b[0m     \u001b[0;32mexcept\u001b[0m \u001b[0mTypeError\u001b[0m\u001b[0;34m:\u001b[0m\u001b[0;34m\u001b[0m\u001b[0;34m\u001b[0m\u001b[0m\n",
      "\u001b[0;32m~/opt/anaconda3/envs/unit2/lib/python3.7/site-packages/pandas/core/computation/expressions.py\u001b[0m in \u001b[0;36mevaluate\u001b[0;34m(op, op_str, a, b, use_numexpr)\u001b[0m\n\u001b[1;32m    207\u001b[0m     \u001b[0;32mif\u001b[0m \u001b[0muse_numexpr\u001b[0m\u001b[0;34m:\u001b[0m\u001b[0;34m\u001b[0m\u001b[0;34m\u001b[0m\u001b[0m\n\u001b[0;32m--> 208\u001b[0;31m         \u001b[0;32mreturn\u001b[0m \u001b[0m_evaluate\u001b[0m\u001b[0;34m(\u001b[0m\u001b[0mop\u001b[0m\u001b[0;34m,\u001b[0m \u001b[0mop_str\u001b[0m\u001b[0;34m,\u001b[0m \u001b[0ma\u001b[0m\u001b[0;34m,\u001b[0m \u001b[0mb\u001b[0m\u001b[0;34m)\u001b[0m\u001b[0;34m\u001b[0m\u001b[0;34m\u001b[0m\u001b[0m\n\u001b[0m\u001b[1;32m    209\u001b[0m     \u001b[0;32mreturn\u001b[0m \u001b[0m_evaluate_standard\u001b[0m\u001b[0;34m(\u001b[0m\u001b[0mop\u001b[0m\u001b[0;34m,\u001b[0m \u001b[0mop_str\u001b[0m\u001b[0;34m,\u001b[0m \u001b[0ma\u001b[0m\u001b[0;34m,\u001b[0m \u001b[0mb\u001b[0m\u001b[0;34m)\u001b[0m\u001b[0;34m\u001b[0m\u001b[0;34m\u001b[0m\u001b[0m\n",
      "\u001b[0;32m~/opt/anaconda3/envs/unit2/lib/python3.7/site-packages/pandas/core/computation/expressions.py\u001b[0m in \u001b[0;36m_evaluate_standard\u001b[0;34m(op, op_str, a, b)\u001b[0m\n\u001b[1;32m     69\u001b[0m     \u001b[0;32mwith\u001b[0m \u001b[0mnp\u001b[0m\u001b[0;34m.\u001b[0m\u001b[0merrstate\u001b[0m\u001b[0;34m(\u001b[0m\u001b[0mall\u001b[0m\u001b[0;34m=\u001b[0m\u001b[0;34m\"ignore\"\u001b[0m\u001b[0;34m)\u001b[0m\u001b[0;34m:\u001b[0m\u001b[0;34m\u001b[0m\u001b[0;34m\u001b[0m\u001b[0m\n\u001b[0;32m---> 70\u001b[0;31m         \u001b[0;32mreturn\u001b[0m \u001b[0mop\u001b[0m\u001b[0;34m(\u001b[0m\u001b[0ma\u001b[0m\u001b[0;34m,\u001b[0m \u001b[0mb\u001b[0m\u001b[0;34m)\u001b[0m\u001b[0;34m\u001b[0m\u001b[0;34m\u001b[0m\u001b[0m\n\u001b[0m\u001b[1;32m     71\u001b[0m \u001b[0;34m\u001b[0m\u001b[0m\n",
      "\u001b[0;31mTypeError\u001b[0m: unsupported operand type(s) for +: 'float' and 'str'",
      "\nDuring handling of the above exception, another exception occurred:\n",
      "\u001b[0;31mTypeError\u001b[0m                                 Traceback (most recent call last)",
      "\u001b[0;32m<ipython-input-230-27523fc6a68e>\u001b[0m in \u001b[0;36m<module>\u001b[0;34m\u001b[0m\n\u001b[1;32m      1\u001b[0m \u001b[0;31m# Beginning to create target for model - getting the average of the\u001b[0m\u001b[0;34m\u001b[0m\u001b[0;34m\u001b[0m\u001b[0;34m\u001b[0m\u001b[0m\n\u001b[1;32m      2\u001b[0m \u001b[0;31m# IMDb and Rotten Tomatoes ratings\u001b[0m\u001b[0;34m\u001b[0m\u001b[0;34m\u001b[0m\u001b[0;34m\u001b[0m\u001b[0m\n\u001b[0;32m----> 3\u001b[0;31m \u001b[0mdf\u001b[0m\u001b[0;34m[\u001b[0m\u001b[0;34m'Rating'\u001b[0m\u001b[0;34m]\u001b[0m \u001b[0;34m=\u001b[0m \u001b[0;34m(\u001b[0m\u001b[0;34m(\u001b[0m\u001b[0mdf\u001b[0m\u001b[0;34m[\u001b[0m\u001b[0;34m'IMDb'\u001b[0m\u001b[0;34m]\u001b[0m \u001b[0;34m+\u001b[0m \u001b[0mdf\u001b[0m\u001b[0;34m[\u001b[0m\u001b[0;34m'Rotten Tomatoes'\u001b[0m\u001b[0;34m]\u001b[0m\u001b[0;34m)\u001b[0m \u001b[0;34m/\u001b[0m \u001b[0;36m2\u001b[0m\u001b[0;34m)\u001b[0m\u001b[0;34m\u001b[0m\u001b[0;34m\u001b[0m\u001b[0m\n\u001b[0m\u001b[1;32m      4\u001b[0m \u001b[0mdf\u001b[0m\u001b[0;34m[\u001b[0m\u001b[0;34m'Rating'\u001b[0m\u001b[0;34m]\u001b[0m \u001b[0;34m=\u001b[0m \u001b[0mdf\u001b[0m\u001b[0;34m[\u001b[0m\u001b[0;34m'Rating'\u001b[0m\u001b[0;34m]\u001b[0m\u001b[0;34m.\u001b[0m\u001b[0mastype\u001b[0m\u001b[0;34m(\u001b[0m\u001b[0mfloat\u001b[0m\u001b[0;34m)\u001b[0m\u001b[0;34m\u001b[0m\u001b[0;34m\u001b[0m\u001b[0m\n\u001b[1;32m      5\u001b[0m \u001b[0;34m\u001b[0m\u001b[0m\n",
      "\u001b[0;32m~/opt/anaconda3/envs/unit2/lib/python3.7/site-packages/pandas/core/ops/common.py\u001b[0m in \u001b[0;36mnew_method\u001b[0;34m(self, other)\u001b[0m\n\u001b[1;32m     62\u001b[0m         \u001b[0mother\u001b[0m \u001b[0;34m=\u001b[0m \u001b[0mitem_from_zerodim\u001b[0m\u001b[0;34m(\u001b[0m\u001b[0mother\u001b[0m\u001b[0;34m)\u001b[0m\u001b[0;34m\u001b[0m\u001b[0;34m\u001b[0m\u001b[0m\n\u001b[1;32m     63\u001b[0m \u001b[0;34m\u001b[0m\u001b[0m\n\u001b[0;32m---> 64\u001b[0;31m         \u001b[0;32mreturn\u001b[0m \u001b[0mmethod\u001b[0m\u001b[0;34m(\u001b[0m\u001b[0mself\u001b[0m\u001b[0;34m,\u001b[0m \u001b[0mother\u001b[0m\u001b[0;34m)\u001b[0m\u001b[0;34m\u001b[0m\u001b[0;34m\u001b[0m\u001b[0m\n\u001b[0m\u001b[1;32m     65\u001b[0m \u001b[0;34m\u001b[0m\u001b[0m\n\u001b[1;32m     66\u001b[0m     \u001b[0;32mreturn\u001b[0m \u001b[0mnew_method\u001b[0m\u001b[0;34m\u001b[0m\u001b[0;34m\u001b[0m\u001b[0m\n",
      "\u001b[0;32m~/opt/anaconda3/envs/unit2/lib/python3.7/site-packages/pandas/core/ops/__init__.py\u001b[0m in \u001b[0;36mwrapper\u001b[0;34m(left, right)\u001b[0m\n\u001b[1;32m    501\u001b[0m         \u001b[0mlvalues\u001b[0m \u001b[0;34m=\u001b[0m \u001b[0mextract_array\u001b[0m\u001b[0;34m(\u001b[0m\u001b[0mleft\u001b[0m\u001b[0;34m,\u001b[0m \u001b[0mextract_numpy\u001b[0m\u001b[0;34m=\u001b[0m\u001b[0;32mTrue\u001b[0m\u001b[0;34m)\u001b[0m\u001b[0;34m\u001b[0m\u001b[0;34m\u001b[0m\u001b[0m\n\u001b[1;32m    502\u001b[0m         \u001b[0mrvalues\u001b[0m \u001b[0;34m=\u001b[0m \u001b[0mextract_array\u001b[0m\u001b[0;34m(\u001b[0m\u001b[0mright\u001b[0m\u001b[0;34m,\u001b[0m \u001b[0mextract_numpy\u001b[0m\u001b[0;34m=\u001b[0m\u001b[0;32mTrue\u001b[0m\u001b[0;34m)\u001b[0m\u001b[0;34m\u001b[0m\u001b[0;34m\u001b[0m\u001b[0m\n\u001b[0;32m--> 503\u001b[0;31m         \u001b[0mresult\u001b[0m \u001b[0;34m=\u001b[0m \u001b[0marithmetic_op\u001b[0m\u001b[0;34m(\u001b[0m\u001b[0mlvalues\u001b[0m\u001b[0;34m,\u001b[0m \u001b[0mrvalues\u001b[0m\u001b[0;34m,\u001b[0m \u001b[0mop\u001b[0m\u001b[0;34m,\u001b[0m \u001b[0mstr_rep\u001b[0m\u001b[0;34m)\u001b[0m\u001b[0;34m\u001b[0m\u001b[0;34m\u001b[0m\u001b[0m\n\u001b[0m\u001b[1;32m    504\u001b[0m \u001b[0;34m\u001b[0m\u001b[0m\n\u001b[1;32m    505\u001b[0m         \u001b[0;32mreturn\u001b[0m \u001b[0m_construct_result\u001b[0m\u001b[0;34m(\u001b[0m\u001b[0mleft\u001b[0m\u001b[0;34m,\u001b[0m \u001b[0mresult\u001b[0m\u001b[0;34m,\u001b[0m \u001b[0mindex\u001b[0m\u001b[0;34m=\u001b[0m\u001b[0mleft\u001b[0m\u001b[0;34m.\u001b[0m\u001b[0mindex\u001b[0m\u001b[0;34m,\u001b[0m \u001b[0mname\u001b[0m\u001b[0;34m=\u001b[0m\u001b[0mres_name\u001b[0m\u001b[0;34m)\u001b[0m\u001b[0;34m\u001b[0m\u001b[0;34m\u001b[0m\u001b[0m\n",
      "\u001b[0;32m~/opt/anaconda3/envs/unit2/lib/python3.7/site-packages/pandas/core/ops/array_ops.py\u001b[0m in \u001b[0;36marithmetic_op\u001b[0;34m(left, right, op, str_rep)\u001b[0m\n\u001b[1;32m    195\u001b[0m     \u001b[0;32melse\u001b[0m\u001b[0;34m:\u001b[0m\u001b[0;34m\u001b[0m\u001b[0;34m\u001b[0m\u001b[0m\n\u001b[1;32m    196\u001b[0m         \u001b[0;32mwith\u001b[0m \u001b[0mnp\u001b[0m\u001b[0;34m.\u001b[0m\u001b[0merrstate\u001b[0m\u001b[0;34m(\u001b[0m\u001b[0mall\u001b[0m\u001b[0;34m=\u001b[0m\u001b[0;34m\"ignore\"\u001b[0m\u001b[0;34m)\u001b[0m\u001b[0;34m:\u001b[0m\u001b[0;34m\u001b[0m\u001b[0;34m\u001b[0m\u001b[0m\n\u001b[0;32m--> 197\u001b[0;31m             \u001b[0mres_values\u001b[0m \u001b[0;34m=\u001b[0m \u001b[0mna_arithmetic_op\u001b[0m\u001b[0;34m(\u001b[0m\u001b[0mlvalues\u001b[0m\u001b[0;34m,\u001b[0m \u001b[0mrvalues\u001b[0m\u001b[0;34m,\u001b[0m \u001b[0mop\u001b[0m\u001b[0;34m,\u001b[0m \u001b[0mstr_rep\u001b[0m\u001b[0;34m)\u001b[0m\u001b[0;34m\u001b[0m\u001b[0;34m\u001b[0m\u001b[0m\n\u001b[0m\u001b[1;32m    198\u001b[0m \u001b[0;34m\u001b[0m\u001b[0m\n\u001b[1;32m    199\u001b[0m     \u001b[0;32mreturn\u001b[0m \u001b[0mres_values\u001b[0m\u001b[0;34m\u001b[0m\u001b[0;34m\u001b[0m\u001b[0m\n",
      "\u001b[0;32m~/opt/anaconda3/envs/unit2/lib/python3.7/site-packages/pandas/core/ops/array_ops.py\u001b[0m in \u001b[0;36mna_arithmetic_op\u001b[0;34m(left, right, op, str_rep)\u001b[0m\n\u001b[1;32m    149\u001b[0m         \u001b[0mresult\u001b[0m \u001b[0;34m=\u001b[0m \u001b[0mexpressions\u001b[0m\u001b[0;34m.\u001b[0m\u001b[0mevaluate\u001b[0m\u001b[0;34m(\u001b[0m\u001b[0mop\u001b[0m\u001b[0;34m,\u001b[0m \u001b[0mstr_rep\u001b[0m\u001b[0;34m,\u001b[0m \u001b[0mleft\u001b[0m\u001b[0;34m,\u001b[0m \u001b[0mright\u001b[0m\u001b[0;34m)\u001b[0m\u001b[0;34m\u001b[0m\u001b[0;34m\u001b[0m\u001b[0m\n\u001b[1;32m    150\u001b[0m     \u001b[0;32mexcept\u001b[0m \u001b[0mTypeError\u001b[0m\u001b[0;34m:\u001b[0m\u001b[0;34m\u001b[0m\u001b[0;34m\u001b[0m\u001b[0m\n\u001b[0;32m--> 151\u001b[0;31m         \u001b[0mresult\u001b[0m \u001b[0;34m=\u001b[0m \u001b[0mmasked_arith_op\u001b[0m\u001b[0;34m(\u001b[0m\u001b[0mleft\u001b[0m\u001b[0;34m,\u001b[0m \u001b[0mright\u001b[0m\u001b[0;34m,\u001b[0m \u001b[0mop\u001b[0m\u001b[0;34m)\u001b[0m\u001b[0;34m\u001b[0m\u001b[0;34m\u001b[0m\u001b[0m\n\u001b[0m\u001b[1;32m    152\u001b[0m \u001b[0;34m\u001b[0m\u001b[0m\n\u001b[1;32m    153\u001b[0m     \u001b[0;32mreturn\u001b[0m \u001b[0mmissing\u001b[0m\u001b[0;34m.\u001b[0m\u001b[0mdispatch_fill_zeros\u001b[0m\u001b[0;34m(\u001b[0m\u001b[0mop\u001b[0m\u001b[0;34m,\u001b[0m \u001b[0mleft\u001b[0m\u001b[0;34m,\u001b[0m \u001b[0mright\u001b[0m\u001b[0;34m,\u001b[0m \u001b[0mresult\u001b[0m\u001b[0;34m)\u001b[0m\u001b[0;34m\u001b[0m\u001b[0;34m\u001b[0m\u001b[0m\n",
      "\u001b[0;32m~/opt/anaconda3/envs/unit2/lib/python3.7/site-packages/pandas/core/ops/array_ops.py\u001b[0m in \u001b[0;36mmasked_arith_op\u001b[0;34m(x, y, op)\u001b[0m\n\u001b[1;32m     92\u001b[0m         \u001b[0;32mif\u001b[0m \u001b[0mmask\u001b[0m\u001b[0;34m.\u001b[0m\u001b[0many\u001b[0m\u001b[0;34m(\u001b[0m\u001b[0;34m)\u001b[0m\u001b[0;34m:\u001b[0m\u001b[0;34m\u001b[0m\u001b[0;34m\u001b[0m\u001b[0m\n\u001b[1;32m     93\u001b[0m             \u001b[0;32mwith\u001b[0m \u001b[0mnp\u001b[0m\u001b[0;34m.\u001b[0m\u001b[0merrstate\u001b[0m\u001b[0;34m(\u001b[0m\u001b[0mall\u001b[0m\u001b[0;34m=\u001b[0m\u001b[0;34m\"ignore\"\u001b[0m\u001b[0;34m)\u001b[0m\u001b[0;34m:\u001b[0m\u001b[0;34m\u001b[0m\u001b[0;34m\u001b[0m\u001b[0m\n\u001b[0;32m---> 94\u001b[0;31m                 \u001b[0mresult\u001b[0m\u001b[0;34m[\u001b[0m\u001b[0mmask\u001b[0m\u001b[0;34m]\u001b[0m \u001b[0;34m=\u001b[0m \u001b[0mop\u001b[0m\u001b[0;34m(\u001b[0m\u001b[0mxrav\u001b[0m\u001b[0;34m[\u001b[0m\u001b[0mmask\u001b[0m\u001b[0;34m]\u001b[0m\u001b[0;34m,\u001b[0m \u001b[0myrav\u001b[0m\u001b[0;34m[\u001b[0m\u001b[0mmask\u001b[0m\u001b[0;34m]\u001b[0m\u001b[0;34m)\u001b[0m\u001b[0;34m\u001b[0m\u001b[0;34m\u001b[0m\u001b[0m\n\u001b[0m\u001b[1;32m     95\u001b[0m \u001b[0;34m\u001b[0m\u001b[0m\n\u001b[1;32m     96\u001b[0m     \u001b[0;32melse\u001b[0m\u001b[0;34m:\u001b[0m\u001b[0;34m\u001b[0m\u001b[0;34m\u001b[0m\u001b[0m\n",
      "\u001b[0;31mTypeError\u001b[0m: unsupported operand type(s) for +: 'float' and 'str'"
     ]
    }
   ],
   "source": [
    "# Beginning to create target for model - getting the average of the\n",
    "# IMDb and Rotten Tomatoes ratings\n",
    "df['Rating'] = ((df['IMDb'] + df['Rotten Tomatoes']) / 2)\n",
    "df['Rating'] = df['Rating'].astype(float)\n",
    "\n",
    "df.head()"
   ]
  },
  {
   "cell_type": "code",
   "execution_count": 227,
   "metadata": {},
   "outputs": [
    {
     "data": {
      "text/html": [
       "<div>\n",
       "<style scoped>\n",
       "    .dataframe tbody tr th:only-of-type {\n",
       "        vertical-align: middle;\n",
       "    }\n",
       "\n",
       "    .dataframe tbody tr th {\n",
       "        vertical-align: top;\n",
       "    }\n",
       "\n",
       "    .dataframe thead th {\n",
       "        text-align: right;\n",
       "    }\n",
       "</style>\n",
       "<table border=\"1\" class=\"dataframe\">\n",
       "  <thead>\n",
       "    <tr style=\"text-align: right;\">\n",
       "      <th></th>\n",
       "      <th>Age</th>\n",
       "      <th>Netflix</th>\n",
       "      <th>Hulu</th>\n",
       "      <th>Prime Video</th>\n",
       "      <th>Disney+</th>\n",
       "    </tr>\n",
       "    <tr>\n",
       "      <th>Year</th>\n",
       "      <th></th>\n",
       "      <th></th>\n",
       "      <th></th>\n",
       "      <th></th>\n",
       "      <th></th>\n",
       "    </tr>\n",
       "  </thead>\n",
       "  <tbody>\n",
       "    <tr>\n",
       "      <th>2010</th>\n",
       "      <td>13+</td>\n",
       "      <td>1</td>\n",
       "      <td>0</td>\n",
       "      <td>0</td>\n",
       "      <td>0</td>\n",
       "    </tr>\n",
       "    <tr>\n",
       "      <th>1999</th>\n",
       "      <td>18+</td>\n",
       "      <td>1</td>\n",
       "      <td>0</td>\n",
       "      <td>0</td>\n",
       "      <td>0</td>\n",
       "    </tr>\n",
       "    <tr>\n",
       "      <th>2018</th>\n",
       "      <td>13+</td>\n",
       "      <td>1</td>\n",
       "      <td>0</td>\n",
       "      <td>0</td>\n",
       "      <td>0</td>\n",
       "    </tr>\n",
       "    <tr>\n",
       "      <th>1985</th>\n",
       "      <td>7+</td>\n",
       "      <td>1</td>\n",
       "      <td>0</td>\n",
       "      <td>0</td>\n",
       "      <td>0</td>\n",
       "    </tr>\n",
       "    <tr>\n",
       "      <th>1966</th>\n",
       "      <td>18+</td>\n",
       "      <td>1</td>\n",
       "      <td>0</td>\n",
       "      <td>1</td>\n",
       "      <td>0</td>\n",
       "    </tr>\n",
       "  </tbody>\n",
       "</table>\n",
       "</div>"
      ],
      "text/plain": [
       "      Age  Netflix  Hulu  Prime Video  Disney+\n",
       "Year                                          \n",
       "2010  13+        1     0            0        0\n",
       "1999  18+        1     0            0        0\n",
       "2018  13+        1     0            0        0\n",
       "1985   7+        1     0            0        0\n",
       "1966  18+        1     0            1        0"
      ]
     },
     "execution_count": 227,
     "metadata": {},
     "output_type": "execute_result"
    }
   ],
   "source": [
    "def wrangle(df, thresh=500):\n",
    "    df = df.copy()\n",
    "    \n",
    "    # Dropping movies made before 1942\n",
    "    df.drop(df[df.Year < 1942].index, inplace=True)\n",
    "    \n",
    "    # Setting Title as index\n",
    "    df.set_index(df['Year'], inplace = True)    \n",
    "    \n",
    "    # Changing \"Rotten Tomatoes\" to float\n",
    "    df['Rotten Tomatoes'] = df['Rotten Tomatoes'].str.rstrip('%')\n",
    "    df['Rotten Tomatoes'] = pd.to_numeric(df['Rotten Tomatoes'], downcast=\"float\")\n",
    "    df['Rotten Tomatoes'] = (df['Rotten Tomatoes'] / 10)\n",
    "    \n",
    "    # Replacing missing values in IMDb with Rotten Tomatoes and vice versa\n",
    "    # if there is at least one non-null in either  \n",
    "    df['Rotten Tomatoes'].fillna(df['IMDb'], inplace=True)\n",
    "    df['IMDb'].fillna(df['Rotten Tomatoes'], inplace=True)\n",
    "    \n",
    "    # Dropping rows if their are nulls in both IMDb AND Rotten Tomatoes\n",
    "    df.dropna(subset=['IMDb', 'Rotten Tomatoes'], how='all')\n",
    "    \n",
    "    # Beginning to create target for model - getting the average of the\n",
    "    # IMDb and Rotten Tomatoes ratings\n",
    "    df['Rating'] = ((df['IMDb'] + df['Rotten Tomatoes']) / 2)\n",
    "    df['Rating'] = df['Rating'].astype(float)\n",
    "    \n",
    "#     # Creating conditions for grading scale based on Rating column\n",
    "#     condition = [(df['Rating'] >= 9.0),\n",
    "#               (df['Rating'] >= 8.0) & (df['Rating'] < 9.0),\n",
    "#               (df['Rating'] >= 7.0) & (df['Rating'] < 8.0),\n",
    "#               (df['Rating'] >= 6.0) & (df['Rating'] < 7.0),\n",
    "#               (df['Rating'] < 6.0)]\n",
    "    \n",
    "#     # Creating grading scale\n",
    "#     values = ['A', 'B', 'C', 'D', 'E']\n",
    "    \n",
    "#     # Creating new Rating colums\n",
    "#     df['Rating'] = np.select(condition, values)\n",
    "    \n",
    "    # Dropping NaNs\n",
    "    df = df.dropna()\n",
    "    \n",
    "    # Dropping unnecessary values\n",
    "    df.drop(['Unnamed: 0', 'ID', 'Title', 'Type', 'ID', 'Year', 'IMDb', \n",
    "             'Rotten Tomatoes', 'Directors', 'Genres', 'Country', 'Language'], \n",
    "            axis=1, inplace=True)\n",
    "    \n",
    "    # Split label and feature matrix\n",
    "    y = df['Rating']\n",
    "    df.drop(['Rating'], axis=1, inplace=True)\n",
    "    \n",
    "    return df, y\n",
    "\n",
    "X.head()"
   ]
  },
  {
   "cell_type": "code",
   "execution_count": 228,
   "metadata": {},
   "outputs": [
    {
     "ename": "KeyError",
     "evalue": "'Rating'",
     "output_type": "error",
     "traceback": [
      "\u001b[0;31m---------------------------------------------------------------------------\u001b[0m",
      "\u001b[0;31mKeyError\u001b[0m                                  Traceback (most recent call last)",
      "\u001b[0;32m~/opt/anaconda3/envs/unit2/lib/python3.7/site-packages/pandas/core/indexes/base.py\u001b[0m in \u001b[0;36mget_loc\u001b[0;34m(self, key, method, tolerance)\u001b[0m\n\u001b[1;32m   2645\u001b[0m             \u001b[0;32mtry\u001b[0m\u001b[0;34m:\u001b[0m\u001b[0;34m\u001b[0m\u001b[0;34m\u001b[0m\u001b[0m\n\u001b[0;32m-> 2646\u001b[0;31m                 \u001b[0;32mreturn\u001b[0m \u001b[0mself\u001b[0m\u001b[0;34m.\u001b[0m\u001b[0m_engine\u001b[0m\u001b[0;34m.\u001b[0m\u001b[0mget_loc\u001b[0m\u001b[0;34m(\u001b[0m\u001b[0mkey\u001b[0m\u001b[0;34m)\u001b[0m\u001b[0;34m\u001b[0m\u001b[0;34m\u001b[0m\u001b[0m\n\u001b[0m\u001b[1;32m   2647\u001b[0m             \u001b[0;32mexcept\u001b[0m \u001b[0mKeyError\u001b[0m\u001b[0;34m:\u001b[0m\u001b[0;34m\u001b[0m\u001b[0;34m\u001b[0m\u001b[0m\n",
      "\u001b[0;32mpandas/_libs/index.pyx\u001b[0m in \u001b[0;36mpandas._libs.index.IndexEngine.get_loc\u001b[0;34m()\u001b[0m\n",
      "\u001b[0;32mpandas/_libs/index.pyx\u001b[0m in \u001b[0;36mpandas._libs.index.IndexEngine.get_loc\u001b[0;34m()\u001b[0m\n",
      "\u001b[0;32mpandas/_libs/hashtable_class_helper.pxi\u001b[0m in \u001b[0;36mpandas._libs.hashtable.PyObjectHashTable.get_item\u001b[0;34m()\u001b[0m\n",
      "\u001b[0;32mpandas/_libs/hashtable_class_helper.pxi\u001b[0m in \u001b[0;36mpandas._libs.hashtable.PyObjectHashTable.get_item\u001b[0;34m()\u001b[0m\n",
      "\u001b[0;31mKeyError\u001b[0m: 'Rating'",
      "\nDuring handling of the above exception, another exception occurred:\n",
      "\u001b[0;31mKeyError\u001b[0m                                  Traceback (most recent call last)",
      "\u001b[0;32m<ipython-input-228-6e9cbb0d43b5>\u001b[0m in \u001b[0;36m<module>\u001b[0;34m\u001b[0m\n\u001b[1;32m      5\u001b[0m \u001b[0;34m\u001b[0m\u001b[0m\n\u001b[1;32m      6\u001b[0m \u001b[0;31m# Train test split on years movies were released\u001b[0m\u001b[0;34m\u001b[0m\u001b[0;34m\u001b[0m\u001b[0;34m\u001b[0m\u001b[0m\n\u001b[0;32m----> 7\u001b[0;31m \u001b[0mtrain\u001b[0m\u001b[0;34m,\u001b[0m \u001b[0mval\u001b[0m  \u001b[0;34m=\u001b[0m \u001b[0mtrain_test_split\u001b[0m\u001b[0;34m(\u001b[0m\u001b[0mtrain\u001b[0m\u001b[0;34m,\u001b[0m \u001b[0mtrain_size\u001b[0m\u001b[0;34m=\u001b[0m\u001b[0;36m0.8\u001b[0m\u001b[0;34m,\u001b[0m \u001b[0mtest_size\u001b[0m\u001b[0;34m=\u001b[0m\u001b[0;36m0.2\u001b[0m\u001b[0;34m,\u001b[0m \u001b[0mstratify\u001b[0m\u001b[0;34m=\u001b[0m\u001b[0mtrain\u001b[0m\u001b[0;34m[\u001b[0m\u001b[0;34m'Rating'\u001b[0m\u001b[0;34m]\u001b[0m\u001b[0;34m,\u001b[0m \u001b[0mrandom_state\u001b[0m\u001b[0;34m=\u001b[0m\u001b[0;36m42\u001b[0m\u001b[0;34m)\u001b[0m\u001b[0;34m\u001b[0m\u001b[0;34m\u001b[0m\u001b[0m\n\u001b[0m\u001b[1;32m      8\u001b[0m \u001b[0mtrain\u001b[0m\u001b[0;34m.\u001b[0m\u001b[0mshape\u001b[0m\u001b[0;34m,\u001b[0m \u001b[0mval\u001b[0m\u001b[0;34m.\u001b[0m\u001b[0mshape\u001b[0m\u001b[0;34m,\u001b[0m \u001b[0mtest\u001b[0m\u001b[0;34m.\u001b[0m\u001b[0mshape\u001b[0m\u001b[0;34m\u001b[0m\u001b[0;34m\u001b[0m\u001b[0m\n\u001b[1;32m      9\u001b[0m \u001b[0;34m\u001b[0m\u001b[0m\n",
      "\u001b[0;32m~/opt/anaconda3/envs/unit2/lib/python3.7/site-packages/pandas/core/frame.py\u001b[0m in \u001b[0;36m__getitem__\u001b[0;34m(self, key)\u001b[0m\n\u001b[1;32m   2798\u001b[0m             \u001b[0;32mif\u001b[0m \u001b[0mself\u001b[0m\u001b[0;34m.\u001b[0m\u001b[0mcolumns\u001b[0m\u001b[0;34m.\u001b[0m\u001b[0mnlevels\u001b[0m \u001b[0;34m>\u001b[0m \u001b[0;36m1\u001b[0m\u001b[0;34m:\u001b[0m\u001b[0;34m\u001b[0m\u001b[0;34m\u001b[0m\u001b[0m\n\u001b[1;32m   2799\u001b[0m                 \u001b[0;32mreturn\u001b[0m \u001b[0mself\u001b[0m\u001b[0;34m.\u001b[0m\u001b[0m_getitem_multilevel\u001b[0m\u001b[0;34m(\u001b[0m\u001b[0mkey\u001b[0m\u001b[0;34m)\u001b[0m\u001b[0;34m\u001b[0m\u001b[0;34m\u001b[0m\u001b[0m\n\u001b[0;32m-> 2800\u001b[0;31m             \u001b[0mindexer\u001b[0m \u001b[0;34m=\u001b[0m \u001b[0mself\u001b[0m\u001b[0;34m.\u001b[0m\u001b[0mcolumns\u001b[0m\u001b[0;34m.\u001b[0m\u001b[0mget_loc\u001b[0m\u001b[0;34m(\u001b[0m\u001b[0mkey\u001b[0m\u001b[0;34m)\u001b[0m\u001b[0;34m\u001b[0m\u001b[0;34m\u001b[0m\u001b[0m\n\u001b[0m\u001b[1;32m   2801\u001b[0m             \u001b[0;32mif\u001b[0m \u001b[0mis_integer\u001b[0m\u001b[0;34m(\u001b[0m\u001b[0mindexer\u001b[0m\u001b[0;34m)\u001b[0m\u001b[0;34m:\u001b[0m\u001b[0;34m\u001b[0m\u001b[0;34m\u001b[0m\u001b[0m\n\u001b[1;32m   2802\u001b[0m                 \u001b[0mindexer\u001b[0m \u001b[0;34m=\u001b[0m \u001b[0;34m[\u001b[0m\u001b[0mindexer\u001b[0m\u001b[0;34m]\u001b[0m\u001b[0;34m\u001b[0m\u001b[0;34m\u001b[0m\u001b[0m\n",
      "\u001b[0;32m~/opt/anaconda3/envs/unit2/lib/python3.7/site-packages/pandas/core/indexes/base.py\u001b[0m in \u001b[0;36mget_loc\u001b[0;34m(self, key, method, tolerance)\u001b[0m\n\u001b[1;32m   2646\u001b[0m                 \u001b[0;32mreturn\u001b[0m \u001b[0mself\u001b[0m\u001b[0;34m.\u001b[0m\u001b[0m_engine\u001b[0m\u001b[0;34m.\u001b[0m\u001b[0mget_loc\u001b[0m\u001b[0;34m(\u001b[0m\u001b[0mkey\u001b[0m\u001b[0;34m)\u001b[0m\u001b[0;34m\u001b[0m\u001b[0;34m\u001b[0m\u001b[0m\n\u001b[1;32m   2647\u001b[0m             \u001b[0;32mexcept\u001b[0m \u001b[0mKeyError\u001b[0m\u001b[0;34m:\u001b[0m\u001b[0;34m\u001b[0m\u001b[0;34m\u001b[0m\u001b[0m\n\u001b[0;32m-> 2648\u001b[0;31m                 \u001b[0;32mreturn\u001b[0m \u001b[0mself\u001b[0m\u001b[0;34m.\u001b[0m\u001b[0m_engine\u001b[0m\u001b[0;34m.\u001b[0m\u001b[0mget_loc\u001b[0m\u001b[0;34m(\u001b[0m\u001b[0mself\u001b[0m\u001b[0;34m.\u001b[0m\u001b[0m_maybe_cast_indexer\u001b[0m\u001b[0;34m(\u001b[0m\u001b[0mkey\u001b[0m\u001b[0;34m)\u001b[0m\u001b[0;34m)\u001b[0m\u001b[0;34m\u001b[0m\u001b[0;34m\u001b[0m\u001b[0m\n\u001b[0m\u001b[1;32m   2649\u001b[0m         \u001b[0mindexer\u001b[0m \u001b[0;34m=\u001b[0m \u001b[0mself\u001b[0m\u001b[0;34m.\u001b[0m\u001b[0mget_indexer\u001b[0m\u001b[0;34m(\u001b[0m\u001b[0;34m[\u001b[0m\u001b[0mkey\u001b[0m\u001b[0;34m]\u001b[0m\u001b[0;34m,\u001b[0m \u001b[0mmethod\u001b[0m\u001b[0;34m=\u001b[0m\u001b[0mmethod\u001b[0m\u001b[0;34m,\u001b[0m \u001b[0mtolerance\u001b[0m\u001b[0;34m=\u001b[0m\u001b[0mtolerance\u001b[0m\u001b[0;34m)\u001b[0m\u001b[0;34m\u001b[0m\u001b[0;34m\u001b[0m\u001b[0m\n\u001b[1;32m   2650\u001b[0m         \u001b[0;32mif\u001b[0m \u001b[0mindexer\u001b[0m\u001b[0;34m.\u001b[0m\u001b[0mndim\u001b[0m \u001b[0;34m>\u001b[0m \u001b[0;36m1\u001b[0m \u001b[0;32mor\u001b[0m \u001b[0mindexer\u001b[0m\u001b[0;34m.\u001b[0m\u001b[0msize\u001b[0m \u001b[0;34m>\u001b[0m \u001b[0;36m1\u001b[0m\u001b[0;34m:\u001b[0m\u001b[0;34m\u001b[0m\u001b[0;34m\u001b[0m\u001b[0m\n",
      "\u001b[0;32mpandas/_libs/index.pyx\u001b[0m in \u001b[0;36mpandas._libs.index.IndexEngine.get_loc\u001b[0;34m()\u001b[0m\n",
      "\u001b[0;32mpandas/_libs/index.pyx\u001b[0m in \u001b[0;36mpandas._libs.index.IndexEngine.get_loc\u001b[0;34m()\u001b[0m\n",
      "\u001b[0;32mpandas/_libs/hashtable_class_helper.pxi\u001b[0m in \u001b[0;36mpandas._libs.hashtable.PyObjectHashTable.get_item\u001b[0;34m()\u001b[0m\n",
      "\u001b[0;32mpandas/_libs/hashtable_class_helper.pxi\u001b[0m in \u001b[0;36mpandas._libs.hashtable.PyObjectHashTable.get_item\u001b[0;34m()\u001b[0m\n",
      "\u001b[0;31mKeyError\u001b[0m: 'Rating'"
     ]
    }
   ],
   "source": [
    "from sklearn.model_selection import train_test_split, GridSearchCV, RandomizedSearchCV\n",
    "\n",
    "# Wrangling\n",
    "X, y = wrangle(df)\n",
    "\n",
    "# Train test split on years movies were released\n",
    "train, val  = train_test_split(train, train_size=0.8, test_size=0.2, stratify=train['Rating'], random_state=42)\n",
    "train.shape, val.shape, test.shape\n",
    "\n",
    "print(X.shape)\n",
    "print(y.shape)\n",
    "\n",
    "y_train.value_counts()"
   ]
  },
  {
   "cell_type": "code",
   "execution_count": 210,
   "metadata": {},
   "outputs": [],
   "source": [
    "from sklearn.ensemble import RandomForestClassifier\n",
    "from category_encoders import OneHotEncoder, OrdinalEncoder\n",
    "from sklearn.impute import SimpleImputer\n",
    "import category_encoders as ce\n",
    "from sklearn.pipeline import Pipeline\n",
    "from sklearn.feature_selection import SelectKBest\n",
    "from sklearn.preprocessing import StandardScaler\n",
    "from sklearn.metrics import classification_report\n",
    "from sklearn.pipeline import make_pipeline\n",
    "from sklearn.metrics import accuracy_score"
   ]
  },
  {
   "cell_type": "code",
   "execution_count": 194,
   "metadata": {},
   "outputs": [
    {
     "name": "stdout",
     "output_type": "stream",
     "text": [
      "Training Accuracy: 0.5465380249716232\n",
      "Validation Accuracy: 0.4613914373088685\n"
     ]
    }
   ],
   "source": [
    "# Building model 1\n",
    "model1 = Pipeline([\n",
    "    ('oe', OrdinalEncoder()),\n",
    "    ('impute', SimpleImputer()),\n",
    "    ('scaler', StandardScaler()),\n",
    "    ('classifier', RandomForestClassifier(criterion='entropy', \n",
    "                                          max_depth=50, n_estimators=200, \n",
    "                                          min_samples_leaf=1, \n",
    "                                          random_state=42))\n",
    "])\n",
    "\n",
    "# Fitting the model\n",
    "model1.fit(X_train, y_train)\n",
    "\n",
    "print('Training Accuracy:', model1.score(X_train, y_train))\n",
    "print('Validation Accuracy:', model1.score(X_val, y_val))"
   ]
  },
  {
   "cell_type": "code",
   "execution_count": 195,
   "metadata": {},
   "outputs": [
    {
     "name": "stdout",
     "output_type": "stream",
     "text": [
      "Training Accuracy: 0.5465380249716232\n",
      "Validation Accuracy: 0.48107798165137616\n"
     ]
    }
   ],
   "source": [
    "# Building model 2\n",
    "model2 = Pipeline([\n",
    "                  ('ohe', OneHotEncoder()),\n",
    "                  ('impute', SimpleImputer()),\n",
    "                  ('scaler', StandardScaler()),\n",
    "                  ('classifier', RandomForestClassifier())\n",
    "])\n",
    "\n",
    "# Fitting the model\n",
    "model2.fit(X_train, y_train)\n",
    "\n",
    "print('Training Accuracy:', model2.score(X_train, y_train))\n",
    "print('Validation Accuracy:', model2.score(X_val, y_val))"
   ]
  },
  {
   "cell_type": "code",
   "execution_count": 196,
   "metadata": {},
   "outputs": [
    {
     "name": "stdout",
     "output_type": "stream",
     "text": [
      "Training Accuracy: 0.5448354143019296\n",
      "Validation Accuracy: 0.4938837920489297\n"
     ]
    }
   ],
   "source": [
    "# Model 3\n",
    "from sklearn.model_selection import GridSearchCV, RandomizedSearchCV\n",
    "\n",
    "model3 = make_pipeline(\n",
    "    ce.OneHotEncoder(use_cat_names=True), \n",
    "    SimpleImputer(), \n",
    "    StandardScaler(), \n",
    "    RandomForestClassifier(n_estimators = 10, min_samples_split = 40))\n",
    "\n",
    "# Fitting the model\n",
    "model3.fit(X_train, y_train)\n",
    "\n",
    "print('Training Accuracy:', model3.score(X_train, y_train))\n",
    "print('Validation Accuracy:', model3.score(X_val, y_val))"
   ]
  },
  {
   "cell_type": "code",
   "execution_count": 198,
   "metadata": {},
   "outputs": [
    {
     "name": "stdout",
     "output_type": "stream",
     "text": [
      "Fitting 7 folds for each of 30 candidates, totalling 210 fits\n"
     ]
    },
    {
     "name": "stderr",
     "output_type": "stream",
     "text": [
      "/Users/bradbrauser/opt/anaconda3/envs/unit2/lib/python3.7/site-packages/sklearn/model_selection/_search.py:282: UserWarning: The total space of parameters 30 is smaller than n_iter=40. Running 30 iterations. For exhaustive searches, use GridSearchCV.\n",
      "  % (grid_size, self.n_iter, grid_size), UserWarning)\n",
      "[Parallel(n_jobs=4)]: Using backend LokyBackend with 4 concurrent workers.\n",
      "[Parallel(n_jobs=4)]: Done   1 tasks      | elapsed:    1.7s\n",
      "[Parallel(n_jobs=4)]: Done   2 tasks      | elapsed:    1.7s\n",
      "[Parallel(n_jobs=4)]: Done   3 tasks      | elapsed:    1.7s\n",
      "[Parallel(n_jobs=4)]: Done   4 tasks      | elapsed:    1.8s\n",
      "[Parallel(n_jobs=4)]: Done   5 tasks      | elapsed:    1.9s\n",
      "[Parallel(n_jobs=4)]: Done   6 tasks      | elapsed:    1.9s\n",
      "[Parallel(n_jobs=4)]: Done   7 tasks      | elapsed:    1.9s\n",
      "[Parallel(n_jobs=4)]: Done   8 tasks      | elapsed:    2.2s\n",
      "[Parallel(n_jobs=4)]: Done   9 tasks      | elapsed:    2.3s\n",
      "[Parallel(n_jobs=4)]: Done  10 tasks      | elapsed:    2.3s\n",
      "[Parallel(n_jobs=4)]: Done  11 tasks      | elapsed:    2.3s\n",
      "[Parallel(n_jobs=4)]: Done  12 tasks      | elapsed:    2.5s\n",
      "[Parallel(n_jobs=4)]: Done  13 tasks      | elapsed:    2.6s\n",
      "[Parallel(n_jobs=4)]: Done  14 tasks      | elapsed:    2.6s\n",
      "[Parallel(n_jobs=4)]: Done  15 tasks      | elapsed:    2.6s\n",
      "[Parallel(n_jobs=4)]: Done  16 tasks      | elapsed:    2.9s\n",
      "[Parallel(n_jobs=4)]: Done  17 tasks      | elapsed:    3.0s\n",
      "[Parallel(n_jobs=4)]: Done  18 tasks      | elapsed:    3.0s\n",
      "[Parallel(n_jobs=4)]: Done  19 tasks      | elapsed:    3.0s\n",
      "[Parallel(n_jobs=4)]: Done  20 tasks      | elapsed:    3.1s\n",
      "[Parallel(n_jobs=4)]: Done  21 tasks      | elapsed:    3.1s\n",
      "[Parallel(n_jobs=4)]: Done  22 tasks      | elapsed:    3.2s\n",
      "[Parallel(n_jobs=4)]: Done  23 tasks      | elapsed:    3.2s\n",
      "[Parallel(n_jobs=4)]: Done  24 tasks      | elapsed:    3.3s\n",
      "[Parallel(n_jobs=4)]: Done  25 tasks      | elapsed:    3.3s\n",
      "[Parallel(n_jobs=4)]: Done  26 tasks      | elapsed:    3.3s\n",
      "[Parallel(n_jobs=4)]: Done  27 tasks      | elapsed:    3.4s\n",
      "[Parallel(n_jobs=4)]: Done  28 tasks      | elapsed:    3.4s\n",
      "[Parallel(n_jobs=4)]: Done  29 tasks      | elapsed:    3.7s\n",
      "[Parallel(n_jobs=4)]: Done  30 tasks      | elapsed:    3.7s\n",
      "[Parallel(n_jobs=4)]: Done  31 tasks      | elapsed:    3.8s\n",
      "[Parallel(n_jobs=4)]: Done  32 tasks      | elapsed:    3.8s\n",
      "[Parallel(n_jobs=4)]: Done  33 tasks      | elapsed:    4.0s\n",
      "[Parallel(n_jobs=4)]: Done  34 tasks      | elapsed:    4.1s\n",
      "[Parallel(n_jobs=4)]: Done  35 tasks      | elapsed:    4.1s\n",
      "[Parallel(n_jobs=4)]: Done  36 tasks      | elapsed:    4.2s\n",
      "[Parallel(n_jobs=4)]: Done  37 tasks      | elapsed:    4.4s\n",
      "[Parallel(n_jobs=4)]: Done  38 tasks      | elapsed:    4.4s\n",
      "[Parallel(n_jobs=4)]: Done  39 tasks      | elapsed:    4.5s\n",
      "[Parallel(n_jobs=4)]: Done  40 tasks      | elapsed:    4.5s\n",
      "[Parallel(n_jobs=4)]: Done  41 tasks      | elapsed:    4.7s\n",
      "[Parallel(n_jobs=4)]: Done  42 tasks      | elapsed:    4.7s\n",
      "[Parallel(n_jobs=4)]: Done  43 tasks      | elapsed:    4.8s\n",
      "[Parallel(n_jobs=4)]: Done  44 tasks      | elapsed:    4.8s\n",
      "[Parallel(n_jobs=4)]: Done  45 tasks      | elapsed:    4.8s\n",
      "[Parallel(n_jobs=4)]: Done  46 tasks      | elapsed:    4.9s\n",
      "[Parallel(n_jobs=4)]: Done  47 tasks      | elapsed:    4.9s\n",
      "[Parallel(n_jobs=4)]: Done  48 tasks      | elapsed:    5.0s\n",
      "[Parallel(n_jobs=4)]: Done  49 tasks      | elapsed:    5.0s\n",
      "[Parallel(n_jobs=4)]: Done  50 tasks      | elapsed:    5.3s\n",
      "[Parallel(n_jobs=4)]: Done  51 tasks      | elapsed:    5.3s\n",
      "[Parallel(n_jobs=4)]: Done  52 tasks      | elapsed:    5.4s\n",
      "[Parallel(n_jobs=4)]: Done  53 tasks      | elapsed:    5.4s\n",
      "[Parallel(n_jobs=4)]: Done  54 tasks      | elapsed:    5.7s\n",
      "[Parallel(n_jobs=4)]: Done  55 tasks      | elapsed:    5.7s\n",
      "[Parallel(n_jobs=4)]: Done  56 tasks      | elapsed:    5.8s\n",
      "[Parallel(n_jobs=4)]: Done  57 tasks      | elapsed:    5.8s\n",
      "[Parallel(n_jobs=4)]: Done  58 tasks      | elapsed:    6.2s\n",
      "[Parallel(n_jobs=4)]: Done  59 tasks      | elapsed:    6.3s\n",
      "[Parallel(n_jobs=4)]: Done  60 tasks      | elapsed:    6.3s\n",
      "[Parallel(n_jobs=4)]: Done  61 tasks      | elapsed:    6.3s\n",
      "[Parallel(n_jobs=4)]: Done  62 tasks      | elapsed:    6.4s\n",
      "[Parallel(n_jobs=4)]: Done  63 tasks      | elapsed:    6.4s\n",
      "[Parallel(n_jobs=4)]: Done  64 tasks      | elapsed:    6.5s\n",
      "[Parallel(n_jobs=4)]: Done  65 tasks      | elapsed:    6.5s\n",
      "[Parallel(n_jobs=4)]: Done  66 tasks      | elapsed:    6.6s\n",
      "[Parallel(n_jobs=4)]: Done  67 tasks      | elapsed:    6.6s\n",
      "[Parallel(n_jobs=4)]: Done  68 tasks      | elapsed:    6.6s\n",
      "[Parallel(n_jobs=4)]: Done  69 tasks      | elapsed:    6.7s\n",
      "[Parallel(n_jobs=4)]: Done  70 tasks      | elapsed:    6.7s\n",
      "[Parallel(n_jobs=4)]: Done  71 tasks      | elapsed:    7.1s\n",
      "[Parallel(n_jobs=4)]: Done  72 tasks      | elapsed:    7.2s\n",
      "[Parallel(n_jobs=4)]: Done  73 tasks      | elapsed:    7.2s\n",
      "[Parallel(n_jobs=4)]: Done  74 tasks      | elapsed:    7.2s\n",
      "[Parallel(n_jobs=4)]: Done  75 tasks      | elapsed:    7.5s\n",
      "[Parallel(n_jobs=4)]: Done  76 tasks      | elapsed:    7.5s\n",
      "[Parallel(n_jobs=4)]: Done  77 tasks      | elapsed:    7.5s\n",
      "[Parallel(n_jobs=4)]: Done  78 tasks      | elapsed:    7.6s\n",
      "[Parallel(n_jobs=4)]: Done  79 tasks      | elapsed:    7.9s\n",
      "[Parallel(n_jobs=4)]: Done  80 tasks      | elapsed:    8.0s\n",
      "[Parallel(n_jobs=4)]: Done  81 tasks      | elapsed:    8.0s\n",
      "[Parallel(n_jobs=4)]: Done  82 tasks      | elapsed:    8.0s\n",
      "[Parallel(n_jobs=4)]: Done  83 tasks      | elapsed:    8.1s\n",
      "[Parallel(n_jobs=4)]: Done  84 tasks      | elapsed:    8.1s\n",
      "[Parallel(n_jobs=4)]: Done  85 tasks      | elapsed:    8.2s\n",
      "[Parallel(n_jobs=4)]: Done  86 tasks      | elapsed:    8.2s\n",
      "[Parallel(n_jobs=4)]: Done  87 tasks      | elapsed:    8.3s\n",
      "[Parallel(n_jobs=4)]: Done  88 tasks      | elapsed:    8.3s\n",
      "[Parallel(n_jobs=4)]: Done  89 tasks      | elapsed:    8.4s\n",
      "[Parallel(n_jobs=4)]: Done  90 tasks      | elapsed:    8.4s\n",
      "[Parallel(n_jobs=4)]: Done  91 tasks      | elapsed:    8.5s\n",
      "[Parallel(n_jobs=4)]: Done  92 tasks      | elapsed:    8.7s\n",
      "[Parallel(n_jobs=4)]: Done  93 tasks      | elapsed:    8.8s\n",
      "[Parallel(n_jobs=4)]: Done  94 tasks      | elapsed:    8.8s\n",
      "[Parallel(n_jobs=4)]: Done  95 tasks      | elapsed:    8.9s\n",
      "[Parallel(n_jobs=4)]: Done  96 tasks      | elapsed:    9.1s\n",
      "[Parallel(n_jobs=4)]: Done  97 tasks      | elapsed:    9.2s\n",
      "[Parallel(n_jobs=4)]: Done  98 tasks      | elapsed:    9.2s\n",
      "[Parallel(n_jobs=4)]: Done  99 tasks      | elapsed:    9.3s\n",
      "[Parallel(n_jobs=4)]: Done 100 tasks      | elapsed:    9.5s\n",
      "[Parallel(n_jobs=4)]: Done 101 tasks      | elapsed:    9.6s\n",
      "[Parallel(n_jobs=4)]: Done 102 tasks      | elapsed:    9.6s\n",
      "[Parallel(n_jobs=4)]: Done 103 tasks      | elapsed:    9.7s\n",
      "[Parallel(n_jobs=4)]: Done 104 tasks      | elapsed:    9.7s\n",
      "[Parallel(n_jobs=4)]: Done 105 tasks      | elapsed:    9.8s\n",
      "[Parallel(n_jobs=4)]: Done 106 tasks      | elapsed:    9.8s\n",
      "[Parallel(n_jobs=4)]: Done 107 tasks      | elapsed:    9.9s\n",
      "[Parallel(n_jobs=4)]: Done 108 tasks      | elapsed:    9.9s\n",
      "[Parallel(n_jobs=4)]: Done 109 tasks      | elapsed:    9.9s\n",
      "[Parallel(n_jobs=4)]: Done 110 tasks      | elapsed:   10.0s\n",
      "[Parallel(n_jobs=4)]: Done 111 tasks      | elapsed:   10.0s\n",
      "[Parallel(n_jobs=4)]: Done 112 tasks      | elapsed:   10.0s\n",
      "[Parallel(n_jobs=4)]: Done 113 tasks      | elapsed:   10.3s\n",
      "[Parallel(n_jobs=4)]: Done 114 tasks      | elapsed:   10.4s\n",
      "[Parallel(n_jobs=4)]: Done 115 tasks      | elapsed:   10.4s\n",
      "[Parallel(n_jobs=4)]: Done 116 tasks      | elapsed:   10.4s\n",
      "[Parallel(n_jobs=4)]: Done 117 tasks      | elapsed:   10.7s\n",
      "[Parallel(n_jobs=4)]: Done 118 tasks      | elapsed:   10.7s\n",
      "[Parallel(n_jobs=4)]: Done 119 tasks      | elapsed:   10.8s\n",
      "[Parallel(n_jobs=4)]: Done 120 tasks      | elapsed:   10.8s\n",
      "[Parallel(n_jobs=4)]: Done 121 tasks      | elapsed:   11.1s\n",
      "[Parallel(n_jobs=4)]: Done 122 tasks      | elapsed:   11.1s\n",
      "[Parallel(n_jobs=4)]: Done 123 tasks      | elapsed:   11.2s\n",
      "[Parallel(n_jobs=4)]: Done 124 tasks      | elapsed:   11.2s\n",
      "[Parallel(n_jobs=4)]: Done 125 tasks      | elapsed:   11.3s\n",
      "[Parallel(n_jobs=4)]: Done 126 tasks      | elapsed:   11.3s\n",
      "[Parallel(n_jobs=4)]: Done 127 tasks      | elapsed:   11.3s\n",
      "[Parallel(n_jobs=4)]: Done 128 tasks      | elapsed:   11.4s\n",
      "[Parallel(n_jobs=4)]: Done 129 tasks      | elapsed:   11.4s\n",
      "[Parallel(n_jobs=4)]: Done 130 tasks      | elapsed:   11.5s\n",
      "[Parallel(n_jobs=4)]: Done 131 tasks      | elapsed:   11.5s\n",
      "[Parallel(n_jobs=4)]: Done 132 tasks      | elapsed:   11.5s\n",
      "[Parallel(n_jobs=4)]: Done 133 tasks      | elapsed:   11.5s\n"
     ]
    },
    {
     "name": "stderr",
     "output_type": "stream",
     "text": [
      "[Parallel(n_jobs=4)]: Done 134 tasks      | elapsed:   11.8s\n",
      "[Parallel(n_jobs=4)]: Done 135 tasks      | elapsed:   11.8s\n",
      "[Parallel(n_jobs=4)]: Done 136 tasks      | elapsed:   11.9s\n",
      "[Parallel(n_jobs=4)]: Done 137 tasks      | elapsed:   11.9s\n",
      "[Parallel(n_jobs=4)]: Done 138 tasks      | elapsed:   12.2s\n",
      "[Parallel(n_jobs=4)]: Done 139 tasks      | elapsed:   12.2s\n",
      "[Parallel(n_jobs=4)]: Done 140 tasks      | elapsed:   12.3s\n",
      "[Parallel(n_jobs=4)]: Done 141 tasks      | elapsed:   12.3s\n",
      "[Parallel(n_jobs=4)]: Done 142 tasks      | elapsed:   12.6s\n",
      "[Parallel(n_jobs=4)]: Done 143 tasks      | elapsed:   12.6s\n",
      "[Parallel(n_jobs=4)]: Done 144 tasks      | elapsed:   12.6s\n",
      "[Parallel(n_jobs=4)]: Done 145 tasks      | elapsed:   12.7s\n",
      "[Parallel(n_jobs=4)]: Done 146 tasks      | elapsed:   12.7s\n",
      "[Parallel(n_jobs=4)]: Done 147 tasks      | elapsed:   12.8s\n",
      "[Parallel(n_jobs=4)]: Done 148 tasks      | elapsed:   12.8s\n",
      "[Parallel(n_jobs=4)]: Done 149 tasks      | elapsed:   12.9s\n",
      "[Parallel(n_jobs=4)]: Done 150 tasks      | elapsed:   12.9s\n",
      "[Parallel(n_jobs=4)]: Done 151 tasks      | elapsed:   13.0s\n",
      "[Parallel(n_jobs=4)]: Done 152 tasks      | elapsed:   13.0s\n",
      "[Parallel(n_jobs=4)]: Done 153 tasks      | elapsed:   13.0s\n",
      "[Parallel(n_jobs=4)]: Done 154 tasks      | elapsed:   13.0s\n",
      "[Parallel(n_jobs=4)]: Done 155 tasks      | elapsed:   13.3s\n",
      "[Parallel(n_jobs=4)]: Done 156 tasks      | elapsed:   13.3s\n",
      "[Parallel(n_jobs=4)]: Done 157 tasks      | elapsed:   13.4s\n",
      "[Parallel(n_jobs=4)]: Done 158 tasks      | elapsed:   13.4s\n",
      "[Parallel(n_jobs=4)]: Done 159 tasks      | elapsed:   13.7s\n",
      "[Parallel(n_jobs=4)]: Done 160 tasks      | elapsed:   13.7s\n",
      "[Parallel(n_jobs=4)]: Done 161 tasks      | elapsed:   13.7s\n",
      "[Parallel(n_jobs=4)]: Done 162 tasks      | elapsed:   13.8s\n",
      "[Parallel(n_jobs=4)]: Done 163 tasks      | elapsed:   14.1s\n",
      "[Parallel(n_jobs=4)]: Done 164 tasks      | elapsed:   14.1s\n",
      "[Parallel(n_jobs=4)]: Done 165 tasks      | elapsed:   14.1s\n",
      "[Parallel(n_jobs=4)]: Done 166 tasks      | elapsed:   14.2s\n",
      "[Parallel(n_jobs=4)]: Done 167 tasks      | elapsed:   14.2s\n",
      "[Parallel(n_jobs=4)]: Done 168 tasks      | elapsed:   14.2s\n",
      "[Parallel(n_jobs=4)]: Done 169 tasks      | elapsed:   14.3s\n",
      "[Parallel(n_jobs=4)]: Done 170 tasks      | elapsed:   14.3s\n",
      "[Parallel(n_jobs=4)]: Done 171 tasks      | elapsed:   14.4s\n",
      "[Parallel(n_jobs=4)]: Done 172 tasks      | elapsed:   14.4s\n",
      "[Parallel(n_jobs=4)]: Done 173 tasks      | elapsed:   14.5s\n",
      "[Parallel(n_jobs=4)]: Done 174 tasks      | elapsed:   14.5s\n",
      "[Parallel(n_jobs=4)]: Done 175 tasks      | elapsed:   14.5s\n",
      "[Parallel(n_jobs=4)]: Done 176 tasks      | elapsed:   14.8s\n",
      "[Parallel(n_jobs=4)]: Done 177 tasks      | elapsed:   14.8s\n",
      "[Parallel(n_jobs=4)]: Done 178 tasks      | elapsed:   14.8s\n",
      "[Parallel(n_jobs=4)]: Done 179 tasks      | elapsed:   14.8s\n",
      "[Parallel(n_jobs=4)]: Done 180 tasks      | elapsed:   15.2s\n",
      "[Parallel(n_jobs=4)]: Done 181 tasks      | elapsed:   15.2s\n",
      "[Parallel(n_jobs=4)]: Done 182 tasks      | elapsed:   15.2s\n",
      "[Parallel(n_jobs=4)]: Done 183 tasks      | elapsed:   15.2s\n",
      "[Parallel(n_jobs=4)]: Done 184 tasks      | elapsed:   15.5s\n",
      "[Parallel(n_jobs=4)]: Done 185 tasks      | elapsed:   15.6s\n",
      "[Parallel(n_jobs=4)]: Done 186 tasks      | elapsed:   15.6s\n",
      "[Parallel(n_jobs=4)]: Done 187 tasks      | elapsed:   15.6s\n",
      "[Parallel(n_jobs=4)]: Done 188 tasks      | elapsed:   15.7s\n",
      "[Parallel(n_jobs=4)]: Done 189 tasks      | elapsed:   15.7s\n",
      "[Parallel(n_jobs=4)]: Done 190 tasks      | elapsed:   15.8s\n",
      "[Parallel(n_jobs=4)]: Done 191 tasks      | elapsed:   15.8s\n",
      "[Parallel(n_jobs=4)]: Done 192 tasks      | elapsed:   15.9s\n",
      "[Parallel(n_jobs=4)]: Done 193 tasks      | elapsed:   15.9s\n",
      "[Parallel(n_jobs=4)]: Done 194 tasks      | elapsed:   15.9s\n",
      "[Parallel(n_jobs=4)]: Done 195 tasks      | elapsed:   15.9s\n",
      "[Parallel(n_jobs=4)]: Done 196 tasks      | elapsed:   16.0s\n",
      "[Parallel(n_jobs=4)]: Done 197 tasks      | elapsed:   16.3s\n",
      "[Parallel(n_jobs=4)]: Done 198 tasks      | elapsed:   16.3s\n",
      "[Parallel(n_jobs=4)]: Done 199 tasks      | elapsed:   16.3s\n",
      "[Parallel(n_jobs=4)]: Done 200 tasks      | elapsed:   16.3s\n",
      "[Parallel(n_jobs=4)]: Done 201 tasks      | elapsed:   16.6s\n",
      "[Parallel(n_jobs=4)]: Done 202 tasks      | elapsed:   16.6s\n",
      "[Parallel(n_jobs=4)]: Done 203 tasks      | elapsed:   16.7s\n",
      "[Parallel(n_jobs=4)]: Done 210 out of 210 | elapsed:   17.4s finished\n"
     ]
    },
    {
     "data": {
      "text/plain": [
       "RandomizedSearchCV(cv=7,\n",
       "                   estimator=Pipeline(steps=[('ordinalencoder',\n",
       "                                              OrdinalEncoder(drop_invariant=True)),\n",
       "                                             ('simpleimputer',\n",
       "                                              SimpleImputer(strategy='median')),\n",
       "                                             ('standardscaler',\n",
       "                                              StandardScaler()),\n",
       "                                             ('randomforestclassifier',\n",
       "                                              RandomForestClassifier(criterion='entropy',\n",
       "                                                                     max_depth=15,\n",
       "                                                                     min_samples_split=3,\n",
       "                                                                     n_estimators=200,\n",
       "                                                                     n_jobs=1))]),\n",
       "                   n_iter=40, n_jobs=4,\n",
       "                   param_distributions={'randomforestclassifier__criterion': ('gini',\n",
       "                                                                              'entropy'),\n",
       "                                        'randomforestclassifier__max_depth': (11,\n",
       "                                                                              12,\n",
       "                                                                              13,\n",
       "                                                                              14,\n",
       "                                                                              15),\n",
       "                                        'randomforestclassifier__min_samples_split': (1,\n",
       "                                                                                      2,\n",
       "                                                                                      3)},\n",
       "                   return_train_score=True, scoring='accuracy', verbose=30)"
      ]
     },
     "execution_count": 198,
     "metadata": {},
     "output_type": "execute_result"
    }
   ],
   "source": [
    "# Model 5\n",
    "model4 = make_pipeline(\n",
    "  OrdinalEncoder(drop_invariant=True),\n",
    "  SimpleImputer(strategy='median'),\n",
    "  StandardScaler(),\n",
    "  RandomForestClassifier(\n",
    "      criterion='entropy',\n",
    "      min_samples_split=3,\n",
    "      max_depth=15,\n",
    "      n_estimators= 200,\n",
    "      n_jobs=1)\n",
    ")\n",
    "param_distributions = {\n",
    "    'randomforestclassifier__criterion': ('gini','entropy'),\n",
    "    'randomforestclassifier__max_depth' : (11, 12, 13, 14, 15),\n",
    "    'randomforestclassifier__min_samples_split': (1,2,3),\n",
    "}\n",
    "\n",
    "search = RandomizedSearchCV(\n",
    "    model4,\n",
    "    param_distributions=param_distributions,\n",
    "    n_iter=40,\n",
    "    cv=7,\n",
    "    scoring='accuracy',\n",
    "    verbose = 30,\n",
    "    return_train_score=True,\n",
    "    n_jobs=4,\n",
    ")\n",
    "\n",
    "search.fit(X_train, y_train)"
   ]
  },
  {
   "cell_type": "code",
   "execution_count": 199,
   "metadata": {},
   "outputs": [
    {
     "name": "stdout",
     "output_type": "stream",
     "text": [
      "Cross-validation Best Score: 0.4857712009106431\n"
     ]
    }
   ],
   "source": [
    "print('Cross-validation Best Score:', search.best_score_)"
   ]
  },
  {
   "cell_type": "code",
   "execution_count": 200,
   "metadata": {},
   "outputs": [
    {
     "name": "stdout",
     "output_type": "stream",
     "text": [
      "Best Estimator: {'randomforestclassifier__min_samples_split': 3, 'randomforestclassifier__max_depth': 13, 'randomforestclassifier__criterion': 'gini'}\n"
     ]
    }
   ],
   "source": [
    "print('Best Estimator:', search.best_params_)"
   ]
  },
  {
   "cell_type": "code",
   "execution_count": 201,
   "metadata": {},
   "outputs": [
    {
     "name": "stdout",
     "output_type": "stream",
     "text": [
      "Best Model: Pipeline(steps=[('ordinalencoder',\n",
      "                 OrdinalEncoder(cols=['Age'], drop_invariant=True,\n",
      "                                mapping=[{'col': 'Age', 'data_type': dtype('O'),\n",
      "                                          'mapping': 18+    1\n",
      "7+     2\n",
      "13+    3\n",
      "all    4\n",
      "16+    5\n",
      "NaN   -2\n",
      "dtype: int64}])),\n",
      "                ('simpleimputer', SimpleImputer(strategy='median')),\n",
      "                ('standardscaler', StandardScaler()),\n",
      "                ('randomforestclassifier',\n",
      "                 RandomForestClassifier(max_depth=13, min_samples_split=3,\n",
      "                                        n_estimators=200, n_jobs=1))])\n"
     ]
    }
   ],
   "source": [
    "print('Best Model:', search.best_estimator_)"
   ]
  },
  {
   "cell_type": "code",
   "execution_count": 202,
   "metadata": {},
   "outputs": [
    {
     "name": "stdout",
     "output_type": "stream",
     "text": [
      "Training Accuracy: 0.5391600454029511\n",
      "Validation Accuracy: 0.5317278287461774\n"
     ]
    }
   ],
   "source": [
    "from xgboost import XGBClassifier\n",
    "\n",
    "model6 = make_pipeline(ce.OrdinalEncoder(),\n",
    "                         XGBClassifier(n_estimators=100,\n",
    "                                       random_state=42,\n",
    "                                       n_jobs=-1)\n",
    ")\n",
    "\n",
    "model6.fit(X_train, y_train)\n",
    "\n",
    "print('Training Accuracy:', pipeline.score(X_train, y_train))\n",
    "print('Validation Accuracy:', pipeline.score(X_val, y_val))"
   ]
  },
  {
   "cell_type": "code",
   "execution_count": 203,
   "metadata": {},
   "outputs": [
    {
     "data": {
      "text/plain": [
       "<sklearn.metrics._plot.confusion_matrix.ConfusionMatrixDisplay at 0x7fc7eecf1190>"
      ]
     },
     "execution_count": 203,
     "metadata": {},
     "output_type": "execute_result"
    },
    {
     "data": {
      "image/png": "[encoded data removed]",
      "text/plain": [
       "<Figure size 600x400 with 2 Axes>"
      ]
     },
     "metadata": {
      "needs_background": "light"
     },
     "output_type": "display_data"
    }
   ],
   "source": [
    "from sklearn.metrics import plot_confusion_matrix, classification_report\n",
    "import matplotlib.pyplot as plt\n",
    "\n",
    "plt.rcParams['figure.dpi'] = 100\n",
    "plot_confusion_matrix(model6, X_val, y_val, values_format='.0f', xticks_rotation='vertical')"
   ]
  },
  {
   "cell_type": "code",
   "execution_count": 204,
   "metadata": {},
   "outputs": [
    {
     "ename": "ValueError",
     "evalue": "Found input variables with inconsistent numbers of samples: [5232, 2111]",
     "output_type": "error",
     "traceback": [
      "\u001b[0;31m---------------------------------------------------------------------------\u001b[0m",
      "\u001b[0;31mValueError\u001b[0m                                Traceback (most recent call last)",
      "\u001b[0;32m<ipython-input-204-e573157cdd23>\u001b[0m in \u001b[0;36m<module>\u001b[0;34m\u001b[0m\n\u001b[0;32m----> 1\u001b[0;31m \u001b[0mprint\u001b[0m\u001b[0;34m(\u001b[0m\u001b[0mclassification_report\u001b[0m\u001b[0;34m(\u001b[0m\u001b[0my_val\u001b[0m\u001b[0;34m,\u001b[0m \u001b[0my_pred\u001b[0m\u001b[0;34m)\u001b[0m\u001b[0;34m)\u001b[0m\u001b[0;34m\u001b[0m\u001b[0;34m\u001b[0m\u001b[0m\n\u001b[0m",
      "\u001b[0;32m~/opt/anaconda3/envs/unit2/lib/python3.7/site-packages/sklearn/utils/validation.py\u001b[0m in \u001b[0;36minner_f\u001b[0;34m(*args, **kwargs)\u001b[0m\n\u001b[1;32m     71\u001b[0m                           FutureWarning)\n\u001b[1;32m     72\u001b[0m         \u001b[0mkwargs\u001b[0m\u001b[0;34m.\u001b[0m\u001b[0mupdate\u001b[0m\u001b[0;34m(\u001b[0m\u001b[0;34m{\u001b[0m\u001b[0mk\u001b[0m\u001b[0;34m:\u001b[0m \u001b[0marg\u001b[0m \u001b[0;32mfor\u001b[0m \u001b[0mk\u001b[0m\u001b[0;34m,\u001b[0m \u001b[0marg\u001b[0m \u001b[0;32min\u001b[0m \u001b[0mzip\u001b[0m\u001b[0;34m(\u001b[0m\u001b[0msig\u001b[0m\u001b[0;34m.\u001b[0m\u001b[0mparameters\u001b[0m\u001b[0;34m,\u001b[0m \u001b[0margs\u001b[0m\u001b[0;34m)\u001b[0m\u001b[0;34m}\u001b[0m\u001b[0;34m)\u001b[0m\u001b[0;34m\u001b[0m\u001b[0;34m\u001b[0m\u001b[0m\n\u001b[0;32m---> 73\u001b[0;31m         \u001b[0;32mreturn\u001b[0m \u001b[0mf\u001b[0m\u001b[0;34m(\u001b[0m\u001b[0;34m**\u001b[0m\u001b[0mkwargs\u001b[0m\u001b[0;34m)\u001b[0m\u001b[0;34m\u001b[0m\u001b[0;34m\u001b[0m\u001b[0m\n\u001b[0m\u001b[1;32m     74\u001b[0m     \u001b[0;32mreturn\u001b[0m \u001b[0minner_f\u001b[0m\u001b[0;34m\u001b[0m\u001b[0;34m\u001b[0m\u001b[0m\n\u001b[1;32m     75\u001b[0m \u001b[0;34m\u001b[0m\u001b[0m\n",
      "\u001b[0;32m~/opt/anaconda3/envs/unit2/lib/python3.7/site-packages/sklearn/metrics/_classification.py\u001b[0m in \u001b[0;36mclassification_report\u001b[0;34m(y_true, y_pred, labels, target_names, sample_weight, digits, output_dict, zero_division)\u001b[0m\n\u001b[1;32m   1927\u001b[0m     \"\"\"\n\u001b[1;32m   1928\u001b[0m \u001b[0;34m\u001b[0m\u001b[0m\n\u001b[0;32m-> 1929\u001b[0;31m     \u001b[0my_type\u001b[0m\u001b[0;34m,\u001b[0m \u001b[0my_true\u001b[0m\u001b[0;34m,\u001b[0m \u001b[0my_pred\u001b[0m \u001b[0;34m=\u001b[0m \u001b[0m_check_targets\u001b[0m\u001b[0;34m(\u001b[0m\u001b[0my_true\u001b[0m\u001b[0;34m,\u001b[0m \u001b[0my_pred\u001b[0m\u001b[0;34m)\u001b[0m\u001b[0;34m\u001b[0m\u001b[0;34m\u001b[0m\u001b[0m\n\u001b[0m\u001b[1;32m   1930\u001b[0m \u001b[0;34m\u001b[0m\u001b[0m\n\u001b[1;32m   1931\u001b[0m     \u001b[0mlabels_given\u001b[0m \u001b[0;34m=\u001b[0m \u001b[0;32mTrue\u001b[0m\u001b[0;34m\u001b[0m\u001b[0;34m\u001b[0m\u001b[0m\n",
      "\u001b[0;32m~/opt/anaconda3/envs/unit2/lib/python3.7/site-packages/sklearn/metrics/_classification.py\u001b[0m in \u001b[0;36m_check_targets\u001b[0;34m(y_true, y_pred)\u001b[0m\n\u001b[1;32m     79\u001b[0m     \u001b[0my_pred\u001b[0m \u001b[0;34m:\u001b[0m \u001b[0marray\u001b[0m \u001b[0;32mor\u001b[0m \u001b[0mindicator\u001b[0m \u001b[0mmatrix\u001b[0m\u001b[0;34m\u001b[0m\u001b[0;34m\u001b[0m\u001b[0m\n\u001b[1;32m     80\u001b[0m     \"\"\"\n\u001b[0;32m---> 81\u001b[0;31m     \u001b[0mcheck_consistent_length\u001b[0m\u001b[0;34m(\u001b[0m\u001b[0my_true\u001b[0m\u001b[0;34m,\u001b[0m \u001b[0my_pred\u001b[0m\u001b[0;34m)\u001b[0m\u001b[0;34m\u001b[0m\u001b[0;34m\u001b[0m\u001b[0m\n\u001b[0m\u001b[1;32m     82\u001b[0m     \u001b[0mtype_true\u001b[0m \u001b[0;34m=\u001b[0m \u001b[0mtype_of_target\u001b[0m\u001b[0;34m(\u001b[0m\u001b[0my_true\u001b[0m\u001b[0;34m)\u001b[0m\u001b[0;34m\u001b[0m\u001b[0;34m\u001b[0m\u001b[0m\n\u001b[1;32m     83\u001b[0m     \u001b[0mtype_pred\u001b[0m \u001b[0;34m=\u001b[0m \u001b[0mtype_of_target\u001b[0m\u001b[0;34m(\u001b[0m\u001b[0my_pred\u001b[0m\u001b[0;34m)\u001b[0m\u001b[0;34m\u001b[0m\u001b[0;34m\u001b[0m\u001b[0m\n",
      "\u001b[0;32m~/opt/anaconda3/envs/unit2/lib/python3.7/site-packages/sklearn/utils/validation.py\u001b[0m in \u001b[0;36mcheck_consistent_length\u001b[0;34m(*arrays)\u001b[0m\n\u001b[1;32m    255\u001b[0m     \u001b[0;32mif\u001b[0m \u001b[0mlen\u001b[0m\u001b[0;34m(\u001b[0m\u001b[0muniques\u001b[0m\u001b[0;34m)\u001b[0m \u001b[0;34m>\u001b[0m \u001b[0;36m1\u001b[0m\u001b[0;34m:\u001b[0m\u001b[0;34m\u001b[0m\u001b[0;34m\u001b[0m\u001b[0m\n\u001b[1;32m    256\u001b[0m         raise ValueError(\"Found input variables with inconsistent numbers of\"\n\u001b[0;32m--> 257\u001b[0;31m                          \" samples: %r\" % [int(l) for l in lengths])\n\u001b[0m\u001b[1;32m    258\u001b[0m \u001b[0;34m\u001b[0m\u001b[0m\n\u001b[1;32m    259\u001b[0m \u001b[0;34m\u001b[0m\u001b[0m\n",
      "\u001b[0;31mValueError\u001b[0m: Found input variables with inconsistent numbers of samples: [5232, 2111]"
     ]
    }
   ],
   "source": [
    "print(classification_report(y_val, y_pred))"
   ]
  },
  {
   "cell_type": "code",
   "execution_count": null,
   "metadata": {},
   "outputs": [],
   "source": [
    "y_train.value_counts(normalize=True)"
   ]
  },
  {
   "cell_type": "code",
   "execution_count": null,
   "metadata": {},
   "outputs": [],
   "source": []
  }
 ],
 "metadata": {
  "kernelspec": {
   "display_name": "Python 3",
   "language": "python",
   "name": "python3"
  },
  "language_info": {
   "codemirror_mode": {
    "name": "ipython",
    "version": 3
   },
   "file_extension": ".py",
   "mimetype": "text/x-python",
   "name": "python",
   "nbconvert_exporter": "python",
   "pygments_lexer": "ipython3",
   "version": "3.7.6"
  }
 },
 "nbformat": 4,
 "nbformat_minor": 1
}
