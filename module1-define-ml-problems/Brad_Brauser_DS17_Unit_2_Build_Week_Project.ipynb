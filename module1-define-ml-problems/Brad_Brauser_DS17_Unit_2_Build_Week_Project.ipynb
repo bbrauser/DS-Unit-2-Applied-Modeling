{
 "cells": [
  {
   "cell_type": "markdown",
   "metadata": {
    "colab_type": "text",
    "id": "nCc3XZEyG3XV"
   },
   "source": [
    "Lambda School Data Science\n",
    "\n",
    "*Unit 2, Sprint 3, Module 1*\n",
    "\n",
    "---\n",
    "\n",
    "\n",
    "# Define ML problems\n",
    "\n",
    "You will use your portfolio project dataset for all assignments this sprint.\n",
    "\n",
    "## Assignment\n",
    "\n",
    "Complete these tasks for your project, and document your decisions.\n",
    "\n",
    "- [ ] Choose your target. Which column in your tabular dataset will you predict?\n",
    "- [ ] Is your problem regression or classification?\n",
    "- [ ] How is your target distributed?\n",
    "    - Classification: How many classes? Are the classes imbalanced?\n",
    "    - Regression: Is the target right-skewed? If so, you may want to log transform the target.\n",
    "- [ ] Choose your evaluation metric(s).\n",
    "    - Classification: Is your majority class frequency >= 50% and < 70% ? If so, you can just use accuracy if you want. Outside that range, accuracy could be misleading. What evaluation metric will you choose, in addition to or instead of accuracy?\n",
    "    - Regression: Will you use mean absolute error, root mean squared error, R^2, or other regression metrics?\n",
    "- [ ] Choose which observations you will use to train, validate, and test your model.\n",
    "    - Are some observations outliers? Will you exclude them?\n",
    "    - Will you do a random split or a time-based split?\n",
    "- [ ] Begin to clean and explore your data.\n",
    "- [ ] Begin to choose which features, if any, to exclude. Would some features \"leak\" future information?\n",
    "\n",
    "If you haven't found a dataset yet, do that today. [Review requirements for your portfolio project](https://lambdaschool.github.io/ds/unit2) and choose your dataset.\n",
    "\n",
    "Some students worry, ***what if my model isn't “good”?*** Then, [produce a detailed tribute to your wrongness. That is science!](https://twitter.com/nathanwpyle/status/1176860147223867393)"
   ]
  },
  {
   "cell_type": "markdown",
   "metadata": {},
   "source": [
    "# Wrangle ML datasets (From 231 assignment)\n",
    "[ ] Continue to clean and explore your data.\n",
    "\n",
    "[ ] For the evaluation metric you chose, what score would you get just by guessing?\n",
    "\n",
    "[ ] Can you make a fast, first model that beats guessing?"
   ]
  },
  {
   "cell_type": "markdown",
   "metadata": {},
   "source": [
    "Lambda School Data Science\n",
    "\n",
    "*Unit 2, Sprint 3, Module 3*\n",
    "\n",
    "---\n",
    "\n",
    "\n",
    "# Permutation & Boosting\n",
    "\n",
    "You will use your portfolio project dataset for all assignments this sprint.\n",
    "\n",
    "## Assignment\n",
    "\n",
    "Complete these tasks for your project, and document your work.\n",
    "\n",
    "- [ ] If you haven't completed assignment #1, please do so first.\n",
    "- [ ] Continue to clean and explore your data. Make exploratory visualizations.\n",
    "- [ ] Fit a model. Does it beat your baseline? \n",
    "- [ ] Try xgboost.\n",
    "- [ ] Get your model's permutation importances.\n",
    "\n",
    "You should try to complete an initial model today, because the rest of the week, we're making model interpretation visualizations.\n",
    "\n",
    "But, if you aren't ready to try xgboost and permutation importances with your dataset today, that's okay. You can practice with another dataset instead. You may choose any dataset you've worked with previously.\n",
    "\n",
    "The data subdirectory includes the Titanic dataset for classification and the NYC apartments dataset for regression. You may want to choose one of these datasets, because example solutions will be available for each.\n",
    "\n",
    "\n",
    "## Reading\n",
    "\n",
    "Top recommendations in _**bold italic:**_\n",
    "\n",
    "#### Permutation Importances\n",
    "- _**[Kaggle / Dan Becker: Machine Learning Explainability](https://www.kaggle.com/dansbecker/permutation-importance)**_\n",
    "- [Christoph Molnar: Interpretable Machine Learning](https://christophm.github.io/interpretable-ml-book/feature-importance.html)\n",
    "\n",
    "#### (Default) Feature Importances\n",
    "  - [Ando Saabas: Selecting good features, Part 3, Random Forests](https://blog.datadive.net/selecting-good-features-part-iii-random-forests/)\n",
    "  - [Terence Parr, et al: Beware Default Random Forest Importances](https://explained.ai/rf-importance/index.html)\n",
    "\n",
    "#### Gradient Boosting\n",
    "  - [A Gentle Introduction to the Gradient Boosting Algorithm for Machine Learning](https://machinelearningmastery.com/gentle-introduction-gradient-boosting-algorithm-machine-learning/)\n",
    "  - [An Introduction to Statistical Learning](http://www-bcf.usc.edu/~gareth/ISL/ISLR%20Seventh%20Printing.pdf), Chapter 8\n",
    "  - _**[Gradient Boosting Explained](https://www.gormanalysis.com/blog/gradient-boosting-explained/)**_ — Ben Gorman\n",
    "  - [Gradient Boosting Explained](http://arogozhnikov.github.io/2016/06/24/gradient_boosting_explained.html) — Alex Rogozhnikov\n",
    "  - [How to explain gradient boosting](https://explained.ai/gradient-boosting/) — Terence Parr & Jeremy Howard\n",
    "  \n",
    "# Model Interpretation\n",
    "\n",
    "You will use your portfolio project dataset for all assignments this sprint.\n",
    "\n",
    "## Assignment\n",
    "\n",
    "Complete these tasks for your project, and document your work.\n",
    "\n",
    "- [ ] Continue to iterate on your project: data cleaning, exploratory visualization, feature engineering, modeling.\n",
    "- [ ] Make at least 1 partial dependence plot to explain your model.\n",
    "- [ ] Make at least 1 Shapley force plot to explain an individual prediction.\n",
    "- [ ] **Share at least 1 visualization (of any type) on Slack!**\n",
    "\n",
    "If you aren't ready to make these plots with your own dataset, you can practice these objectives with any dataset you've worked with previously. Example solutions are available for Partial Dependence Plots with the Tanzania Waterpumps dataset, and Shapley force plots with the Titanic dataset. (These datasets are available in the data directory of this repository.)\n",
    "\n",
    "Please be aware that **multi-class classification** will result in multiple Partial Dependence Plots (one for each class), and multiple sets of Shapley Values (one for each class).\n",
    "\n",
    "## Stretch Goals\n",
    "\n",
    "#### Partial Dependence Plots\n",
    "- [ ] Make multiple PDPs with 1 feature in isolation.\n",
    "- [ ] Make multiple PDPs with 2 features in interaction. \n",
    "- [ ] Use Plotly to make a 3D PDP.\n",
    "- [ ] Make PDPs with categorical feature(s). Use Ordinal Encoder, outside of a pipeline, to encode your data first. If there is a natural ordering, then take the time to encode it that way, instead of random integers. Then use the encoded data with pdpbox. Get readable category names on your plot, instead of integer category codes.\n",
    "\n",
    "#### Shap Values\n",
    "- [ ] Make Shapley force plots to explain at least 4 individual predictions.\n",
    "    - If your project is Binary Classification, you can do a True Positive, True Negative, False Positive, False Negative.\n",
    "    - If your project is Regression, you can do a high prediction with low error, a low prediction with low error, a high prediction with high error, and a low prediction with high error.\n",
    "- [ ] Use Shapley values to display verbal explanations of individual predictions.\n",
    "- [ ] Use the SHAP library for other visualization types.\n",
    "\n",
    "The [SHAP repo](https://github.com/slundberg/shap) has examples for many visualization types, including:\n",
    "\n",
    "- Force Plot, individual predictions\n",
    "- Force Plot, multiple predictions\n",
    "- Dependence Plot\n",
    "- Summary Plot\n",
    "- Summary Plot, Bar\n",
    "- Interaction Values\n",
    "- Decision Plots\n",
    "\n",
    "We just did the first type during the lesson. The [Kaggle microcourse](https://www.kaggle.com/dansbecker/advanced-uses-of-shap-values) shows two more. Experiment and see what you can learn!\n",
    "\n",
    "### Links\n",
    "\n",
    "#### Partial Dependence Plots\n",
    "- [Kaggle / Dan Becker: Machine Learning Explainability — Partial Dependence Plots](https://www.kaggle.com/dansbecker/partial-plots)\n",
    "- [Christoph Molnar: Interpretable Machine Learning — Partial Dependence Plots](https://christophm.github.io/interpretable-ml-book/pdp.html) + [animated explanation](https://twitter.com/ChristophMolnar/status/1066398522608635904)\n",
    "- [pdpbox repo](https://github.com/SauceCat/PDPbox) & [docs](https://pdpbox.readthedocs.io/en/latest/)\n",
    "- [Plotly: 3D PDP example](https://plot.ly/scikit-learn/plot-partial-dependence/#partial-dependence-of-house-value-on-median-age-and-average-occupancy)\n",
    "\n",
    "#### Shapley Values\n",
    "- [Kaggle / Dan Becker: Machine Learning Explainability — SHAP Values](https://www.kaggle.com/learn/machine-learning-explainability)\n",
    "- [Christoph Molnar: Interpretable Machine Learning — Shapley Values](https://christophm.github.io/interpretable-ml-book/shapley.html)\n",
    "- [SHAP repo](https://github.com/slundberg/shap) & [docs](https://shap.readthedocs.io/en/latest/)"
   ]
  },
  {
   "cell_type": "markdown",
   "metadata": {},
   "source": [
    "# Uploading Data Set"
   ]
  },
  {
   "cell_type": "code",
   "execution_count": 1,
   "metadata": {},
   "outputs": [],
   "source": [
    "import sys\n",
    "\n",
    "# If you're on Colab:\n",
    "if 'google.colab' in sys.modules:\n",
    "    DATA_PATH = 'https://raw.githubusercontent.com/LambdaSchool/DS-Unit-2-Applied-Modeling/master/data/'\n",
    "\n",
    "# If you're working locally:\n",
    "else:\n",
    "    DATA_PATH = '../data/'\n",
    "    \n",
    "# Ignore this Numpy warning when using Plotly Express:\n",
    "# FutureWarning: Method .ptp is deprecated and will be removed in a future version. Use numpy.ptp instead.\n",
    "import warnings\n",
    "warnings.filterwarnings(action='ignore', category=FutureWarning, module='numpy')"
   ]
  },
  {
   "cell_type": "code",
   "execution_count": 2,
   "metadata": {},
   "outputs": [],
   "source": [
    "import pandas as pd\n",
    "import numpy as np\n",
    "from sklearn.model_selection import train_test_split\n",
    "\n",
    "df = pd.read_csv('/Users/bradbrauser/Desktop/Data Science/MoviesOnStreamingPlatforms_updated.csv')"
   ]
  },
  {
   "cell_type": "code",
   "execution_count": 3,
   "metadata": {},
   "outputs": [
    {
     "data": {
      "text/plain": [
       "(16744, 17)"
      ]
     },
     "execution_count": 3,
     "metadata": {},
     "output_type": "execute_result"
    }
   ],
   "source": [
    "df.shape"
   ]
  },
  {
   "cell_type": "markdown",
   "metadata": {},
   "source": [
    "# Which column in your tabular dataset will you predict, and how is your target distributed?\n",
    "\n",
    "The dataset has two rating features - IMDb and Rotten Tomatoes.\n",
    "\n",
    "IMDb is great for seeing what general audiences think of a movie. If you don’t care what the critics say and want to see what people like yourself think of a movie, then you should use IMDb. Just be aware that fans often skew the vote with 10-star ratings, which may inflate scores somewhat.\n",
    "\n",
    "Rotten Tomatoes offers the best overall picture of whether a movie is worth seeing at a glance. If you only trust the opinions of top critics and just want to know if a movie is at least decent, you should use Rotten Tomatoes. While the Fresh/Rotten binary can oversimplify the often complex opinions of critics, it should still help you weed out lousy films.\n",
    "\n",
    "My goal with this project is more in line with IMDb, as even though scores may be skewed a bit by fans of the movies, I still want to know what the public thinks, because it seems that more often than not critics do not always line up with the public opinion."
   ]
  },
  {
   "cell_type": "code",
   "execution_count": 4,
   "metadata": {},
   "outputs": [
    {
     "name": "stdout",
     "output_type": "stream",
     "text": [
      "571\n",
      "11586\n"
     ]
    }
   ],
   "source": [
    "print(df['IMDb'].isnull().sum())\n",
    "print(df['Rotten Tomatoes'].isnull().sum())"
   ]
  },
  {
   "cell_type": "code",
   "execution_count": 5,
   "metadata": {},
   "outputs": [
    {
     "data": {
      "text/plain": [
       "array(['13+', '18+', '7+', nan, 'all', '16+'], dtype=object)"
      ]
     },
     "execution_count": 5,
     "metadata": {},
     "output_type": "execute_result"
    }
   ],
   "source": [
    "# Since the Rotten Tomatoes features has over 11,000 missing ratings, \n",
    "# I'm going to just drop the Rotten Tomatoes column\n",
    "\n",
    "df = df.drop(['Rotten Tomatoes'], axis = 1)\n",
    "df['Age'].unique()"
   ]
  },
  {
   "cell_type": "code",
   "execution_count": 6,
   "metadata": {},
   "outputs": [
    {
     "data": {
      "text/html": [
       "<div>\n",
       "<style scoped>\n",
       "    .dataframe tbody tr th:only-of-type {\n",
       "        vertical-align: middle;\n",
       "    }\n",
       "\n",
       "    .dataframe tbody tr th {\n",
       "        vertical-align: top;\n",
       "    }\n",
       "\n",
       "    .dataframe thead th {\n",
       "        text-align: right;\n",
       "    }\n",
       "</style>\n",
       "<table border=\"1\" class=\"dataframe\">\n",
       "  <thead>\n",
       "    <tr style=\"text-align: right;\">\n",
       "      <th></th>\n",
       "      <th>Unnamed: 0</th>\n",
       "      <th>ID</th>\n",
       "      <th>Title</th>\n",
       "      <th>Year</th>\n",
       "      <th>Age</th>\n",
       "      <th>IMDb</th>\n",
       "      <th>Netflix</th>\n",
       "      <th>Hulu</th>\n",
       "      <th>Prime Video</th>\n",
       "      <th>Disney+</th>\n",
       "      <th>Type</th>\n",
       "      <th>Directors</th>\n",
       "      <th>Genres</th>\n",
       "      <th>Country</th>\n",
       "      <th>Language</th>\n",
       "      <th>Runtime</th>\n",
       "    </tr>\n",
       "  </thead>\n",
       "  <tbody>\n",
       "    <tr>\n",
       "      <th>0</th>\n",
       "      <td>0</td>\n",
       "      <td>1</td>\n",
       "      <td>Inception</td>\n",
       "      <td>2010</td>\n",
       "      <td>13+</td>\n",
       "      <td>8.8</td>\n",
       "      <td>1</td>\n",
       "      <td>0</td>\n",
       "      <td>0</td>\n",
       "      <td>0</td>\n",
       "      <td>0</td>\n",
       "      <td>Christopher Nolan</td>\n",
       "      <td>Action,Adventure,Sci-Fi,Thriller</td>\n",
       "      <td>United States,United Kingdom</td>\n",
       "      <td>English,Japanese,French</td>\n",
       "      <td>148.0</td>\n",
       "    </tr>\n",
       "    <tr>\n",
       "      <th>1</th>\n",
       "      <td>1</td>\n",
       "      <td>2</td>\n",
       "      <td>The Matrix</td>\n",
       "      <td>1999</td>\n",
       "      <td>18+</td>\n",
       "      <td>8.7</td>\n",
       "      <td>1</td>\n",
       "      <td>0</td>\n",
       "      <td>0</td>\n",
       "      <td>0</td>\n",
       "      <td>0</td>\n",
       "      <td>Lana Wachowski,Lilly Wachowski</td>\n",
       "      <td>Action,Sci-Fi</td>\n",
       "      <td>United States</td>\n",
       "      <td>English</td>\n",
       "      <td>136.0</td>\n",
       "    </tr>\n",
       "    <tr>\n",
       "      <th>2</th>\n",
       "      <td>2</td>\n",
       "      <td>3</td>\n",
       "      <td>Avengers: Infinity War</td>\n",
       "      <td>2018</td>\n",
       "      <td>13+</td>\n",
       "      <td>8.5</td>\n",
       "      <td>1</td>\n",
       "      <td>0</td>\n",
       "      <td>0</td>\n",
       "      <td>0</td>\n",
       "      <td>0</td>\n",
       "      <td>Anthony Russo,Joe Russo</td>\n",
       "      <td>Action,Adventure,Sci-Fi</td>\n",
       "      <td>United States</td>\n",
       "      <td>English</td>\n",
       "      <td>149.0</td>\n",
       "    </tr>\n",
       "    <tr>\n",
       "      <th>3</th>\n",
       "      <td>3</td>\n",
       "      <td>4</td>\n",
       "      <td>Back to the Future</td>\n",
       "      <td>1985</td>\n",
       "      <td>7+</td>\n",
       "      <td>8.5</td>\n",
       "      <td>1</td>\n",
       "      <td>0</td>\n",
       "      <td>0</td>\n",
       "      <td>0</td>\n",
       "      <td>0</td>\n",
       "      <td>Robert Zemeckis</td>\n",
       "      <td>Adventure,Comedy,Sci-Fi</td>\n",
       "      <td>United States</td>\n",
       "      <td>English</td>\n",
       "      <td>116.0</td>\n",
       "    </tr>\n",
       "    <tr>\n",
       "      <th>4</th>\n",
       "      <td>4</td>\n",
       "      <td>5</td>\n",
       "      <td>The Good, the Bad and the Ugly</td>\n",
       "      <td>1966</td>\n",
       "      <td>18+</td>\n",
       "      <td>8.8</td>\n",
       "      <td>1</td>\n",
       "      <td>0</td>\n",
       "      <td>1</td>\n",
       "      <td>0</td>\n",
       "      <td>0</td>\n",
       "      <td>Sergio Leone</td>\n",
       "      <td>Western</td>\n",
       "      <td>Italy,Spain,West Germany</td>\n",
       "      <td>Italian</td>\n",
       "      <td>161.0</td>\n",
       "    </tr>\n",
       "  </tbody>\n",
       "</table>\n",
       "</div>"
      ],
      "text/plain": [
       "   Unnamed: 0  ID                           Title  Year  Age  IMDb  Netflix  \\\n",
       "0           0   1                       Inception  2010  13+   8.8        1   \n",
       "1           1   2                      The Matrix  1999  18+   8.7        1   \n",
       "2           2   3          Avengers: Infinity War  2018  13+   8.5        1   \n",
       "3           3   4              Back to the Future  1985   7+   8.5        1   \n",
       "4           4   5  The Good, the Bad and the Ugly  1966  18+   8.8        1   \n",
       "\n",
       "   Hulu  Prime Video  Disney+  Type                       Directors  \\\n",
       "0     0            0        0     0               Christopher Nolan   \n",
       "1     0            0        0     0  Lana Wachowski,Lilly Wachowski   \n",
       "2     0            0        0     0         Anthony Russo,Joe Russo   \n",
       "3     0            0        0     0                 Robert Zemeckis   \n",
       "4     0            1        0     0                    Sergio Leone   \n",
       "\n",
       "                             Genres                       Country  \\\n",
       "0  Action,Adventure,Sci-Fi,Thriller  United States,United Kingdom   \n",
       "1                     Action,Sci-Fi                 United States   \n",
       "2           Action,Adventure,Sci-Fi                 United States   \n",
       "3           Adventure,Comedy,Sci-Fi                 United States   \n",
       "4                           Western      Italy,Spain,West Germany   \n",
       "\n",
       "                  Language  Runtime  \n",
       "0  English,Japanese,French    148.0  \n",
       "1                  English    136.0  \n",
       "2                  English    149.0  \n",
       "3                  English    116.0  \n",
       "4                  Italian    161.0  "
      ]
     },
     "execution_count": 6,
     "metadata": {},
     "output_type": "execute_result"
    }
   ],
   "source": [
    "df = df.dropna(subset=['IMDb'], how='all')\n",
    "df['IMDb'].isnull().sum()\n",
    "\n",
    "df.head()"
   ]
  },
  {
   "cell_type": "code",
   "execution_count": 34,
   "metadata": {},
   "outputs": [],
   "source": [
    "def wrangle(df, thresh=500):\n",
    "    df = df.copy()\n",
    "    \n",
    "    # Setting Title as index\n",
    "    df.set_index(df['Title'], inplace = True)    \n",
    "    \n",
    "    # Dropping rows if nulls exist\n",
    "    df.dropna(subset=['IMDb'], how='all')\n",
    "    \n",
    "#     # Creating new Rating colums\n",
    "#     df['Worth Watching?'] = df['IMDb'] >= 6.6\n",
    "    \n",
    "    # Creating rating column based on letter grades\n",
    "    names = {'First_name': ['Jon','Bill','Maria','Emma']}\n",
    "    \n",
    "#     # Replacing values in Age column\n",
    "#     df['Age'] = df['Age'].replace(to_replace =\"13+\", value = 'PG')\n",
    "#     df['Age'] = df['Age'].replace(to_replace =\"18+\", value = 'R')\n",
    "#     df['Age'] = df['Age'].replace(to_replace =\"7+\", value = 'G')\n",
    "#     df['Age'] = df['Age'].replace(to_replace =\"all\", value = 'G')\n",
    "#     df['Age'] = df['Age'].replace(to_replace =\"16+\", value = 'PG-13')\n",
    "    \n",
    "    # Rename Age to MPAA Rating\n",
    "    df = df.rename(columns = {'Age': 'MPAA Rating'})\n",
    "    \n",
    "    # Creating individual genre columns\n",
    "    df['Action'] = df['Genres'].str.contains('Action')\n",
    "    df['Adventure'] = df['Genres'].str.contains('Adventure')\n",
    "    df['Animation'] = df['Genres'].str.contains('Animation')\n",
    "    df['Biography'] = df['Genres'].str.contains('Biography')\n",
    "    df['Comedy'] = df['Genres'].str.contains('Comedy')\n",
    "    df['Crime'] = df['Genres'].str.contains('Crime')\n",
    "    df['Documentary'] = df['Genres'].str.contains('Documentary')\n",
    "    df['Drama'] = df['Genres'].str.contains('Drama')\n",
    "    df['Family'] = df['Genres'].str.contains('Family')\n",
    "    df['Fantasy'] = df['Genres'].str.contains('Fantasy')\n",
    "    df['Film Noir'] = df['Genres'].str.contains('Film Noir')\n",
    "    df['History'] = df['Genres'].str.contains('History')\n",
    "    df['Horror'] = df['Genres'].str.contains('Horror')\n",
    "    df['Music'] = df['Genres'].str.contains('Music')\n",
    "    df['Musical'] = df['Genres'].str.contains('Musical')\n",
    "    df['Mystery'] = df['Genres'].str.contains('Mystery')\n",
    "    df['Romance'] = df['Genres'].str.contains('Romance')\n",
    "    df['Sci-Fi'] = df['Genres'].str.contains('Sci-Fi')\n",
    "    df['Short Film'] = df['Genres'].str.contains('Short Film')\n",
    "    df['Sport'] = df['Genres'].str.contains('Sport')\n",
    "    df['Superhero'] = df['Genres'].str.contains('Superhero')\n",
    "    df['Thriller'] = df['Genres'].str.contains('Thriller')\n",
    "    df['War'] = df['Genres'].str.contains('War')\n",
    "    df['Western'] = df['Genres'].str.contains('Western')\n",
    "\n",
    "    # Dropping unnecessary values\n",
    "    df.drop(['Genres', 'Unnamed: 0', 'ID', 'Type', 'Title', 'IMDb'], axis=1, inplace=True)\n",
    "    \n",
    "    # Dropping other nulls\n",
    "    df = df.dropna()\n",
    "    \n",
    "    # Split label and feature matrix\n",
    "    y = df['Worth Watching?']\n",
    "    df.drop(['Worth Watching?'], axis=1, inplace=True)\n",
    "    \n",
    "    return df, y"
   ]
  },
  {
   "cell_type": "code",
   "execution_count": 35,
   "metadata": {},
   "outputs": [
    {
     "ename": "ValueError",
     "evalue": "Wrong number of items passed 17, placement implies 1",
     "output_type": "error",
     "traceback": [
      "\u001b[0;31m---------------------------------------------------------------------------\u001b[0m",
      "\u001b[0;31mKeyError\u001b[0m                                  Traceback (most recent call last)",
      "\u001b[0;32m~/opt/anaconda3/envs/unit2/lib/python3.7/site-packages/pandas/core/indexes/base.py\u001b[0m in \u001b[0;36mget_loc\u001b[0;34m(self, key, method, tolerance)\u001b[0m\n\u001b[1;32m   2645\u001b[0m             \u001b[0;32mtry\u001b[0m\u001b[0;34m:\u001b[0m\u001b[0;34m\u001b[0m\u001b[0;34m\u001b[0m\u001b[0m\n\u001b[0;32m-> 2646\u001b[0;31m                 \u001b[0;32mreturn\u001b[0m \u001b[0mself\u001b[0m\u001b[0;34m.\u001b[0m\u001b[0m_engine\u001b[0m\u001b[0;34m.\u001b[0m\u001b[0mget_loc\u001b[0m\u001b[0;34m(\u001b[0m\u001b[0mkey\u001b[0m\u001b[0;34m)\u001b[0m\u001b[0;34m\u001b[0m\u001b[0;34m\u001b[0m\u001b[0m\n\u001b[0m\u001b[1;32m   2647\u001b[0m             \u001b[0;32mexcept\u001b[0m \u001b[0mKeyError\u001b[0m\u001b[0;34m:\u001b[0m\u001b[0;34m\u001b[0m\u001b[0;34m\u001b[0m\u001b[0m\n",
      "\u001b[0;32mpandas/_libs/index.pyx\u001b[0m in \u001b[0;36mpandas._libs.index.IndexEngine.get_loc\u001b[0;34m()\u001b[0m\n",
      "\u001b[0;32mpandas/_libs/index.pyx\u001b[0m in \u001b[0;36mpandas._libs.index.IndexEngine.get_loc\u001b[0;34m()\u001b[0m\n",
      "\u001b[0;32mpandas/_libs/hashtable_class_helper.pxi\u001b[0m in \u001b[0;36mpandas._libs.hashtable.PyObjectHashTable.get_item\u001b[0;34m()\u001b[0m\n",
      "\u001b[0;32mpandas/_libs/hashtable_class_helper.pxi\u001b[0m in \u001b[0;36mpandas._libs.hashtable.PyObjectHashTable.get_item\u001b[0;34m()\u001b[0m\n",
      "\u001b[0;31mKeyError\u001b[0m: 'Rating'",
      "\nDuring handling of the above exception, another exception occurred:\n",
      "\u001b[0;31mKeyError\u001b[0m                                  Traceback (most recent call last)",
      "\u001b[0;32m~/opt/anaconda3/envs/unit2/lib/python3.7/site-packages/pandas/core/internals/managers.py\u001b[0m in \u001b[0;36mset\u001b[0;34m(self, item, value)\u001b[0m\n\u001b[1;32m   1070\u001b[0m         \u001b[0;32mtry\u001b[0m\u001b[0;34m:\u001b[0m\u001b[0;34m\u001b[0m\u001b[0;34m\u001b[0m\u001b[0m\n\u001b[0;32m-> 1071\u001b[0;31m             \u001b[0mloc\u001b[0m \u001b[0;34m=\u001b[0m \u001b[0mself\u001b[0m\u001b[0;34m.\u001b[0m\u001b[0mitems\u001b[0m\u001b[0;34m.\u001b[0m\u001b[0mget_loc\u001b[0m\u001b[0;34m(\u001b[0m\u001b[0mitem\u001b[0m\u001b[0;34m)\u001b[0m\u001b[0;34m\u001b[0m\u001b[0;34m\u001b[0m\u001b[0m\n\u001b[0m\u001b[1;32m   1072\u001b[0m         \u001b[0;32mexcept\u001b[0m \u001b[0mKeyError\u001b[0m\u001b[0;34m:\u001b[0m\u001b[0;34m\u001b[0m\u001b[0;34m\u001b[0m\u001b[0m\n",
      "\u001b[0;32m~/opt/anaconda3/envs/unit2/lib/python3.7/site-packages/pandas/core/indexes/base.py\u001b[0m in \u001b[0;36mget_loc\u001b[0;34m(self, key, method, tolerance)\u001b[0m\n\u001b[1;32m   2647\u001b[0m             \u001b[0;32mexcept\u001b[0m \u001b[0mKeyError\u001b[0m\u001b[0;34m:\u001b[0m\u001b[0;34m\u001b[0m\u001b[0;34m\u001b[0m\u001b[0m\n\u001b[0;32m-> 2648\u001b[0;31m                 \u001b[0;32mreturn\u001b[0m \u001b[0mself\u001b[0m\u001b[0;34m.\u001b[0m\u001b[0m_engine\u001b[0m\u001b[0;34m.\u001b[0m\u001b[0mget_loc\u001b[0m\u001b[0;34m(\u001b[0m\u001b[0mself\u001b[0m\u001b[0;34m.\u001b[0m\u001b[0m_maybe_cast_indexer\u001b[0m\u001b[0;34m(\u001b[0m\u001b[0mkey\u001b[0m\u001b[0;34m)\u001b[0m\u001b[0;34m)\u001b[0m\u001b[0;34m\u001b[0m\u001b[0;34m\u001b[0m\u001b[0m\n\u001b[0m\u001b[1;32m   2649\u001b[0m         \u001b[0mindexer\u001b[0m \u001b[0;34m=\u001b[0m \u001b[0mself\u001b[0m\u001b[0;34m.\u001b[0m\u001b[0mget_indexer\u001b[0m\u001b[0;34m(\u001b[0m\u001b[0;34m[\u001b[0m\u001b[0mkey\u001b[0m\u001b[0;34m]\u001b[0m\u001b[0;34m,\u001b[0m \u001b[0mmethod\u001b[0m\u001b[0;34m=\u001b[0m\u001b[0mmethod\u001b[0m\u001b[0;34m,\u001b[0m \u001b[0mtolerance\u001b[0m\u001b[0;34m=\u001b[0m\u001b[0mtolerance\u001b[0m\u001b[0;34m)\u001b[0m\u001b[0;34m\u001b[0m\u001b[0;34m\u001b[0m\u001b[0m\n",
      "\u001b[0;32mpandas/_libs/index.pyx\u001b[0m in \u001b[0;36mpandas._libs.index.IndexEngine.get_loc\u001b[0;34m()\u001b[0m\n",
      "\u001b[0;32mpandas/_libs/index.pyx\u001b[0m in \u001b[0;36mpandas._libs.index.IndexEngine.get_loc\u001b[0;34m()\u001b[0m\n",
      "\u001b[0;32mpandas/_libs/hashtable_class_helper.pxi\u001b[0m in \u001b[0;36mpandas._libs.hashtable.PyObjectHashTable.get_item\u001b[0;34m()\u001b[0m\n",
      "\u001b[0;32mpandas/_libs/hashtable_class_helper.pxi\u001b[0m in \u001b[0;36mpandas._libs.hashtable.PyObjectHashTable.get_item\u001b[0;34m()\u001b[0m\n",
      "\u001b[0;31mKeyError\u001b[0m: 'Rating'",
      "\nDuring handling of the above exception, another exception occurred:\n",
      "\u001b[0;31mValueError\u001b[0m                                Traceback (most recent call last)",
      "\u001b[0;32m<ipython-input-35-209e3704630e>\u001b[0m in \u001b[0;36m<module>\u001b[0;34m\u001b[0m\n\u001b[1;32m      2\u001b[0m \u001b[0;34m\u001b[0m\u001b[0m\n\u001b[1;32m      3\u001b[0m \u001b[0;31m# Wrangling\u001b[0m\u001b[0;34m\u001b[0m\u001b[0;34m\u001b[0m\u001b[0;34m\u001b[0m\u001b[0m\n\u001b[0;32m----> 4\u001b[0;31m \u001b[0mX\u001b[0m\u001b[0;34m,\u001b[0m \u001b[0my\u001b[0m \u001b[0;34m=\u001b[0m \u001b[0mwrangle\u001b[0m\u001b[0;34m(\u001b[0m\u001b[0mdf\u001b[0m\u001b[0;34m)\u001b[0m\u001b[0;34m\u001b[0m\u001b[0;34m\u001b[0m\u001b[0m\n\u001b[0m\u001b[1;32m      5\u001b[0m \u001b[0mX\u001b[0m\u001b[0;34m.\u001b[0m\u001b[0mhead\u001b[0m\u001b[0;34m(\u001b[0m\u001b[0;34m)\u001b[0m\u001b[0;34m\u001b[0m\u001b[0;34m\u001b[0m\u001b[0m\n",
      "\u001b[0;32m<ipython-input-34-05d82ad7d8b6>\u001b[0m in \u001b[0;36mwrangle\u001b[0;34m(df, thresh)\u001b[0m\n\u001b[1;32m     11\u001b[0m     \u001b[0mdf\u001b[0m\u001b[0;34m[\u001b[0m\u001b[0;34m'Worth Watching?'\u001b[0m\u001b[0;34m]\u001b[0m \u001b[0;34m=\u001b[0m \u001b[0mdf\u001b[0m\u001b[0;34m[\u001b[0m\u001b[0;34m'IMDb'\u001b[0m\u001b[0;34m]\u001b[0m \u001b[0;34m>=\u001b[0m \u001b[0;36m6.6\u001b[0m\u001b[0;34m\u001b[0m\u001b[0;34m\u001b[0m\u001b[0m\n\u001b[1;32m     12\u001b[0m \u001b[0;34m\u001b[0m\u001b[0m\n\u001b[0;32m---> 13\u001b[0;31m     \u001b[0mdf\u001b[0m\u001b[0;34m[\u001b[0m\u001b[0;34m'Rating'\u001b[0m\u001b[0;34m]\u001b[0m \u001b[0;34m=\u001b[0m \u001b[0mdf\u001b[0m\u001b[0;34m\u001b[0m\u001b[0;34m\u001b[0m\u001b[0m\n\u001b[0m\u001b[1;32m     14\u001b[0m \u001b[0;34m\u001b[0m\u001b[0m\n\u001b[1;32m     15\u001b[0m \u001b[0;31m#     # Replacing values in Age column\u001b[0m\u001b[0;34m\u001b[0m\u001b[0;34m\u001b[0m\u001b[0;34m\u001b[0m\u001b[0m\n",
      "\u001b[0;32m~/opt/anaconda3/envs/unit2/lib/python3.7/site-packages/pandas/core/frame.py\u001b[0m in \u001b[0;36m__setitem__\u001b[0;34m(self, key, value)\u001b[0m\n\u001b[1;32m   2936\u001b[0m         \u001b[0;32melse\u001b[0m\u001b[0;34m:\u001b[0m\u001b[0;34m\u001b[0m\u001b[0;34m\u001b[0m\u001b[0m\n\u001b[1;32m   2937\u001b[0m             \u001b[0;31m# set column\u001b[0m\u001b[0;34m\u001b[0m\u001b[0;34m\u001b[0m\u001b[0;34m\u001b[0m\u001b[0m\n\u001b[0;32m-> 2938\u001b[0;31m             \u001b[0mself\u001b[0m\u001b[0;34m.\u001b[0m\u001b[0m_set_item\u001b[0m\u001b[0;34m(\u001b[0m\u001b[0mkey\u001b[0m\u001b[0;34m,\u001b[0m \u001b[0mvalue\u001b[0m\u001b[0;34m)\u001b[0m\u001b[0;34m\u001b[0m\u001b[0;34m\u001b[0m\u001b[0m\n\u001b[0m\u001b[1;32m   2939\u001b[0m \u001b[0;34m\u001b[0m\u001b[0m\n\u001b[1;32m   2940\u001b[0m     \u001b[0;32mdef\u001b[0m \u001b[0m_setitem_slice\u001b[0m\u001b[0;34m(\u001b[0m\u001b[0mself\u001b[0m\u001b[0;34m,\u001b[0m \u001b[0mkey\u001b[0m\u001b[0;34m,\u001b[0m \u001b[0mvalue\u001b[0m\u001b[0;34m)\u001b[0m\u001b[0;34m:\u001b[0m\u001b[0;34m\u001b[0m\u001b[0;34m\u001b[0m\u001b[0m\n",
      "\u001b[0;32m~/opt/anaconda3/envs/unit2/lib/python3.7/site-packages/pandas/core/frame.py\u001b[0m in \u001b[0;36m_set_item\u001b[0;34m(self, key, value)\u001b[0m\n\u001b[1;32m   2999\u001b[0m         \u001b[0mself\u001b[0m\u001b[0;34m.\u001b[0m\u001b[0m_ensure_valid_index\u001b[0m\u001b[0;34m(\u001b[0m\u001b[0mvalue\u001b[0m\u001b[0;34m)\u001b[0m\u001b[0;34m\u001b[0m\u001b[0;34m\u001b[0m\u001b[0m\n\u001b[1;32m   3000\u001b[0m         \u001b[0mvalue\u001b[0m \u001b[0;34m=\u001b[0m \u001b[0mself\u001b[0m\u001b[0;34m.\u001b[0m\u001b[0m_sanitize_column\u001b[0m\u001b[0;34m(\u001b[0m\u001b[0mkey\u001b[0m\u001b[0;34m,\u001b[0m \u001b[0mvalue\u001b[0m\u001b[0;34m)\u001b[0m\u001b[0;34m\u001b[0m\u001b[0;34m\u001b[0m\u001b[0m\n\u001b[0;32m-> 3001\u001b[0;31m         \u001b[0mNDFrame\u001b[0m\u001b[0;34m.\u001b[0m\u001b[0m_set_item\u001b[0m\u001b[0;34m(\u001b[0m\u001b[0mself\u001b[0m\u001b[0;34m,\u001b[0m \u001b[0mkey\u001b[0m\u001b[0;34m,\u001b[0m \u001b[0mvalue\u001b[0m\u001b[0;34m)\u001b[0m\u001b[0;34m\u001b[0m\u001b[0;34m\u001b[0m\u001b[0m\n\u001b[0m\u001b[1;32m   3002\u001b[0m \u001b[0;34m\u001b[0m\u001b[0m\n\u001b[1;32m   3003\u001b[0m         \u001b[0;31m# check if we are modifying a copy\u001b[0m\u001b[0;34m\u001b[0m\u001b[0;34m\u001b[0m\u001b[0;34m\u001b[0m\u001b[0m\n",
      "\u001b[0;32m~/opt/anaconda3/envs/unit2/lib/python3.7/site-packages/pandas/core/generic.py\u001b[0m in \u001b[0;36m_set_item\u001b[0;34m(self, key, value)\u001b[0m\n\u001b[1;32m   3622\u001b[0m \u001b[0;34m\u001b[0m\u001b[0m\n\u001b[1;32m   3623\u001b[0m     \u001b[0;32mdef\u001b[0m \u001b[0m_set_item\u001b[0m\u001b[0;34m(\u001b[0m\u001b[0mself\u001b[0m\u001b[0;34m,\u001b[0m \u001b[0mkey\u001b[0m\u001b[0;34m,\u001b[0m \u001b[0mvalue\u001b[0m\u001b[0;34m)\u001b[0m \u001b[0;34m->\u001b[0m \u001b[0;32mNone\u001b[0m\u001b[0;34m:\u001b[0m\u001b[0;34m\u001b[0m\u001b[0;34m\u001b[0m\u001b[0m\n\u001b[0;32m-> 3624\u001b[0;31m         \u001b[0mself\u001b[0m\u001b[0;34m.\u001b[0m\u001b[0m_data\u001b[0m\u001b[0;34m.\u001b[0m\u001b[0mset\u001b[0m\u001b[0;34m(\u001b[0m\u001b[0mkey\u001b[0m\u001b[0;34m,\u001b[0m \u001b[0mvalue\u001b[0m\u001b[0;34m)\u001b[0m\u001b[0;34m\u001b[0m\u001b[0;34m\u001b[0m\u001b[0m\n\u001b[0m\u001b[1;32m   3625\u001b[0m         \u001b[0mself\u001b[0m\u001b[0;34m.\u001b[0m\u001b[0m_clear_item_cache\u001b[0m\u001b[0;34m(\u001b[0m\u001b[0;34m)\u001b[0m\u001b[0;34m\u001b[0m\u001b[0;34m\u001b[0m\u001b[0m\n\u001b[1;32m   3626\u001b[0m \u001b[0;34m\u001b[0m\u001b[0m\n",
      "\u001b[0;32m~/opt/anaconda3/envs/unit2/lib/python3.7/site-packages/pandas/core/internals/managers.py\u001b[0m in \u001b[0;36mset\u001b[0;34m(self, item, value)\u001b[0m\n\u001b[1;32m   1072\u001b[0m         \u001b[0;32mexcept\u001b[0m \u001b[0mKeyError\u001b[0m\u001b[0;34m:\u001b[0m\u001b[0;34m\u001b[0m\u001b[0;34m\u001b[0m\u001b[0m\n\u001b[1;32m   1073\u001b[0m             \u001b[0;31m# This item wasn't present, just insert at end\u001b[0m\u001b[0;34m\u001b[0m\u001b[0;34m\u001b[0m\u001b[0;34m\u001b[0m\u001b[0m\n\u001b[0;32m-> 1074\u001b[0;31m             \u001b[0mself\u001b[0m\u001b[0;34m.\u001b[0m\u001b[0minsert\u001b[0m\u001b[0;34m(\u001b[0m\u001b[0mlen\u001b[0m\u001b[0;34m(\u001b[0m\u001b[0mself\u001b[0m\u001b[0;34m.\u001b[0m\u001b[0mitems\u001b[0m\u001b[0;34m)\u001b[0m\u001b[0;34m,\u001b[0m \u001b[0mitem\u001b[0m\u001b[0;34m,\u001b[0m \u001b[0mvalue\u001b[0m\u001b[0;34m)\u001b[0m\u001b[0;34m\u001b[0m\u001b[0;34m\u001b[0m\u001b[0m\n\u001b[0m\u001b[1;32m   1075\u001b[0m             \u001b[0;32mreturn\u001b[0m\u001b[0;34m\u001b[0m\u001b[0;34m\u001b[0m\u001b[0m\n\u001b[1;32m   1076\u001b[0m \u001b[0;34m\u001b[0m\u001b[0m\n",
      "\u001b[0;32m~/opt/anaconda3/envs/unit2/lib/python3.7/site-packages/pandas/core/internals/managers.py\u001b[0m in \u001b[0;36minsert\u001b[0;34m(self, loc, item, value, allow_duplicates)\u001b[0m\n\u001b[1;32m   1179\u001b[0m         \u001b[0mnew_axis\u001b[0m \u001b[0;34m=\u001b[0m \u001b[0mself\u001b[0m\u001b[0;34m.\u001b[0m\u001b[0mitems\u001b[0m\u001b[0;34m.\u001b[0m\u001b[0minsert\u001b[0m\u001b[0;34m(\u001b[0m\u001b[0mloc\u001b[0m\u001b[0;34m,\u001b[0m \u001b[0mitem\u001b[0m\u001b[0;34m)\u001b[0m\u001b[0;34m\u001b[0m\u001b[0;34m\u001b[0m\u001b[0m\n\u001b[1;32m   1180\u001b[0m \u001b[0;34m\u001b[0m\u001b[0m\n\u001b[0;32m-> 1181\u001b[0;31m         \u001b[0mblock\u001b[0m \u001b[0;34m=\u001b[0m \u001b[0mmake_block\u001b[0m\u001b[0;34m(\u001b[0m\u001b[0mvalues\u001b[0m\u001b[0;34m=\u001b[0m\u001b[0mvalue\u001b[0m\u001b[0;34m,\u001b[0m \u001b[0mndim\u001b[0m\u001b[0;34m=\u001b[0m\u001b[0mself\u001b[0m\u001b[0;34m.\u001b[0m\u001b[0mndim\u001b[0m\u001b[0;34m,\u001b[0m \u001b[0mplacement\u001b[0m\u001b[0;34m=\u001b[0m\u001b[0mslice\u001b[0m\u001b[0;34m(\u001b[0m\u001b[0mloc\u001b[0m\u001b[0;34m,\u001b[0m \u001b[0mloc\u001b[0m \u001b[0;34m+\u001b[0m \u001b[0;36m1\u001b[0m\u001b[0;34m)\u001b[0m\u001b[0;34m)\u001b[0m\u001b[0;34m\u001b[0m\u001b[0;34m\u001b[0m\u001b[0m\n\u001b[0m\u001b[1;32m   1182\u001b[0m \u001b[0;34m\u001b[0m\u001b[0m\n\u001b[1;32m   1183\u001b[0m         \u001b[0;32mfor\u001b[0m \u001b[0mblkno\u001b[0m\u001b[0;34m,\u001b[0m \u001b[0mcount\u001b[0m \u001b[0;32min\u001b[0m \u001b[0m_fast_count_smallints\u001b[0m\u001b[0;34m(\u001b[0m\u001b[0mself\u001b[0m\u001b[0;34m.\u001b[0m\u001b[0m_blknos\u001b[0m\u001b[0;34m[\u001b[0m\u001b[0mloc\u001b[0m\u001b[0;34m:\u001b[0m\u001b[0;34m]\u001b[0m\u001b[0;34m)\u001b[0m\u001b[0;34m:\u001b[0m\u001b[0;34m\u001b[0m\u001b[0;34m\u001b[0m\u001b[0m\n",
      "\u001b[0;32m~/opt/anaconda3/envs/unit2/lib/python3.7/site-packages/pandas/core/internals/blocks.py\u001b[0m in \u001b[0;36mmake_block\u001b[0;34m(values, placement, klass, ndim, dtype)\u001b[0m\n\u001b[1;32m   3051\u001b[0m         \u001b[0mvalues\u001b[0m \u001b[0;34m=\u001b[0m \u001b[0mDatetimeArray\u001b[0m\u001b[0;34m.\u001b[0m\u001b[0m_simple_new\u001b[0m\u001b[0;34m(\u001b[0m\u001b[0mvalues\u001b[0m\u001b[0;34m,\u001b[0m \u001b[0mdtype\u001b[0m\u001b[0;34m=\u001b[0m\u001b[0mdtype\u001b[0m\u001b[0;34m)\u001b[0m\u001b[0;34m\u001b[0m\u001b[0;34m\u001b[0m\u001b[0m\n\u001b[1;32m   3052\u001b[0m \u001b[0;34m\u001b[0m\u001b[0m\n\u001b[0;32m-> 3053\u001b[0;31m     \u001b[0;32mreturn\u001b[0m \u001b[0mklass\u001b[0m\u001b[0;34m(\u001b[0m\u001b[0mvalues\u001b[0m\u001b[0;34m,\u001b[0m \u001b[0mndim\u001b[0m\u001b[0;34m=\u001b[0m\u001b[0mndim\u001b[0m\u001b[0;34m,\u001b[0m \u001b[0mplacement\u001b[0m\u001b[0;34m=\u001b[0m\u001b[0mplacement\u001b[0m\u001b[0;34m)\u001b[0m\u001b[0;34m\u001b[0m\u001b[0;34m\u001b[0m\u001b[0m\n\u001b[0m\u001b[1;32m   3054\u001b[0m \u001b[0;34m\u001b[0m\u001b[0m\n\u001b[1;32m   3055\u001b[0m \u001b[0;34m\u001b[0m\u001b[0m\n",
      "\u001b[0;32m~/opt/anaconda3/envs/unit2/lib/python3.7/site-packages/pandas/core/internals/blocks.py\u001b[0m in \u001b[0;36m__init__\u001b[0;34m(self, values, placement, ndim)\u001b[0m\n\u001b[1;32m   2599\u001b[0m             \u001b[0mvalues\u001b[0m \u001b[0;34m=\u001b[0m \u001b[0mnp\u001b[0m\u001b[0;34m.\u001b[0m\u001b[0marray\u001b[0m\u001b[0;34m(\u001b[0m\u001b[0mvalues\u001b[0m\u001b[0;34m,\u001b[0m \u001b[0mdtype\u001b[0m\u001b[0;34m=\u001b[0m\u001b[0mobject\u001b[0m\u001b[0;34m)\u001b[0m\u001b[0;34m\u001b[0m\u001b[0;34m\u001b[0m\u001b[0m\n\u001b[1;32m   2600\u001b[0m \u001b[0;34m\u001b[0m\u001b[0m\n\u001b[0;32m-> 2601\u001b[0;31m         \u001b[0msuper\u001b[0m\u001b[0;34m(\u001b[0m\u001b[0;34m)\u001b[0m\u001b[0;34m.\u001b[0m\u001b[0m__init__\u001b[0m\u001b[0;34m(\u001b[0m\u001b[0mvalues\u001b[0m\u001b[0;34m,\u001b[0m \u001b[0mndim\u001b[0m\u001b[0;34m=\u001b[0m\u001b[0mndim\u001b[0m\u001b[0;34m,\u001b[0m \u001b[0mplacement\u001b[0m\u001b[0;34m=\u001b[0m\u001b[0mplacement\u001b[0m\u001b[0;34m)\u001b[0m\u001b[0;34m\u001b[0m\u001b[0;34m\u001b[0m\u001b[0m\n\u001b[0m\u001b[1;32m   2602\u001b[0m \u001b[0;34m\u001b[0m\u001b[0m\n\u001b[1;32m   2603\u001b[0m     \u001b[0;34m@\u001b[0m\u001b[0mproperty\u001b[0m\u001b[0;34m\u001b[0m\u001b[0;34m\u001b[0m\u001b[0m\n",
      "\u001b[0;32m~/opt/anaconda3/envs/unit2/lib/python3.7/site-packages/pandas/core/internals/blocks.py\u001b[0m in \u001b[0;36m__init__\u001b[0;34m(self, values, placement, ndim)\u001b[0m\n\u001b[1;32m    123\u001b[0m         \u001b[0;32mif\u001b[0m \u001b[0mself\u001b[0m\u001b[0;34m.\u001b[0m\u001b[0m_validate_ndim\u001b[0m \u001b[0;32mand\u001b[0m \u001b[0mself\u001b[0m\u001b[0;34m.\u001b[0m\u001b[0mndim\u001b[0m \u001b[0;32mand\u001b[0m \u001b[0mlen\u001b[0m\u001b[0;34m(\u001b[0m\u001b[0mself\u001b[0m\u001b[0;34m.\u001b[0m\u001b[0mmgr_locs\u001b[0m\u001b[0;34m)\u001b[0m \u001b[0;34m!=\u001b[0m \u001b[0mlen\u001b[0m\u001b[0;34m(\u001b[0m\u001b[0mself\u001b[0m\u001b[0;34m.\u001b[0m\u001b[0mvalues\u001b[0m\u001b[0;34m)\u001b[0m\u001b[0;34m:\u001b[0m\u001b[0;34m\u001b[0m\u001b[0;34m\u001b[0m\u001b[0m\n\u001b[1;32m    124\u001b[0m             raise ValueError(\n\u001b[0;32m--> 125\u001b[0;31m                 \u001b[0;34mf\"Wrong number of items passed {len(self.values)}, \"\u001b[0m\u001b[0;34m\u001b[0m\u001b[0;34m\u001b[0m\u001b[0m\n\u001b[0m\u001b[1;32m    126\u001b[0m                 \u001b[0;34mf\"placement implies {len(self.mgr_locs)}\"\u001b[0m\u001b[0;34m\u001b[0m\u001b[0;34m\u001b[0m\u001b[0m\n\u001b[1;32m    127\u001b[0m             )\n",
      "\u001b[0;31mValueError\u001b[0m: Wrong number of items passed 17, placement implies 1"
     ]
    }
   ],
   "source": [
    "from sklearn.model_selection import train_test_split, GridSearchCV, RandomizedSearchCV\n",
    "\n",
    "# Wrangling\n",
    "X, y = wrangle(df)\n",
    "X.head()"
   ]
  },
  {
   "cell_type": "code",
   "execution_count": 9,
   "metadata": {},
   "outputs": [
    {
     "data": {
      "text/plain": [
       "False    0.67585\n",
       "True     0.32415\n",
       "Name: Worth Watching?, dtype: float64"
      ]
     },
     "execution_count": 9,
     "metadata": {},
     "output_type": "execute_result"
    }
   ],
   "source": [
    "# Train test split on years movies were released\n",
    "cutoff = 2010\n",
    "X_train = X[X['Year'] < cutoff]\n",
    "y_train = y.loc[X_train.index]\n",
    "X_val = X[X['Year'] > cutoff]\n",
    "y_val = y.loc[X_val.index]\n",
    "\n",
    "# # Baseline\n",
    "y_train.value_counts(normalize = True)"
   ]
  },
  {
   "cell_type": "code",
   "execution_count": 10,
   "metadata": {},
   "outputs": [],
   "source": [
    "import matplotlib.pyplot as plt\n",
    "plt.rcParams['figure.dpi'] = 72"
   ]
  },
  {
   "cell_type": "code",
   "execution_count": 11,
   "metadata": {},
   "outputs": [],
   "source": [
    "from sklearn.ensemble import RandomForestClassifier\n",
    "from category_encoders import OneHotEncoder, OrdinalEncoder\n",
    "from sklearn.impute import SimpleImputer\n",
    "import category_encoders as ce\n",
    "from sklearn.pipeline import Pipeline\n",
    "from sklearn.feature_selection import SelectKBest\n",
    "from sklearn.preprocessing import StandardScaler, FunctionTransformer\n",
    "from sklearn.metrics import classification_report\n",
    "from sklearn.pipeline import make_pipeline\n",
    "from sklearn.metrics import accuracy_score\n",
    "from xgboost import XGBClassifier\n",
    "from sklearn.model_selection import GridSearchCV, RandomizedSearchCV\n",
    "from sklearn.linear_model import LinearRegression, LogisticRegression"
   ]
  },
  {
   "cell_type": "code",
   "execution_count": 12,
   "metadata": {},
   "outputs": [
    {
     "name": "stdout",
     "output_type": "stream",
     "text": [
      "Training Accuracy: 1.0\n",
      "Validation Accuracy: 0.5847851335656213\n"
     ]
    }
   ],
   "source": [
    "# Building model 1\n",
    "model1 = Pipeline([\n",
    "    ('oe', OrdinalEncoder()),\n",
    "    ('impute', SimpleImputer()),\n",
    "    ('scaler', StandardScaler()),\n",
    "    ('classifier', RandomForestClassifier(criterion='entropy', \n",
    "                                          max_depth=50, n_estimators=200, \n",
    "                                          min_samples_leaf=1, \n",
    "                                          random_state=42))\n",
    "])\n",
    "\n",
    "# Fitting the model\n",
    "model1.fit(X_train, y_train)\n",
    "\n",
    "print('Training Accuracy:', model1.score(X_train, y_train))\n",
    "print('Validation Accuracy:', model1.score(X_val, y_val))"
   ]
  },
  {
   "cell_type": "code",
   "execution_count": 13,
   "metadata": {},
   "outputs": [
    {
     "name": "stdout",
     "output_type": "stream",
     "text": [
      "Training Accuracy: 0.9991207502930832\n",
      "Validation Accuracy: 0.7322880371660859\n"
     ]
    }
   ],
   "source": [
    "# Building model 2\n",
    "model2 = Pipeline([\n",
    "                  ('ohe', OneHotEncoder()),\n",
    "                  ('impute', SimpleImputer()),\n",
    "                  ('scaler', StandardScaler()),\n",
    "                  ('classifier', RandomForestClassifier(criterion='entropy', \n",
    "                                                        max_depth=74, \n",
    "                                                        n_estimators=149, \n",
    "                                                        min_samples_leaf=1, \n",
    "                                                        random_state=42))\n",
    "])\n",
    "\n",
    "# Fitting the model\n",
    "model2.fit(X_train, y_train)\n",
    "\n",
    "print('Training Accuracy:', model2.score(X_train, y_train))\n",
    "print('Validation Accuracy:', model2.score(X_val, y_val))"
   ]
  },
  {
   "cell_type": "code",
   "execution_count": 14,
   "metadata": {},
   "outputs": [
    {
     "name": "stdout",
     "output_type": "stream",
     "text": [
      "Training Accuracy: 0.8599062133645955\n",
      "Validation Accuracy: 0.7479674796747967\n"
     ]
    }
   ],
   "source": [
    "# Random Forest Model\n",
    "from sklearn.model_selection import GridSearchCV, RandomizedSearchCV\n",
    "\n",
    "tree_model = make_pipeline(\n",
    "    ce.OneHotEncoder(), \n",
    "    SimpleImputer(), \n",
    "    StandardScaler(), \n",
    "    RandomForestClassifier(criterion='entropy', \n",
    "                           max_depth=74, \n",
    "                           n_estimators=149, \n",
    "                           min_samples_leaf=1, \n",
    "                           random_state=42, \n",
    "                           min_samples_split = 40))\n",
    "\n",
    "# Fitting the model\n",
    "tree_model.fit(X_train, y_train)\n",
    "\n",
    "print('Training Accuracy:', tree_model.score(X_train, y_train))\n",
    "print('Validation Accuracy:', tree_model.score(X_val, y_val))"
   ]
  },
  {
   "cell_type": "code",
   "execution_count": 33,
   "metadata": {},
   "outputs": [],
   "source": [
    "# Linear Model\n",
    "lin_model = make_pipeline(\n",
    "    ce.OneHotEncoder(), \n",
    "    SimpleImputer(), \n",
    "    StandardScaler(), \n",
    "    LogisticRegression(max_iter = 3))\n",
    "\n",
    "lin_model.fit(X_train, y_train);"
   ]
  },
  {
   "cell_type": "code",
   "execution_count": 16,
   "metadata": {},
   "outputs": [
    {
     "name": "stdout",
     "output_type": "stream",
     "text": [
      "Fitting 7 folds for each of 5 candidates, totalling 35 fits\n"
     ]
    },
    {
     "name": "stderr",
     "output_type": "stream",
     "text": [
      "/Users/bradbrauser/opt/anaconda3/envs/unit2/lib/python3.7/site-packages/sklearn/model_selection/_search.py:282: UserWarning: The total space of parameters 5 is smaller than n_iter=40. Running 5 iterations. For exhaustive searches, use GridSearchCV.\n",
      "  % (grid_size, self.n_iter, grid_size), UserWarning)\n",
      "[Parallel(n_jobs=-1)]: Using backend LokyBackend with 4 concurrent workers.\n",
      "[Parallel(n_jobs=-1)]: Done   1 tasks      | elapsed:    2.0s\n",
      "[Parallel(n_jobs=-1)]: Done   2 tasks      | elapsed:    2.0s\n",
      "[Parallel(n_jobs=-1)]: Done   3 tasks      | elapsed:    2.0s\n",
      "[Parallel(n_jobs=-1)]: Done   4 tasks      | elapsed:    2.0s\n",
      "[Parallel(n_jobs=-1)]: Done   5 tasks      | elapsed:    2.9s\n",
      "[Parallel(n_jobs=-1)]: Done   6 tasks      | elapsed:    2.9s\n",
      "[Parallel(n_jobs=-1)]: Done   7 tasks      | elapsed:    2.9s\n",
      "[Parallel(n_jobs=-1)]: Done   8 tasks      | elapsed:    2.9s\n",
      "[Parallel(n_jobs=-1)]: Done   9 tasks      | elapsed:    3.7s\n",
      "[Parallel(n_jobs=-1)]: Done  10 tasks      | elapsed:    3.8s\n",
      "[Parallel(n_jobs=-1)]: Done  11 tasks      | elapsed:    3.8s\n",
      "[Parallel(n_jobs=-1)]: Done  12 tasks      | elapsed:    3.8s\n",
      "[Parallel(n_jobs=-1)]: Done  13 tasks      | elapsed:    4.6s\n",
      "[Parallel(n_jobs=-1)]: Done  14 tasks      | elapsed:    4.7s\n",
      "[Parallel(n_jobs=-1)]: Done  15 tasks      | elapsed:    4.7s\n",
      "[Parallel(n_jobs=-1)]: Done  16 tasks      | elapsed:    4.7s\n",
      "[Parallel(n_jobs=-1)]: Done  17 tasks      | elapsed:    5.6s\n",
      "[Parallel(n_jobs=-1)]: Done  18 tasks      | elapsed:    5.6s\n",
      "[Parallel(n_jobs=-1)]: Done  19 tasks      | elapsed:    5.6s\n",
      "[Parallel(n_jobs=-1)]: Done  20 tasks      | elapsed:    5.6s\n",
      "[Parallel(n_jobs=-1)]: Done  21 tasks      | elapsed:    6.5s\n",
      "[Parallel(n_jobs=-1)]: Done  22 tasks      | elapsed:    6.5s\n",
      "[Parallel(n_jobs=-1)]: Done  23 tasks      | elapsed:    6.5s\n",
      "[Parallel(n_jobs=-1)]: Done  24 tasks      | elapsed:    6.5s\n",
      "[Parallel(n_jobs=-1)]: Done  25 tasks      | elapsed:    7.4s\n",
      "[Parallel(n_jobs=-1)]: Done  26 tasks      | elapsed:    7.4s\n",
      "[Parallel(n_jobs=-1)]: Done  27 tasks      | elapsed:    7.4s\n",
      "[Parallel(n_jobs=-1)]: Done  28 tasks      | elapsed:    7.5s\n",
      "[Parallel(n_jobs=-1)]: Done  30 out of  35 | elapsed:    8.3s remaining:    1.4s\n",
      "[Parallel(n_jobs=-1)]: Done  32 out of  35 | elapsed:    8.4s remaining:    0.8s\n",
      "[Parallel(n_jobs=-1)]: Done  35 out of  35 | elapsed:    9.2s finished\n"
     ]
    },
    {
     "name": "stdout",
     "output_type": "stream",
     "text": [
      "Cross-validation Best Score: 0.616731145617435\n",
      "Best Estimator: {'randomforestclassifier__max_depth': 11}\n",
      "Best Model: Pipeline(steps=[('ordinalencoder',\n",
      "                 OrdinalEncoder(cols=['MPAA Rating', 'Directors', 'Country',\n",
      "                                      'Action', 'Adventure', 'Animation',\n",
      "                                      'Biography', 'Comedy', 'Crime',\n",
      "                                      'Documentary', 'Drama', 'Family',\n",
      "                                      'Fantasy', 'Film Noir', 'History',\n",
      "                                      'Horror', 'Music', 'Musical', 'Mystery',\n",
      "                                      'Romance', 'Sci-Fi', 'Short Film',\n",
      "                                      'Sport', 'Superhero', 'Thriller', 'War',\n",
      "                                      'Western'],\n",
      "                                mapping=[{'col': 'MPA...\n",
      "dtype: int64},\n",
      "                                         {'col': 'War', 'data_type': dtype('O'),\n",
      "                                          'mapping': False    1\n",
      "True     2\n",
      "NaN     -2\n",
      "dtype: int64},\n",
      "                                         {'col': 'Western',\n",
      "                                          'data_type': dtype('O'),\n",
      "                                          'mapping': False    1\n",
      "True     2\n",
      "NaN     -2\n",
      "dtype: int64}])),\n",
      "                ('simpleimputer', SimpleImputer()),\n",
      "                ('standardscaler', StandardScaler()),\n",
      "                ('randomforestclassifier',\n",
      "                 RandomForestClassifier(max_depth=11, min_samples_split=3,\n",
      "                                        n_estimators=200, n_jobs=1))])\n"
     ]
    }
   ],
   "source": [
    "# Model 4\n",
    "model4 = make_pipeline(\n",
    "  OrdinalEncoder(),\n",
    "  SimpleImputer(),\n",
    "  StandardScaler(),\n",
    "  RandomForestClassifier(\n",
    "      min_samples_split=3,\n",
    "      max_depth=15,\n",
    "      n_estimators= 200,\n",
    "      n_jobs=1)\n",
    ")\n",
    "\n",
    "param_distributions = {\n",
    "    'randomforestclassifier__max_depth' : (11, 12, 13, 14, 15),\n",
    "}\n",
    "\n",
    "search = RandomizedSearchCV(\n",
    "    model4,\n",
    "    param_distributions=param_distributions,\n",
    "    n_iter=40,\n",
    "    cv=7,\n",
    "    scoring='accuracy',\n",
    "    verbose = 30,\n",
    "    return_train_score=True,\n",
    "    n_jobs=-1,\n",
    ")\n",
    "\n",
    "search.fit(X_train, y_train)\n",
    "\n",
    "print('Cross-validation Best Score:', search.best_score_)\n",
    "print('Best Estimator:', search.best_params_)\n",
    "print('Best Model:', search.best_estimator_)"
   ]
  },
  {
   "cell_type": "code",
   "execution_count": 17,
   "metadata": {},
   "outputs": [
    {
     "name": "stdout",
     "output_type": "stream",
     "text": [
      "Training Accuracy: 0.9897420867526378\n",
      "Validation Accuracy: 0.5691056910569106\n"
     ]
    }
   ],
   "source": [
    "from xgboost import XGBClassifier\n",
    "\n",
    "model5 = make_pipeline(ce.OrdinalEncoder(),\n",
    "                       SimpleImputer(), \n",
    "                       StandardScaler(),\n",
    "                       XGBClassifier()\n",
    ")\n",
    "\n",
    "model5.fit(X_train, y_train)\n",
    "\n",
    "print('Training Accuracy:', model5.score(X_train, y_train))\n",
    "print('Validation Accuracy:', model5.score(X_val, y_val))"
   ]
  },
  {
   "cell_type": "code",
   "execution_count": 18,
   "metadata": {},
   "outputs": [
    {
     "data": {
      "text/plain": [
       "<sklearn.metrics._plot.confusion_matrix.ConfusionMatrixDisplay at 0x7fb63b9dad50>"
      ]
     },
     "execution_count": 18,
     "metadata": {},
     "output_type": "execute_result"
    },
    {
     "data": {
      "image/png": "[encoded data removed]",
      "text/plain": [
       "<Figure size 600x400 with 2 Axes>"
      ]
     },
     "metadata": {
      "needs_background": "light"
     },
     "output_type": "display_data"
    }
   ],
   "source": [
    "from sklearn.metrics import plot_confusion_matrix, classification_report\n",
    "import matplotlib.pyplot as plt\n",
    "\n",
    "plt.rcParams['figure.dpi'] = 100\n",
    "plot_confusion_matrix(model5, X_val, y_val, values_format='.0f', xticks_rotation='vertical')"
   ]
  },
  {
   "cell_type": "code",
   "execution_count": 19,
   "metadata": {},
   "outputs": [
    {
     "name": "stdout",
     "output_type": "stream",
     "text": [
      "              precision    recall  f1-score   support\n",
      "\n",
      "       False       0.84      0.44      0.58      2317\n",
      "        True       0.42      0.83      0.56      1127\n",
      "\n",
      "    accuracy                           0.57      3444\n",
      "   macro avg       0.63      0.64      0.57      3444\n",
      "weighted avg       0.70      0.57      0.57      3444\n",
      "\n"
     ]
    }
   ],
   "source": [
    "y_pred = model5.predict(X_val)\n",
    "print(classification_report(y_val, y_pred))"
   ]
  },
  {
   "cell_type": "code",
   "execution_count": 20,
   "metadata": {},
   "outputs": [
    {
     "name": "stdout",
     "output_type": "stream",
     "text": [
      "Title\n",
      "Avengers: Infinity War               1\n",
      "Spider-Man: Into the Spider-Verse    1\n",
      "Django Unchained                     1\n",
      "Room                                 1\n",
      "Her                                  1\n",
      "Name: Netflix, dtype: int64\n",
      "\n",
      "0    2265\n",
      "1    1179\n",
      "Name: Netflix, dtype: int64\n",
      "Validation accuracy with Netflix: 0.5691056910569106\n",
      "Validation accuracy with Netflix permuted: 0.5455865272938444\n",
      "Permutation importance: 0.023519163763066175\n"
     ]
    }
   ],
   "source": [
    "import numpy as np\n",
    "\n",
    "feature = 'Netflix'\n",
    "print(X_val[feature].head())\n",
    "print()\n",
    "print(X_val[feature].value_counts())\n",
    "\n",
    "X_val_permuted = X_val.copy()\n",
    "X_val_permuted[feature] = np.random.permutation(X_val_permuted[feature])\n",
    "\n",
    "acc = model5.score(X_val, y_val)\n",
    "acc_permuted = model5.score(X_val_permuted, y_val)\n",
    "\n",
    "print(f'Validation accuracy with {feature}:', acc)\n",
    "print(f'Validation accuracy with {feature} permuted:', acc_permuted)\n",
    "print(f'Permutation importance:', acc - acc_permuted)"
   ]
  },
  {
   "cell_type": "code",
   "execution_count": 21,
   "metadata": {},
   "outputs": [
    {
     "name": "stderr",
     "output_type": "stream",
     "text": [
      "/Users/bradbrauser/opt/anaconda3/envs/unit2/lib/python3.7/site-packages/sklearn/utils/deprecation.py:143: FutureWarning: The sklearn.metrics.scorer module is  deprecated in version 0.22 and will be removed in version 0.24. The corresponding classes / functions should instead be imported from sklearn.metrics. Anything that cannot be imported from sklearn.metrics is now part of the private API.\n",
      "  warnings.warn(message, FutureWarning)\n",
      "/Users/bradbrauser/opt/anaconda3/envs/unit2/lib/python3.7/site-packages/sklearn/utils/deprecation.py:143: FutureWarning: The sklearn.feature_selection.base module is  deprecated in version 0.22 and will be removed in version 0.24. The corresponding classes / functions should instead be imported from sklearn.feature_selection. Anything that cannot be imported from sklearn.feature_selection is now part of the private API.\n",
      "  warnings.warn(message, FutureWarning)\n"
     ]
    },
    {
     "data": {
      "text/plain": [
       "RandomForestClassifier(n_estimators=20, n_jobs=-1, random_state=42)"
      ]
     },
     "execution_count": 21,
     "metadata": {},
     "output_type": "execute_result"
    }
   ],
   "source": [
    "import eli5\n",
    "from eli5.sklearn import PermutationImportance\n",
    "\n",
    "# Ignore warnings\n",
    "\n",
    "model8 = make_pipeline(\n",
    "    ce.OrdinalEncoder(), \n",
    "    SimpleImputer(strategy='median')\n",
    ")\n",
    "\n",
    "X_train_transformed = model8.fit_transform(X_train)\n",
    "X_val_transformed = model8.transform(X_val)\n",
    "\n",
    "model8 = RandomForestClassifier(n_estimators=20, random_state=42, n_jobs=-1)\n",
    "model8.fit(X_train_transformed, y_train)"
   ]
  },
  {
   "cell_type": "code",
   "execution_count": 22,
   "metadata": {},
   "outputs": [
    {
     "name": "stderr",
     "output_type": "stream",
     "text": [
      "/Users/bradbrauser/opt/anaconda3/envs/unit2/lib/python3.7/site-packages/sklearn/model_selection/_search.py:282: UserWarning: The total space of parameters 25 is smaller than n_iter=40. Running 25 iterations. For exhaustive searches, use GridSearchCV.\n",
      "  % (grid_size, self.n_iter, grid_size), UserWarning)\n",
      "[Parallel(n_jobs=4)]: Using backend LokyBackend with 4 concurrent workers.\n"
     ]
    },
    {
     "name": "stdout",
     "output_type": "stream",
     "text": [
      "Fitting 7 folds for each of 25 candidates, totalling 175 fits\n"
     ]
    },
    {
     "name": "stderr",
     "output_type": "stream",
     "text": [
      "[Parallel(n_jobs=4)]: Done   1 tasks      | elapsed:    0.9s\n",
      "[Parallel(n_jobs=4)]: Done   2 tasks      | elapsed:    0.9s\n",
      "[Parallel(n_jobs=4)]: Done   3 tasks      | elapsed:    0.9s\n",
      "[Parallel(n_jobs=4)]: Done   4 tasks      | elapsed:    0.9s\n",
      "[Parallel(n_jobs=4)]: Done   5 tasks      | elapsed:    1.8s\n",
      "[Parallel(n_jobs=4)]: Done   6 tasks      | elapsed:    1.8s\n",
      "[Parallel(n_jobs=4)]: Done   7 tasks      | elapsed:    1.8s\n",
      "[Parallel(n_jobs=4)]: Done   8 tasks      | elapsed:    1.8s\n",
      "[Parallel(n_jobs=4)]: Done   9 tasks      | elapsed:    2.7s\n",
      "[Parallel(n_jobs=4)]: Done  10 tasks      | elapsed:    2.7s\n",
      "[Parallel(n_jobs=4)]: Done  11 tasks      | elapsed:    2.7s\n",
      "[Parallel(n_jobs=4)]: Done  12 tasks      | elapsed:    2.8s\n",
      "[Parallel(n_jobs=4)]: Done  13 tasks      | elapsed:    3.6s\n",
      "[Parallel(n_jobs=4)]: Done  14 tasks      | elapsed:    3.6s\n",
      "[Parallel(n_jobs=4)]: Done  15 tasks      | elapsed:    3.6s\n",
      "[Parallel(n_jobs=4)]: Done  16 tasks      | elapsed:    3.6s\n",
      "[Parallel(n_jobs=4)]: Done  17 tasks      | elapsed:    4.5s\n",
      "[Parallel(n_jobs=4)]: Done  18 tasks      | elapsed:    4.5s\n",
      "[Parallel(n_jobs=4)]: Done  19 tasks      | elapsed:    4.5s\n",
      "[Parallel(n_jobs=4)]: Done  20 tasks      | elapsed:    4.5s\n",
      "[Parallel(n_jobs=4)]: Done  21 tasks      | elapsed:    5.4s\n",
      "[Parallel(n_jobs=4)]: Done  22 tasks      | elapsed:    5.4s\n",
      "[Parallel(n_jobs=4)]: Done  23 tasks      | elapsed:    5.4s\n",
      "[Parallel(n_jobs=4)]: Done  24 tasks      | elapsed:    5.4s\n",
      "[Parallel(n_jobs=4)]: Done  25 tasks      | elapsed:    6.3s\n",
      "[Parallel(n_jobs=4)]: Done  26 tasks      | elapsed:    6.3s\n",
      "[Parallel(n_jobs=4)]: Done  27 tasks      | elapsed:    6.3s\n",
      "[Parallel(n_jobs=4)]: Done  28 tasks      | elapsed:    6.4s\n",
      "[Parallel(n_jobs=4)]: Done  29 tasks      | elapsed:    7.2s\n",
      "[Parallel(n_jobs=4)]: Done  30 tasks      | elapsed:    7.2s\n",
      "[Parallel(n_jobs=4)]: Done  31 tasks      | elapsed:    7.2s\n",
      "[Parallel(n_jobs=4)]: Done  32 tasks      | elapsed:    7.3s\n",
      "[Parallel(n_jobs=4)]: Done  33 tasks      | elapsed:    8.0s\n",
      "[Parallel(n_jobs=4)]: Done  34 tasks      | elapsed:    8.1s\n",
      "[Parallel(n_jobs=4)]: Done  35 tasks      | elapsed:    8.1s\n",
      "[Parallel(n_jobs=4)]: Done  36 tasks      | elapsed:    8.2s\n",
      "[Parallel(n_jobs=4)]: Done  37 tasks      | elapsed:    8.9s\n",
      "[Parallel(n_jobs=4)]: Done  38 tasks      | elapsed:    9.0s\n",
      "[Parallel(n_jobs=4)]: Done  39 tasks      | elapsed:    9.0s\n",
      "[Parallel(n_jobs=4)]: Done  40 tasks      | elapsed:    9.1s\n",
      "[Parallel(n_jobs=4)]: Done  41 tasks      | elapsed:    9.9s\n",
      "[Parallel(n_jobs=4)]: Done  42 tasks      | elapsed:    9.9s\n",
      "[Parallel(n_jobs=4)]: Done  43 tasks      | elapsed:   10.0s\n",
      "[Parallel(n_jobs=4)]: Done  44 tasks      | elapsed:   10.1s\n",
      "[Parallel(n_jobs=4)]: Done  45 tasks      | elapsed:   10.8s\n",
      "[Parallel(n_jobs=4)]: Done  46 tasks      | elapsed:   10.8s\n",
      "[Parallel(n_jobs=4)]: Done  47 tasks      | elapsed:   10.9s\n",
      "[Parallel(n_jobs=4)]: Done  48 tasks      | elapsed:   10.9s\n",
      "[Parallel(n_jobs=4)]: Done  49 tasks      | elapsed:   11.7s\n",
      "[Parallel(n_jobs=4)]: Done  50 tasks      | elapsed:   11.7s\n",
      "[Parallel(n_jobs=4)]: Done  51 tasks      | elapsed:   11.7s\n",
      "[Parallel(n_jobs=4)]: Done  52 tasks      | elapsed:   11.8s\n",
      "[Parallel(n_jobs=4)]: Done  53 tasks      | elapsed:   12.6s\n",
      "[Parallel(n_jobs=4)]: Done  54 tasks      | elapsed:   12.6s\n",
      "[Parallel(n_jobs=4)]: Done  55 tasks      | elapsed:   12.6s\n",
      "[Parallel(n_jobs=4)]: Done  56 tasks      | elapsed:   12.7s\n",
      "[Parallel(n_jobs=4)]: Done  57 tasks      | elapsed:   13.4s\n",
      "[Parallel(n_jobs=4)]: Done  58 tasks      | elapsed:   13.5s\n",
      "[Parallel(n_jobs=4)]: Done  59 tasks      | elapsed:   13.5s\n",
      "[Parallel(n_jobs=4)]: Done  60 tasks      | elapsed:   13.6s\n",
      "[Parallel(n_jobs=4)]: Done  61 tasks      | elapsed:   14.3s\n",
      "[Parallel(n_jobs=4)]: Done  62 tasks      | elapsed:   14.3s\n",
      "[Parallel(n_jobs=4)]: Done  63 tasks      | elapsed:   14.3s\n",
      "[Parallel(n_jobs=4)]: Done  64 tasks      | elapsed:   14.4s\n",
      "[Parallel(n_jobs=4)]: Done  65 tasks      | elapsed:   15.2s\n",
      "[Parallel(n_jobs=4)]: Done  66 tasks      | elapsed:   15.2s\n",
      "[Parallel(n_jobs=4)]: Done  67 tasks      | elapsed:   15.2s\n",
      "[Parallel(n_jobs=4)]: Done  68 tasks      | elapsed:   15.3s\n",
      "[Parallel(n_jobs=4)]: Done  69 tasks      | elapsed:   16.0s\n",
      "[Parallel(n_jobs=4)]: Done  70 tasks      | elapsed:   16.1s\n",
      "[Parallel(n_jobs=4)]: Done  71 tasks      | elapsed:   16.1s\n",
      "[Parallel(n_jobs=4)]: Done  72 tasks      | elapsed:   16.2s\n",
      "[Parallel(n_jobs=4)]: Done  73 tasks      | elapsed:   17.0s\n",
      "[Parallel(n_jobs=4)]: Done  74 tasks      | elapsed:   17.0s\n",
      "[Parallel(n_jobs=4)]: Done  75 tasks      | elapsed:   17.0s\n",
      "[Parallel(n_jobs=4)]: Done  76 tasks      | elapsed:   17.1s\n",
      "[Parallel(n_jobs=4)]: Done  77 tasks      | elapsed:   17.9s\n",
      "[Parallel(n_jobs=4)]: Done  78 tasks      | elapsed:   17.9s\n",
      "[Parallel(n_jobs=4)]: Done  79 tasks      | elapsed:   17.9s\n",
      "[Parallel(n_jobs=4)]: Done  80 tasks      | elapsed:   18.1s\n",
      "[Parallel(n_jobs=4)]: Done  81 tasks      | elapsed:   18.8s\n",
      "[Parallel(n_jobs=4)]: Done  82 tasks      | elapsed:   18.8s\n",
      "[Parallel(n_jobs=4)]: Done  83 tasks      | elapsed:   18.8s\n",
      "[Parallel(n_jobs=4)]: Done  84 tasks      | elapsed:   19.0s\n",
      "[Parallel(n_jobs=4)]: Done  85 tasks      | elapsed:   19.7s\n",
      "[Parallel(n_jobs=4)]: Done  86 tasks      | elapsed:   19.7s\n",
      "[Parallel(n_jobs=4)]: Done  87 tasks      | elapsed:   19.7s\n",
      "[Parallel(n_jobs=4)]: Done  88 tasks      | elapsed:   19.9s\n",
      "[Parallel(n_jobs=4)]: Done  89 tasks      | elapsed:   20.6s\n",
      "[Parallel(n_jobs=4)]: Done  90 tasks      | elapsed:   20.6s\n",
      "[Parallel(n_jobs=4)]: Done  91 tasks      | elapsed:   20.6s\n",
      "[Parallel(n_jobs=4)]: Done  92 tasks      | elapsed:   20.8s\n",
      "[Parallel(n_jobs=4)]: Done  93 tasks      | elapsed:   21.5s\n",
      "[Parallel(n_jobs=4)]: Done  94 tasks      | elapsed:   21.5s\n",
      "[Parallel(n_jobs=4)]: Done  95 tasks      | elapsed:   21.6s\n",
      "[Parallel(n_jobs=4)]: Done  96 tasks      | elapsed:   21.8s\n",
      "[Parallel(n_jobs=4)]: Done  97 tasks      | elapsed:   22.4s\n",
      "[Parallel(n_jobs=4)]: Done  98 tasks      | elapsed:   22.4s\n",
      "[Parallel(n_jobs=4)]: Done  99 tasks      | elapsed:   22.5s\n",
      "[Parallel(n_jobs=4)]: Done 100 tasks      | elapsed:   22.7s\n",
      "[Parallel(n_jobs=4)]: Done 101 tasks      | elapsed:   23.3s\n",
      "[Parallel(n_jobs=4)]: Done 102 tasks      | elapsed:   23.3s\n",
      "[Parallel(n_jobs=4)]: Done 103 tasks      | elapsed:   23.3s\n",
      "[Parallel(n_jobs=4)]: Done 104 tasks      | elapsed:   23.6s\n",
      "[Parallel(n_jobs=4)]: Done 105 tasks      | elapsed:   24.2s\n",
      "[Parallel(n_jobs=4)]: Done 106 tasks      | elapsed:   24.2s\n",
      "[Parallel(n_jobs=4)]: Done 107 tasks      | elapsed:   24.3s\n",
      "[Parallel(n_jobs=4)]: Done 108 tasks      | elapsed:   24.6s\n",
      "[Parallel(n_jobs=4)]: Done 109 tasks      | elapsed:   25.1s\n",
      "[Parallel(n_jobs=4)]: Done 110 tasks      | elapsed:   25.2s\n",
      "[Parallel(n_jobs=4)]: Done 111 tasks      | elapsed:   25.2s\n",
      "[Parallel(n_jobs=4)]: Done 112 tasks      | elapsed:   25.6s\n",
      "[Parallel(n_jobs=4)]: Done 113 tasks      | elapsed:   26.1s\n",
      "[Parallel(n_jobs=4)]: Done 114 tasks      | elapsed:   26.1s\n",
      "[Parallel(n_jobs=4)]: Done 115 tasks      | elapsed:   26.2s\n",
      "[Parallel(n_jobs=4)]: Done 116 tasks      | elapsed:   26.5s\n",
      "[Parallel(n_jobs=4)]: Done 117 tasks      | elapsed:   27.0s\n",
      "[Parallel(n_jobs=4)]: Done 118 tasks      | elapsed:   27.0s\n",
      "[Parallel(n_jobs=4)]: Done 119 tasks      | elapsed:   27.1s\n",
      "[Parallel(n_jobs=4)]: Done 120 tasks      | elapsed:   27.5s\n",
      "[Parallel(n_jobs=4)]: Done 121 tasks      | elapsed:   28.0s\n",
      "[Parallel(n_jobs=4)]: Done 122 tasks      | elapsed:   28.0s\n",
      "[Parallel(n_jobs=4)]: Done 123 tasks      | elapsed:   28.1s\n",
      "[Parallel(n_jobs=4)]: Done 124 tasks      | elapsed:   28.4s\n",
      "[Parallel(n_jobs=4)]: Done 125 tasks      | elapsed:   28.9s\n",
      "[Parallel(n_jobs=4)]: Done 126 tasks      | elapsed:   29.0s\n",
      "[Parallel(n_jobs=4)]: Done 127 tasks      | elapsed:   29.0s\n",
      "[Parallel(n_jobs=4)]: Done 128 tasks      | elapsed:   29.4s\n",
      "[Parallel(n_jobs=4)]: Done 129 tasks      | elapsed:   29.9s\n",
      "[Parallel(n_jobs=4)]: Done 130 tasks      | elapsed:   29.9s\n",
      "[Parallel(n_jobs=4)]: Done 131 tasks      | elapsed:   30.0s\n",
      "[Parallel(n_jobs=4)]: Done 132 tasks      | elapsed:   30.3s\n",
      "[Parallel(n_jobs=4)]: Done 133 tasks      | elapsed:   30.8s\n",
      "[Parallel(n_jobs=4)]: Done 134 tasks      | elapsed:   30.8s\n",
      "[Parallel(n_jobs=4)]: Done 135 tasks      | elapsed:   30.9s\n"
     ]
    },
    {
     "name": "stderr",
     "output_type": "stream",
     "text": [
      "[Parallel(n_jobs=4)]: Done 136 tasks      | elapsed:   31.3s\n",
      "[Parallel(n_jobs=4)]: Done 137 tasks      | elapsed:   31.7s\n",
      "[Parallel(n_jobs=4)]: Done 138 tasks      | elapsed:   31.7s\n",
      "[Parallel(n_jobs=4)]: Done 139 tasks      | elapsed:   31.8s\n",
      "[Parallel(n_jobs=4)]: Done 140 tasks      | elapsed:   32.2s\n",
      "[Parallel(n_jobs=4)]: Done 141 tasks      | elapsed:   32.7s\n",
      "[Parallel(n_jobs=4)]: Done 142 tasks      | elapsed:   32.7s\n",
      "[Parallel(n_jobs=4)]: Done 143 tasks      | elapsed:   32.8s\n",
      "[Parallel(n_jobs=4)]: Done 144 tasks      | elapsed:   33.2s\n",
      "[Parallel(n_jobs=4)]: Done 145 tasks      | elapsed:   33.6s\n",
      "[Parallel(n_jobs=4)]: Done 146 tasks      | elapsed:   33.7s\n",
      "[Parallel(n_jobs=4)]: Done 147 tasks      | elapsed:   33.8s\n",
      "[Parallel(n_jobs=4)]: Done 148 tasks      | elapsed:   34.1s\n",
      "[Parallel(n_jobs=4)]: Done 149 tasks      | elapsed:   34.6s\n",
      "[Parallel(n_jobs=4)]: Done 150 tasks      | elapsed:   34.6s\n",
      "[Parallel(n_jobs=4)]: Done 151 tasks      | elapsed:   34.7s\n",
      "[Parallel(n_jobs=4)]: Done 152 tasks      | elapsed:   35.0s\n",
      "[Parallel(n_jobs=4)]: Done 153 tasks      | elapsed:   35.5s\n",
      "[Parallel(n_jobs=4)]: Done 154 tasks      | elapsed:   35.5s\n",
      "[Parallel(n_jobs=4)]: Done 155 tasks      | elapsed:   35.6s\n",
      "[Parallel(n_jobs=4)]: Done 156 tasks      | elapsed:   35.9s\n",
      "[Parallel(n_jobs=4)]: Done 157 tasks      | elapsed:   36.4s\n",
      "[Parallel(n_jobs=4)]: Done 158 tasks      | elapsed:   36.4s\n",
      "[Parallel(n_jobs=4)]: Done 159 tasks      | elapsed:   36.5s\n",
      "[Parallel(n_jobs=4)]: Done 160 tasks      | elapsed:   36.9s\n",
      "[Parallel(n_jobs=4)]: Done 161 tasks      | elapsed:   37.3s\n",
      "[Parallel(n_jobs=4)]: Done 162 tasks      | elapsed:   37.4s\n",
      "[Parallel(n_jobs=4)]: Done 163 tasks      | elapsed:   37.4s\n",
      "[Parallel(n_jobs=4)]: Done 164 tasks      | elapsed:   37.8s\n",
      "[Parallel(n_jobs=4)]: Done 165 tasks      | elapsed:   38.2s\n",
      "[Parallel(n_jobs=4)]: Done 166 tasks      | elapsed:   38.3s\n",
      "[Parallel(n_jobs=4)]: Done 167 tasks      | elapsed:   38.4s\n",
      "[Parallel(n_jobs=4)]: Done 168 tasks      | elapsed:   38.7s\n",
      "[Parallel(n_jobs=4)]: Done 175 out of 175 | elapsed:   40.1s finished\n"
     ]
    },
    {
     "name": "stdout",
     "output_type": "stream",
     "text": [
      "Cross-validation Best Score: 0.6143922307873566\n",
      "Best Estimator: {'randomforestclassifier__min_samples_split': 2, 'randomforestclassifier__max_depth': 11}\n",
      "Best Model: Pipeline(steps=[('ordinalencoder',\n",
      "                 OrdinalEncoder(cols=['MPAA Rating', 'Directors', 'Country',\n",
      "                                      'Action', 'Adventure', 'Animation',\n",
      "                                      'Biography', 'Comedy', 'Crime',\n",
      "                                      'Documentary', 'Drama', 'Family',\n",
      "                                      'Fantasy', 'Film Noir', 'History',\n",
      "                                      'Horror', 'Music', 'Musical', 'Mystery',\n",
      "                                      'Romance', 'Sci-Fi', 'Short Film',\n",
      "                                      'Sport', 'Superhero', 'Thriller', 'War',\n",
      "                                      'Western'],\n",
      "                                mapping=[{'col': 'MPA...\n",
      "NaN     -2\n",
      "dtype: int64},\n",
      "                                         {'col': 'War', 'data_type': dtype('O'),\n",
      "                                          'mapping': False    1\n",
      "True     2\n",
      "NaN     -2\n",
      "dtype: int64},\n",
      "                                         {'col': 'Western',\n",
      "                                          'data_type': dtype('O'),\n",
      "                                          'mapping': False    1\n",
      "True     2\n",
      "NaN     -2\n",
      "dtype: int64}])),\n",
      "                ('simpleimputer', SimpleImputer(strategy='median')),\n",
      "                ('standardscaler', StandardScaler()),\n",
      "                ('randomforestclassifier',\n",
      "                 RandomForestClassifier(max_depth=11, n_estimators=200,\n",
      "                                        n_jobs=1))])\n"
     ]
    }
   ],
   "source": [
    "# Model 6\n",
    "model6 = make_pipeline(\n",
    "  OrdinalEncoder(),\n",
    "  SimpleImputer(strategy='median'),\n",
    "  StandardScaler(),\n",
    "  RandomForestClassifier(\n",
    "      min_samples_split=4,\n",
    "      max_depth=15,\n",
    "      n_estimators= 200,\n",
    "      n_jobs=1)\n",
    ")\n",
    "\n",
    "param_distributions = {\n",
    "    'randomforestclassifier__max_depth' : (11, 12, 13, 14, 15),\n",
    "    'randomforestclassifier__min_samples_split': (2, 4, 6, 8, 10),\n",
    "}\n",
    "\n",
    "search = RandomizedSearchCV(\n",
    "    model6,\n",
    "    param_distributions=param_distributions,\n",
    "    n_iter=40,\n",
    "    cv=7,\n",
    "    scoring='accuracy',\n",
    "    verbose = 30,\n",
    "    return_train_score=True,\n",
    "    n_jobs=4,\n",
    ")\n",
    "\n",
    "search.fit(X_train, y_train)\n",
    "\n",
    "print('Cross-validation Best Score:', search.best_score_)\n",
    "print('Best Estimator:', search.best_params_)\n",
    "print('Best Model:', search.best_estimator_)"
   ]
  },
  {
   "cell_type": "code",
   "execution_count": 23,
   "metadata": {},
   "outputs": [
    {
     "name": "stdout",
     "output_type": "stream",
     "text": [
      "Fitting 7 folds for each of 25 candidates, totalling 175 fits\n"
     ]
    },
    {
     "name": "stderr",
     "output_type": "stream",
     "text": [
      "/Users/bradbrauser/opt/anaconda3/envs/unit2/lib/python3.7/site-packages/sklearn/model_selection/_search.py:282: UserWarning: The total space of parameters 25 is smaller than n_iter=40. Running 25 iterations. For exhaustive searches, use GridSearchCV.\n",
      "  % (grid_size, self.n_iter, grid_size), UserWarning)\n",
      "[Parallel(n_jobs=4)]: Using backend LokyBackend with 4 concurrent workers.\n",
      "[Parallel(n_jobs=4)]: Done   1 tasks      | elapsed:    0.8s\n",
      "[Parallel(n_jobs=4)]: Done   2 tasks      | elapsed:    0.9s\n",
      "[Parallel(n_jobs=4)]: Done   3 tasks      | elapsed:    0.9s\n",
      "[Parallel(n_jobs=4)]: Done   4 tasks      | elapsed:    1.0s\n",
      "[Parallel(n_jobs=4)]: Done   5 tasks      | elapsed:    1.7s\n",
      "[Parallel(n_jobs=4)]: Done   6 tasks      | elapsed:    1.8s\n",
      "[Parallel(n_jobs=4)]: Done   7 tasks      | elapsed:    1.8s\n",
      "[Parallel(n_jobs=4)]: Done   8 tasks      | elapsed:    1.8s\n",
      "[Parallel(n_jobs=4)]: Done   9 tasks      | elapsed:    2.7s\n",
      "[Parallel(n_jobs=4)]: Done  10 tasks      | elapsed:    2.7s\n",
      "[Parallel(n_jobs=4)]: Done  11 tasks      | elapsed:    2.8s\n",
      "[Parallel(n_jobs=4)]: Done  12 tasks      | elapsed:    2.8s\n",
      "[Parallel(n_jobs=4)]: Done  13 tasks      | elapsed:    3.6s\n",
      "[Parallel(n_jobs=4)]: Done  14 tasks      | elapsed:    3.6s\n",
      "[Parallel(n_jobs=4)]: Done  15 tasks      | elapsed:    3.7s\n",
      "[Parallel(n_jobs=4)]: Done  16 tasks      | elapsed:    3.7s\n",
      "[Parallel(n_jobs=4)]: Done  17 tasks      | elapsed:    4.4s\n",
      "[Parallel(n_jobs=4)]: Done  18 tasks      | elapsed:    4.5s\n",
      "[Parallel(n_jobs=4)]: Done  19 tasks      | elapsed:    4.5s\n",
      "[Parallel(n_jobs=4)]: Done  20 tasks      | elapsed:    4.5s\n",
      "[Parallel(n_jobs=4)]: Done  21 tasks      | elapsed:    5.3s\n",
      "[Parallel(n_jobs=4)]: Done  22 tasks      | elapsed:    5.3s\n",
      "[Parallel(n_jobs=4)]: Done  23 tasks      | elapsed:    5.4s\n",
      "[Parallel(n_jobs=4)]: Done  24 tasks      | elapsed:    5.4s\n",
      "[Parallel(n_jobs=4)]: Done  25 tasks      | elapsed:    6.1s\n",
      "[Parallel(n_jobs=4)]: Done  26 tasks      | elapsed:    6.1s\n",
      "[Parallel(n_jobs=4)]: Done  27 tasks      | elapsed:    6.2s\n",
      "[Parallel(n_jobs=4)]: Done  28 tasks      | elapsed:    6.3s\n",
      "[Parallel(n_jobs=4)]: Done  29 tasks      | elapsed:    6.9s\n",
      "[Parallel(n_jobs=4)]: Done  30 tasks      | elapsed:    7.0s\n",
      "[Parallel(n_jobs=4)]: Done  31 tasks      | elapsed:    7.1s\n",
      "[Parallel(n_jobs=4)]: Done  32 tasks      | elapsed:    7.1s\n",
      "[Parallel(n_jobs=4)]: Done  33 tasks      | elapsed:    7.8s\n",
      "[Parallel(n_jobs=4)]: Done  34 tasks      | elapsed:    7.9s\n",
      "[Parallel(n_jobs=4)]: Done  35 tasks      | elapsed:    7.9s\n",
      "[Parallel(n_jobs=4)]: Done  36 tasks      | elapsed:    8.0s\n",
      "[Parallel(n_jobs=4)]: Done  37 tasks      | elapsed:    8.7s\n",
      "[Parallel(n_jobs=4)]: Done  38 tasks      | elapsed:    8.8s\n",
      "[Parallel(n_jobs=4)]: Done  39 tasks      | elapsed:    8.9s\n",
      "[Parallel(n_jobs=4)]: Done  40 tasks      | elapsed:    8.9s\n",
      "[Parallel(n_jobs=4)]: Done  41 tasks      | elapsed:    9.6s\n",
      "[Parallel(n_jobs=4)]: Done  42 tasks      | elapsed:    9.7s\n",
      "[Parallel(n_jobs=4)]: Done  43 tasks      | elapsed:    9.8s\n",
      "[Parallel(n_jobs=4)]: Done  44 tasks      | elapsed:    9.8s\n",
      "[Parallel(n_jobs=4)]: Done  45 tasks      | elapsed:   10.5s\n",
      "[Parallel(n_jobs=4)]: Done  46 tasks      | elapsed:   10.7s\n",
      "[Parallel(n_jobs=4)]: Done  47 tasks      | elapsed:   10.7s\n",
      "[Parallel(n_jobs=4)]: Done  48 tasks      | elapsed:   10.8s\n",
      "[Parallel(n_jobs=4)]: Done  49 tasks      | elapsed:   11.5s\n",
      "[Parallel(n_jobs=4)]: Done  50 tasks      | elapsed:   11.6s\n",
      "[Parallel(n_jobs=4)]: Done  51 tasks      | elapsed:   11.7s\n",
      "[Parallel(n_jobs=4)]: Done  52 tasks      | elapsed:   11.7s\n",
      "[Parallel(n_jobs=4)]: Done  53 tasks      | elapsed:   12.4s\n",
      "[Parallel(n_jobs=4)]: Done  54 tasks      | elapsed:   12.5s\n",
      "[Parallel(n_jobs=4)]: Done  55 tasks      | elapsed:   12.6s\n",
      "[Parallel(n_jobs=4)]: Done  56 tasks      | elapsed:   12.6s\n",
      "[Parallel(n_jobs=4)]: Done  57 tasks      | elapsed:   13.4s\n",
      "[Parallel(n_jobs=4)]: Done  58 tasks      | elapsed:   13.5s\n",
      "[Parallel(n_jobs=4)]: Done  59 tasks      | elapsed:   13.6s\n",
      "[Parallel(n_jobs=4)]: Done  60 tasks      | elapsed:   13.6s\n",
      "[Parallel(n_jobs=4)]: Done  61 tasks      | elapsed:   14.3s\n",
      "[Parallel(n_jobs=4)]: Done  62 tasks      | elapsed:   14.4s\n",
      "[Parallel(n_jobs=4)]: Done  63 tasks      | elapsed:   14.5s\n",
      "[Parallel(n_jobs=4)]: Done  64 tasks      | elapsed:   14.5s\n",
      "[Parallel(n_jobs=4)]: Done  65 tasks      | elapsed:   15.2s\n",
      "[Parallel(n_jobs=4)]: Done  66 tasks      | elapsed:   15.2s\n",
      "[Parallel(n_jobs=4)]: Done  67 tasks      | elapsed:   15.3s\n",
      "[Parallel(n_jobs=4)]: Done  68 tasks      | elapsed:   15.4s\n",
      "[Parallel(n_jobs=4)]: Done  69 tasks      | elapsed:   16.0s\n",
      "[Parallel(n_jobs=4)]: Done  70 tasks      | elapsed:   16.1s\n",
      "[Parallel(n_jobs=4)]: Done  71 tasks      | elapsed:   16.2s\n",
      "[Parallel(n_jobs=4)]: Done  72 tasks      | elapsed:   16.3s\n",
      "[Parallel(n_jobs=4)]: Done  73 tasks      | elapsed:   17.0s\n",
      "[Parallel(n_jobs=4)]: Done  74 tasks      | elapsed:   17.1s\n",
      "[Parallel(n_jobs=4)]: Done  75 tasks      | elapsed:   17.1s\n",
      "[Parallel(n_jobs=4)]: Done  76 tasks      | elapsed:   17.2s\n",
      "[Parallel(n_jobs=4)]: Done  77 tasks      | elapsed:   17.9s\n",
      "[Parallel(n_jobs=4)]: Done  78 tasks      | elapsed:   18.0s\n",
      "[Parallel(n_jobs=4)]: Done  79 tasks      | elapsed:   18.1s\n",
      "[Parallel(n_jobs=4)]: Done  80 tasks      | elapsed:   18.2s\n",
      "[Parallel(n_jobs=4)]: Done  81 tasks      | elapsed:   18.9s\n",
      "[Parallel(n_jobs=4)]: Done  82 tasks      | elapsed:   18.9s\n",
      "[Parallel(n_jobs=4)]: Done  83 tasks      | elapsed:   19.0s\n",
      "[Parallel(n_jobs=4)]: Done  84 tasks      | elapsed:   19.1s\n",
      "[Parallel(n_jobs=4)]: Done  85 tasks      | elapsed:   19.7s\n",
      "[Parallel(n_jobs=4)]: Done  86 tasks      | elapsed:   19.8s\n",
      "[Parallel(n_jobs=4)]: Done  87 tasks      | elapsed:   19.9s\n",
      "[Parallel(n_jobs=4)]: Done  88 tasks      | elapsed:   20.0s\n",
      "[Parallel(n_jobs=4)]: Done  89 tasks      | elapsed:   20.6s\n",
      "[Parallel(n_jobs=4)]: Done  90 tasks      | elapsed:   20.7s\n",
      "[Parallel(n_jobs=4)]: Done  91 tasks      | elapsed:   20.8s\n",
      "[Parallel(n_jobs=4)]: Done  92 tasks      | elapsed:   20.9s\n",
      "[Parallel(n_jobs=4)]: Done  93 tasks      | elapsed:   21.6s\n",
      "[Parallel(n_jobs=4)]: Done  94 tasks      | elapsed:   21.7s\n",
      "[Parallel(n_jobs=4)]: Done  95 tasks      | elapsed:   21.7s\n",
      "[Parallel(n_jobs=4)]: Done  96 tasks      | elapsed:   21.8s\n",
      "[Parallel(n_jobs=4)]: Done  97 tasks      | elapsed:   22.4s\n",
      "[Parallel(n_jobs=4)]: Done  98 tasks      | elapsed:   22.5s\n",
      "[Parallel(n_jobs=4)]: Done  99 tasks      | elapsed:   22.6s\n",
      "[Parallel(n_jobs=4)]: Done 100 tasks      | elapsed:   22.7s\n",
      "[Parallel(n_jobs=4)]: Done 101 tasks      | elapsed:   23.3s\n",
      "[Parallel(n_jobs=4)]: Done 102 tasks      | elapsed:   23.5s\n",
      "[Parallel(n_jobs=4)]: Done 103 tasks      | elapsed:   23.5s\n",
      "[Parallel(n_jobs=4)]: Done 104 tasks      | elapsed:   23.6s\n",
      "[Parallel(n_jobs=4)]: Done 105 tasks      | elapsed:   24.2s\n",
      "[Parallel(n_jobs=4)]: Done 106 tasks      | elapsed:   24.4s\n",
      "[Parallel(n_jobs=4)]: Done 107 tasks      | elapsed:   24.4s\n",
      "[Parallel(n_jobs=4)]: Done 108 tasks      | elapsed:   24.5s\n",
      "[Parallel(n_jobs=4)]: Done 109 tasks      | elapsed:   25.1s\n",
      "[Parallel(n_jobs=4)]: Done 110 tasks      | elapsed:   25.3s\n",
      "[Parallel(n_jobs=4)]: Done 111 tasks      | elapsed:   25.3s\n",
      "[Parallel(n_jobs=4)]: Done 112 tasks      | elapsed:   25.4s\n",
      "[Parallel(n_jobs=4)]: Done 113 tasks      | elapsed:   26.0s\n",
      "[Parallel(n_jobs=4)]: Done 114 tasks      | elapsed:   26.2s\n",
      "[Parallel(n_jobs=4)]: Done 115 tasks      | elapsed:   26.2s\n",
      "[Parallel(n_jobs=4)]: Done 116 tasks      | elapsed:   26.4s\n",
      "[Parallel(n_jobs=4)]: Done 117 tasks      | elapsed:   27.0s\n",
      "[Parallel(n_jobs=4)]: Done 118 tasks      | elapsed:   27.1s\n",
      "[Parallel(n_jobs=4)]: Done 119 tasks      | elapsed:   27.2s\n",
      "[Parallel(n_jobs=4)]: Done 120 tasks      | elapsed:   27.3s\n",
      "[Parallel(n_jobs=4)]: Done 121 tasks      | elapsed:   27.9s\n",
      "[Parallel(n_jobs=4)]: Done 122 tasks      | elapsed:   28.0s\n",
      "[Parallel(n_jobs=4)]: Done 123 tasks      | elapsed:   28.1s\n",
      "[Parallel(n_jobs=4)]: Done 124 tasks      | elapsed:   28.2s\n",
      "[Parallel(n_jobs=4)]: Done 125 tasks      | elapsed:   28.8s\n",
      "[Parallel(n_jobs=4)]: Done 126 tasks      | elapsed:   29.0s\n",
      "[Parallel(n_jobs=4)]: Done 127 tasks      | elapsed:   29.0s\n",
      "[Parallel(n_jobs=4)]: Done 128 tasks      | elapsed:   29.1s\n",
      "[Parallel(n_jobs=4)]: Done 129 tasks      | elapsed:   29.7s\n"
     ]
    },
    {
     "name": "stderr",
     "output_type": "stream",
     "text": [
      "[Parallel(n_jobs=4)]: Done 130 tasks      | elapsed:   29.9s\n",
      "[Parallel(n_jobs=4)]: Done 131 tasks      | elapsed:   29.9s\n",
      "[Parallel(n_jobs=4)]: Done 132 tasks      | elapsed:   30.0s\n",
      "[Parallel(n_jobs=4)]: Done 133 tasks      | elapsed:   30.6s\n",
      "[Parallel(n_jobs=4)]: Done 134 tasks      | elapsed:   30.8s\n",
      "[Parallel(n_jobs=4)]: Done 135 tasks      | elapsed:   30.8s\n",
      "[Parallel(n_jobs=4)]: Done 136 tasks      | elapsed:   30.9s\n",
      "[Parallel(n_jobs=4)]: Done 137 tasks      | elapsed:   31.5s\n",
      "[Parallel(n_jobs=4)]: Done 138 tasks      | elapsed:   31.7s\n",
      "[Parallel(n_jobs=4)]: Done 139 tasks      | elapsed:   31.7s\n",
      "[Parallel(n_jobs=4)]: Done 140 tasks      | elapsed:   31.8s\n",
      "[Parallel(n_jobs=4)]: Done 141 tasks      | elapsed:   32.4s\n",
      "[Parallel(n_jobs=4)]: Done 142 tasks      | elapsed:   32.6s\n",
      "[Parallel(n_jobs=4)]: Done 143 tasks      | elapsed:   32.7s\n",
      "[Parallel(n_jobs=4)]: Done 144 tasks      | elapsed:   32.8s\n",
      "[Parallel(n_jobs=4)]: Done 145 tasks      | elapsed:   33.4s\n",
      "[Parallel(n_jobs=4)]: Done 146 tasks      | elapsed:   33.6s\n",
      "[Parallel(n_jobs=4)]: Done 147 tasks      | elapsed:   33.6s\n",
      "[Parallel(n_jobs=4)]: Done 148 tasks      | elapsed:   33.7s\n",
      "[Parallel(n_jobs=4)]: Done 149 tasks      | elapsed:   34.3s\n",
      "[Parallel(n_jobs=4)]: Done 150 tasks      | elapsed:   34.5s\n",
      "[Parallel(n_jobs=4)]: Done 151 tasks      | elapsed:   34.5s\n",
      "[Parallel(n_jobs=4)]: Done 152 tasks      | elapsed:   34.6s\n",
      "[Parallel(n_jobs=4)]: Done 153 tasks      | elapsed:   35.2s\n",
      "[Parallel(n_jobs=4)]: Done 154 tasks      | elapsed:   35.4s\n",
      "[Parallel(n_jobs=4)]: Done 155 tasks      | elapsed:   35.4s\n",
      "[Parallel(n_jobs=4)]: Done 156 tasks      | elapsed:   35.6s\n",
      "[Parallel(n_jobs=4)]: Done 157 tasks      | elapsed:   36.1s\n",
      "[Parallel(n_jobs=4)]: Done 158 tasks      | elapsed:   36.3s\n",
      "[Parallel(n_jobs=4)]: Done 159 tasks      | elapsed:   36.4s\n",
      "[Parallel(n_jobs=4)]: Done 160 tasks      | elapsed:   36.5s\n",
      "[Parallel(n_jobs=4)]: Done 161 tasks      | elapsed:   37.1s\n",
      "[Parallel(n_jobs=4)]: Done 162 tasks      | elapsed:   37.2s\n",
      "[Parallel(n_jobs=4)]: Done 163 tasks      | elapsed:   37.3s\n",
      "[Parallel(n_jobs=4)]: Done 164 tasks      | elapsed:   37.4s\n",
      "[Parallel(n_jobs=4)]: Done 165 tasks      | elapsed:   38.0s\n",
      "[Parallel(n_jobs=4)]: Done 166 tasks      | elapsed:   38.2s\n",
      "[Parallel(n_jobs=4)]: Done 167 tasks      | elapsed:   38.2s\n",
      "[Parallel(n_jobs=4)]: Done 168 tasks      | elapsed:   38.3s\n",
      "[Parallel(n_jobs=4)]: Done 175 out of 175 | elapsed:   39.9s finished\n"
     ]
    },
    {
     "name": "stdout",
     "output_type": "stream",
     "text": [
      "Best hyperparameters {'randomforestclassifier__min_samples_split': 6, 'randomforestclassifier__max_depth': 13}\n",
      "Cross-validation MAE -0.6129261261174614\n"
     ]
    }
   ],
   "source": [
    "from sklearn.ensemble import RandomForestRegressor\n",
    "from scipy.stats import randint, uniform\n",
    "\n",
    "model7 = make_pipeline(\n",
    "    ce.OrdinalEncoder(), \n",
    "    SimpleImputer(), \n",
    "      StandardScaler(), \n",
    "    RandomForestRegressor(random_state=42)\n",
    ")\n",
    "\n",
    "param_distributions = {\n",
    "    'targetencoder__min_samples_leaf': randint(1, 1000),     \n",
    "    'simpleimputer__strategy': ['mean', 'median'], \n",
    "    'randomforestregressor__n_estimators': 15, \n",
    "    'randomforestregressor__max_depth': 14, \n",
    "    'randomforestregressor__max_features': 0.3763983510221083, \n",
    "}\n",
    "\n",
    "search.fit(X_train, y_train);\n",
    "\n",
    "print('Best hyperparameters', search.best_params_)\n",
    "print('Cross-validation MAE', -search.best_score_)"
   ]
  },
  {
   "cell_type": "code",
   "execution_count": 24,
   "metadata": {},
   "outputs": [
    {
     "data": {
      "text/plain": [
       "Pipeline(steps=[('ordinalencoder',\n",
       "                 OrdinalEncoder(cols=['MPAA Rating', 'Directors', 'Country',\n",
       "                                      'Action', 'Adventure', 'Animation',\n",
       "                                      'Biography', 'Comedy', 'Crime',\n",
       "                                      'Documentary', 'Drama', 'Family',\n",
       "                                      'Fantasy', 'Film Noir', 'History',\n",
       "                                      'Horror', 'Music', 'Musical', 'Mystery',\n",
       "                                      'Romance', 'Sci-Fi', 'Short Film',\n",
       "                                      'Sport', 'Superhero', 'Thriller', 'War',\n",
       "                                      'Western'],\n",
       "                                mapping=[{'col': 'MPA...\n",
       "                                         {'col': 'War', 'data_type': dtype('O'),\n",
       "                                          'mapping': False    1\n",
       "True     2\n",
       "NaN     -2\n",
       "dtype: int64},\n",
       "                                         {'col': 'Western',\n",
       "                                          'data_type': dtype('O'),\n",
       "                                          'mapping': False    1\n",
       "True     2\n",
       "NaN     -2\n",
       "dtype: int64}])),\n",
       "                ('simpleimputer', SimpleImputer(strategy='median')),\n",
       "                ('standardscaler', StandardScaler()),\n",
       "                ('randomforestclassifier',\n",
       "                 RandomForestClassifier(max_depth=13, min_samples_split=6,\n",
       "                                        n_estimators=200, n_jobs=1))])"
      ]
     },
     "execution_count": 24,
     "metadata": {},
     "output_type": "execute_result"
    }
   ],
   "source": [
    "search.best_estimator_"
   ]
  },
  {
   "cell_type": "code",
   "execution_count": 25,
   "metadata": {},
   "outputs": [],
   "source": [
    "# Partial Dependence Plot\n",
    "import matplotlib.pyplot as plt\n",
    "plt.rcParams['figure.dpi'] = 72"
   ]
  },
  {
   "cell_type": "code",
   "execution_count": 26,
   "metadata": {},
   "outputs": [
    {
     "name": "stdout",
     "output_type": "stream",
     "text": [
      "[0]\tvalidation_0-auc:0.88476\tvalidation_1-auc:0.69732\n",
      "Multiple eval metrics have been passed: 'validation_1-auc' will be used for early stopping.\n",
      "\n",
      "Will train until validation_1-auc hasn't improved in 10 rounds.\n",
      "[1]\tvalidation_0-auc:0.91152\tvalidation_1-auc:0.66004\n",
      "[2]\tvalidation_0-auc:0.92164\tvalidation_1-auc:0.67115\n",
      "[3]\tvalidation_0-auc:0.92802\tvalidation_1-auc:0.67450\n",
      "[4]\tvalidation_0-auc:0.93146\tvalidation_1-auc:0.70562\n",
      "[5]\tvalidation_0-auc:0.93664\tvalidation_1-auc:0.69420\n",
      "[6]\tvalidation_0-auc:0.93907\tvalidation_1-auc:0.68781\n",
      "[7]\tvalidation_0-auc:0.94254\tvalidation_1-auc:0.67938\n",
      "[8]\tvalidation_0-auc:0.94817\tvalidation_1-auc:0.67603\n",
      "[9]\tvalidation_0-auc:0.94955\tvalidation_1-auc:0.66706\n",
      "[10]\tvalidation_0-auc:0.95297\tvalidation_1-auc:0.67702\n",
      "[11]\tvalidation_0-auc:0.95516\tvalidation_1-auc:0.68556\n",
      "[12]\tvalidation_0-auc:0.95737\tvalidation_1-auc:0.68393\n",
      "[13]\tvalidation_0-auc:0.96006\tvalidation_1-auc:0.68287\n",
      "[14]\tvalidation_0-auc:0.96151\tvalidation_1-auc:0.68958\n",
      "Stopping. Best iteration:\n",
      "[4]\tvalidation_0-auc:0.93146\tvalidation_1-auc:0.70562\n",
      "\n"
     ]
    },
    {
     "data": {
      "text/plain": [
       "XGBClassifier(base_score=0.5, booster='gbtree', colsample_bylevel=1,\n",
       "              colsample_bynode=1, colsample_bytree=1, gamma=0, gpu_id=-1,\n",
       "              importance_type='gain', interaction_constraints='',\n",
       "              learning_rate=0.300000012, max_delta_step=0, max_depth=6,\n",
       "              min_child_weight=1, missing=nan, monotone_constraints='()',\n",
       "              n_estimators=1000, n_jobs=-1, num_parallel_tree=1, random_state=0,\n",
       "              reg_alpha=0, reg_lambda=1, scale_pos_weight=1, subsample=1,\n",
       "              tree_method='exact', validate_parameters=1, verbosity=None)"
      ]
     },
     "execution_count": 26,
     "metadata": {},
     "output_type": "execute_result"
    }
   ],
   "source": [
    "import category_encoders as ce\n",
    "from sklearn.impute import SimpleImputer\n",
    "from sklearn.pipeline import make_pipeline\n",
    "from xgboost import XGBClassifier\n",
    "\n",
    "processor = make_pipeline(\n",
    "    ce.OrdinalEncoder(), \n",
    "    SimpleImputer(strategy='median')\n",
    ")\n",
    "\n",
    "X_train_processed = processor.fit_transform(X_train)\n",
    "X_val_processed = processor.transform(X_val)\n",
    "\n",
    "eval_set = [(X_train_processed, y_train), \n",
    "            (X_val_processed, y_val)]\n",
    "\n",
    "model = XGBClassifier(n_estimators=1000, n_jobs=-1)\n",
    "model.fit(X_train_processed, y_train, eval_set=eval_set, eval_metric='auc', \n",
    "          early_stopping_rounds=10)"
   ]
  },
  {
   "cell_type": "code",
   "execution_count": 27,
   "metadata": {},
   "outputs": [
    {
     "name": "stdout",
     "output_type": "stream",
     "text": [
      "Test ROC AUC for class 1:\n",
      "0.7056247580190245\n"
     ]
    }
   ],
   "source": [
    "from sklearn.metrics import roc_auc_score\n",
    "X_val_processed = processor.transform(X_val)\n",
    "class_index = 1\n",
    "y_pred_proba = model.predict_proba(X_val_processed)[:, class_index]\n",
    "print(f'Test ROC AUC for class {class_index}:')\n",
    "print(roc_auc_score(y_val, y_pred_proba)) # Ranges from 0-1, higher is better"
   ]
  },
  {
   "cell_type": "markdown",
   "metadata": {},
   "source": [
    "# Partial Dependence Plot"
   ]
  },
  {
   "cell_type": "code",
   "execution_count": 28,
   "metadata": {},
   "outputs": [
    {
     "name": "stdout",
     "output_type": "stream",
     "text": [
      "Gradient Boosting R^2 -0.17342556168343015\n"
     ]
    }
   ],
   "source": [
    "from sklearn.metrics import r2_score\n",
    "from xgboost import XGBRegressor\n",
    "\n",
    "gb = make_pipeline(\n",
    "    ce.OrdinalEncoder(), \n",
    "    XGBRegressor(n_estimators=200, objective='reg:squarederror', n_jobs=-1)\n",
    ")\n",
    "\n",
    "gb.fit(X_train, y_train)\n",
    "y_pred = gb.predict(X_val)\n",
    "print('Gradient Boosting R^2', r2_score(y_val, y_pred))"
   ]
  },
  {
   "cell_type": "code",
   "execution_count": 29,
   "metadata": {},
   "outputs": [],
   "source": [
    "import matplotlib.pyplot as plt\n",
    "plt.rcParams['figure.dpi'] = 72"
   ]
  },
  {
   "cell_type": "code",
   "execution_count": 30,
   "metadata": {},
   "outputs": [
    {
     "data": {
      "text/plain": [
       "Year           0\n",
       "MPAA Rating    0\n",
       "Netflix        0\n",
       "Hulu           0\n",
       "Prime Video    0\n",
       "Disney+        0\n",
       "Directors      0\n",
       "Country        0\n",
       "Runtime        0\n",
       "Action         0\n",
       "Adventure      0\n",
       "Animation      0\n",
       "Biography      0\n",
       "Comedy         0\n",
       "Crime          0\n",
       "Documentary    0\n",
       "Drama          0\n",
       "Family         0\n",
       "Fantasy        0\n",
       "Film Noir      0\n",
       "History        0\n",
       "Horror         0\n",
       "Music          0\n",
       "Musical        0\n",
       "Mystery        0\n",
       "Romance        0\n",
       "Sci-Fi         0\n",
       "Short Film     0\n",
       "Sport          0\n",
       "Superhero      0\n",
       "Thriller       0\n",
       "War            0\n",
       "Western        0\n",
       "dtype: int64"
      ]
     },
     "execution_count": 30,
     "metadata": {},
     "output_type": "execute_result"
    }
   ],
   "source": [
    "X_val.isnull().sum()"
   ]
  },
  {
   "cell_type": "code",
   "execution_count": 31,
   "metadata": {},
   "outputs": [],
   "source": [
    "import matplotlib.pyplot as plt\n",
    "plt.rcParams['figure.dpi'] = 72"
   ]
  },
  {
   "cell_type": "code",
   "execution_count": 32,
   "metadata": {},
   "outputs": [
    {
     "ename": "NameError",
     "evalue": "name 'model3' is not defined",
     "output_type": "error",
     "traceback": [
      "\u001b[0;31m---------------------------------------------------------------------------\u001b[0m",
      "\u001b[0;31mNameError\u001b[0m                                 Traceback (most recent call last)",
      "\u001b[0;32m<ipython-input-32-32dfe3f45940>\u001b[0m in \u001b[0;36m<module>\u001b[0;34m\u001b[0m\n\u001b[1;32m      4\u001b[0m \u001b[0;34m\u001b[0m\u001b[0m\n\u001b[1;32m      5\u001b[0m isolated = pdp_isolate(\n\u001b[0;32m----> 6\u001b[0;31m     \u001b[0mmodel\u001b[0m\u001b[0;34m=\u001b[0m\u001b[0mmodel3\u001b[0m\u001b[0;34m,\u001b[0m\u001b[0;34m\u001b[0m\u001b[0;34m\u001b[0m\u001b[0m\n\u001b[0m\u001b[1;32m      7\u001b[0m     \u001b[0mdataset\u001b[0m\u001b[0;34m=\u001b[0m\u001b[0mX_val\u001b[0m\u001b[0;34m,\u001b[0m\u001b[0;34m\u001b[0m\u001b[0;34m\u001b[0m\u001b[0m\n\u001b[1;32m      8\u001b[0m     \u001b[0mmodel_features\u001b[0m\u001b[0;34m=\u001b[0m\u001b[0mX_val\u001b[0m\u001b[0;34m.\u001b[0m\u001b[0mcolumns\u001b[0m\u001b[0;34m,\u001b[0m\u001b[0;34m\u001b[0m\u001b[0;34m\u001b[0m\u001b[0m\n",
      "\u001b[0;31mNameError\u001b[0m: name 'model3' is not defined"
     ]
    }
   ],
   "source": [
    "from pdpbox.pdp import pdp_isolate, pdp_plot\n",
    "\n",
    "feature = 'Runtime'\n",
    "\n",
    "isolated = pdp_isolate(\n",
    "    model=model3,\n",
    "    dataset=X_val,\n",
    "    model_features=X_val.columns,\n",
    "    feature=feature\n",
    ")"
   ]
  },
  {
   "cell_type": "code",
   "execution_count": null,
   "metadata": {},
   "outputs": [],
   "source": [
    "pdp_plot(isolated, feature_name=feature, plot_lines=True);"
   ]
  },
  {
   "cell_type": "code",
   "execution_count": null,
   "metadata": {},
   "outputs": [],
   "source": [
    "from pdpbox.pdp import pdp_interact, pdp_interact_plot\n",
    "\n",
    "features = ['Runtime', 'Year']\n",
    "\n",
    "interaction = pdp_interact(\n",
    "    model=model3,\n",
    "    dataset=X_val,\n",
    "    model_features=X_val.columns,\n",
    "    features=features\n",
    ")\n",
    "\n",
    "pdp_interact_plot(interaction, plot_type='grid', feature_names=features);"
   ]
  },
  {
   "cell_type": "code",
   "execution_count": null,
   "metadata": {},
   "outputs": [],
   "source": [
    "row = X_val.iloc[[0]]\n",
    "row"
   ]
  },
  {
   "cell_type": "code",
   "execution_count": null,
   "metadata": {},
   "outputs": [],
   "source": [
    "y_val.iloc[[0]]"
   ]
  },
  {
   "cell_type": "code",
   "execution_count": null,
   "metadata": {},
   "outputs": [],
   "source": [
    "model3.predict(row)"
   ]
  },
  {
   "cell_type": "code",
   "execution_count": null,
   "metadata": {},
   "outputs": [],
   "source": [
    "!pip install shap"
   ]
  },
  {
   "cell_type": "code",
   "execution_count": null,
   "metadata": {},
   "outputs": [],
   "source": [
    "import shap\n",
    "\n",
    "explainer = shap.TreeExplainer(model3)\n",
    "shap_values = explainer.shap_values(row)\n",
    "shap.initjs()\n",
    "shap.force_plot(\n",
    "    base_value=explainer.expected_value,\n",
    "    shap_values=shap_values,\n",
    "    features=row\n",
    ")"
   ]
  },
  {
   "cell_type": "code",
   "execution_count": null,
   "metadata": {},
   "outputs": [],
   "source": []
  }
 ],
 "metadata": {
  "kernelspec": {
   "display_name": "Python 3",
   "language": "python",
   "name": "python3"
  },
  "language_info": {
   "codemirror_mode": {
    "name": "ipython",
    "version": 3
   },
   "file_extension": ".py",
   "mimetype": "text/x-python",
   "name": "python",
   "nbconvert_exporter": "python",
   "pygments_lexer": "ipython3",
   "version": "3.7.6"
  }
 },
 "nbformat": 4,
 "nbformat_minor": 1
}
